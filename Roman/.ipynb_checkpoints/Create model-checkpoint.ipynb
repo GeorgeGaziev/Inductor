{
 "cells": [
  {
   "cell_type": "markdown",
   "metadata": {},
   "source": [
    "План\n",
    "- Разные представления данных\n",
    "    - bag of letter to ascii\n",
    "    - bag of letter (верхний и нижний регистр)\n",
    "    - bag of letter (нижний регистр только)\n",
    "- Построить разные модели\n"
   ]
  },
  {
   "cell_type": "code",
   "execution_count": 359,
   "metadata": {},
   "outputs": [],
   "source": [
    "PATH_TO_DATA=\"../../Inductor/data/50k real fullName/\"\n",
    "\n",
    "import pandas as pd\n",
    "import os.path\n",
    "import numpy as np\n",
    "import pickle\n",
    "\n",
    "%matplotlib inline\n",
    "import matplotlib.pyplot as plt\n",
    "import seaborn as sns\n",
    "\n",
    "from sklearn.ensemble import RandomForestClassifier\n",
    "from sklearn.linear_model import LogisticRegression\n",
    "from xgboost import XGBClassifier\n",
    "\n",
    "from sklearn.model_selection import cross_val_score\n",
    "from sklearn.metrics import accuracy_score\n",
    "from sklearn.model_selection import train_test_split\n",
    "\n",
    "from tqdm import tqdm_notebook,tqdm\n",
    "\n",
    "from hyperopt import hp\n",
    "from hyperopt import fmin, tpe, STATUS_OK, Trials"
   ]
  },
  {
   "cell_type": "markdown",
   "metadata": {},
   "source": [
    "### Погдотовка DataSet-a"
   ]
  },
  {
   "cell_type": "code",
   "execution_count": 2,
   "metadata": {
    "collapsed": true
   },
   "outputs": [],
   "source": [
    "# Десериализация\n",
    "with open(PATH_TO_DATA+\"fullName_true.pickle\",\"rb\") as f:\n",
    "    data_train=pickle.load(f)\n",
    "    \n",
    "with open(PATH_TO_DATA+\"fullName_changed.pickle\",\"rb\") as f:\n",
    "    data_test=pickle.load(f)"
   ]
  },
  {
   "cell_type": "code",
   "execution_count": 18,
   "metadata": {},
   "outputs": [
    {
     "data": {
      "text/html": [
       "<div>\n",
       "<style>\n",
       "    .dataframe thead tr:only-child th {\n",
       "        text-align: right;\n",
       "    }\n",
       "\n",
       "    .dataframe thead th {\n",
       "        text-align: left;\n",
       "    }\n",
       "\n",
       "    .dataframe tbody tr th {\n",
       "        vertical-align: top;\n",
       "    }\n",
       "</style>\n",
       "<table border=\"1\" class=\"dataframe\">\n",
       "  <thead>\n",
       "    <tr style=\"text-align: right;\">\n",
       "      <th></th>\n",
       "      <th>Фамилия</th>\n",
       "      <th>Имя</th>\n",
       "      <th>Отчество</th>\n",
       "    </tr>\n",
       "  </thead>\n",
       "  <tbody>\n",
       "    <tr>\n",
       "      <th>0</th>\n",
       "      <td>Костенко</td>\n",
       "      <td>Денис</td>\n",
       "      <td>Александрович</td>\n",
       "    </tr>\n",
       "    <tr>\n",
       "      <th>1</th>\n",
       "      <td>Блинова</td>\n",
       "      <td>Алена</td>\n",
       "      <td>Алексеена</td>\n",
       "    </tr>\n",
       "  </tbody>\n",
       "</table>\n",
       "</div>"
      ],
      "text/plain": [
       "    Фамилия    Имя       Отчество\n",
       "0  Костенко  Денис  Александрович\n",
       "1   Блинова  Алена      Алексеена"
      ]
     },
     "execution_count": 18,
     "metadata": {},
     "output_type": "execute_result"
    }
   ],
   "source": [
    "# DataFrame полный\n",
    "table_train=[ j.split(\" \") for j in data_train]\n",
    "table_train=pd.DataFrame(table_train,columns=[\"Фамилия\",\"Имя\",\"Отчество\"])\n",
    "\n",
    "table_train.head(2)"
   ]
  },
  {
   "cell_type": "code",
   "execution_count": 71,
   "metadata": {},
   "outputs": [
    {
     "data": {
      "text/html": [
       "<div>\n",
       "<style>\n",
       "    .dataframe thead tr:only-child th {\n",
       "        text-align: right;\n",
       "    }\n",
       "\n",
       "    .dataframe thead th {\n",
       "        text-align: left;\n",
       "    }\n",
       "\n",
       "    .dataframe tbody tr th {\n",
       "        vertical-align: top;\n",
       "    }\n",
       "</style>\n",
       "<table border=\"1\" class=\"dataframe\">\n",
       "  <thead>\n",
       "    <tr style=\"text-align: right;\">\n",
       "      <th></th>\n",
       "      <th>word</th>\n",
       "      <th>lenth</th>\n",
       "      <th>class</th>\n",
       "    </tr>\n",
       "  </thead>\n",
       "  <tbody>\n",
       "    <tr>\n",
       "      <th>0</th>\n",
       "      <td>Костенко</td>\n",
       "      <td>8</td>\n",
       "      <td>1</td>\n",
       "    </tr>\n",
       "    <tr>\n",
       "      <th>1</th>\n",
       "      <td>Блинова</td>\n",
       "      <td>7</td>\n",
       "      <td>1</td>\n",
       "    </tr>\n",
       "  </tbody>\n",
       "</table>\n",
       "</div>"
      ],
      "text/plain": [
       "       word  lenth  class\n",
       "0  Костенко      8      1\n",
       "1   Блинова      7      1"
      ]
     },
     "execution_count": 71,
     "metadata": {},
     "output_type": "execute_result"
    }
   ],
   "source": [
    "# Формирование датасета\n",
    "SurnameDf=pd.DataFrame(table_train[\"Фамилия\"].values,columns=[\"word\"])\n",
    "NameDf=pd.DataFrame(table_train[\"Имя\"].values,columns=[\"word\"])\n",
    "Patronymic=pd.DataFrame(table_train[\"Отчество\"].values,columns=[\"word\"])\n",
    "\n",
    "SurnameDf[\"class\"]=1\n",
    "NameDf[\"class\"]=2\n",
    "Patronymic[\"class\"]=3\n",
    "\n",
    "data=pd.concat([SurnameDf,NameDf,Patronymic])\n",
    "\n",
    "data[\"word\"]=data[\"word\"].astype(str)\n",
    "data[\"lenth\"]=data[\"word\"].apply(lambda x: len(x)) #Длина слова\n",
    "# data[\"word\"]=data[\"word\"].apply(lambda x: x.lower()) #Нижний регистр\n",
    "data=data[[\"word\",\"lenth\",\"class\"]]\n",
    "\n",
    "data.head(2)"
   ]
  },
  {
   "cell_type": "markdown",
   "metadata": {},
   "source": [
    "## Разные представления данных"
   ]
  },
  {
   "cell_type": "markdown",
   "metadata": {},
   "source": [
    "### Bag of letter to ascii"
   ]
  },
  {
   "cell_type": "code",
   "execution_count": 72,
   "metadata": {
    "collapsed": true
   },
   "outputs": [],
   "source": [
    "def convert_to_ascii(text):\n",
    "    return \" \".join(str(ord(char)) for char in text)\n",
    "\n",
    "def convert_to_ascii2(text):\n",
    "    return [ord(i) for i in text]"
   ]
  },
  {
   "cell_type": "code",
   "execution_count": 73,
   "metadata": {
    "collapsed": true
   },
   "outputs": [],
   "source": [
    "def words_to_dataFame(column,max_lenth_word):\n",
    "    letter=['letter%s' % str(i) for i in range(1,max_lenth_word+1)]\n",
    "    \n",
    "    names_arr=[convert_to_ascii2(word) for word in column.values ]\n",
    "        \n",
    "    df=[i+(max_lenth_word-len(i))*[0] for i in names_arr]\n",
    "    df=pd.DataFrame(df,columns=letter)\n",
    "    \n",
    "    return df"
   ]
  },
  {
   "cell_type": "code",
   "execution_count": 74,
   "metadata": {},
   "outputs": [
    {
     "data": {
      "text/html": [
       "<div>\n",
       "<style>\n",
       "    .dataframe thead tr:only-child th {\n",
       "        text-align: right;\n",
       "    }\n",
       "\n",
       "    .dataframe thead th {\n",
       "        text-align: left;\n",
       "    }\n",
       "\n",
       "    .dataframe tbody tr th {\n",
       "        vertical-align: top;\n",
       "    }\n",
       "</style>\n",
       "<table border=\"1\" class=\"dataframe\">\n",
       "  <thead>\n",
       "    <tr style=\"text-align: right;\">\n",
       "      <th></th>\n",
       "      <th>word</th>\n",
       "      <th>lenth</th>\n",
       "      <th>class</th>\n",
       "      <th>ascii_word</th>\n",
       "    </tr>\n",
       "  </thead>\n",
       "  <tbody>\n",
       "    <tr>\n",
       "      <th>0</th>\n",
       "      <td>Костенко</td>\n",
       "      <td>8</td>\n",
       "      <td>1</td>\n",
       "      <td>1050 1086 1089 1090 1077 1085 1082 1086</td>\n",
       "    </tr>\n",
       "    <tr>\n",
       "      <th>1</th>\n",
       "      <td>Блинова</td>\n",
       "      <td>7</td>\n",
       "      <td>1</td>\n",
       "      <td>1041 1083 1080 1085 1086 1074 1072</td>\n",
       "    </tr>\n",
       "  </tbody>\n",
       "</table>\n",
       "</div>"
      ],
      "text/plain": [
       "       word  lenth  class                               ascii_word\n",
       "0  Костенко      8      1  1050 1086 1089 1090 1077 1085 1082 1086\n",
       "1   Блинова      7      1       1041 1083 1080 1085 1086 1074 1072"
      ]
     },
     "execution_count": 74,
     "metadata": {},
     "output_type": "execute_result"
    }
   ],
   "source": [
    "data[\"ascii_word\"]=data[\"word\"].apply(lambda x:convert_to_ascii(x) ) #Слово переведенное в ascii\n",
    "data.head(2)"
   ]
  },
  {
   "cell_type": "code",
   "execution_count": 75,
   "metadata": {},
   "outputs": [],
   "source": [
    "m=np.max(data['lenth'].values)\n",
    "letters=words_to_dataFame(data[\"word\"],m)"
   ]
  },
  {
   "cell_type": "code",
   "execution_count": 76,
   "metadata": {},
   "outputs": [
    {
     "data": {
      "text/html": [
       "<div>\n",
       "<style>\n",
       "    .dataframe thead tr:only-child th {\n",
       "        text-align: right;\n",
       "    }\n",
       "\n",
       "    .dataframe thead th {\n",
       "        text-align: left;\n",
       "    }\n",
       "\n",
       "    .dataframe tbody tr th {\n",
       "        vertical-align: top;\n",
       "    }\n",
       "</style>\n",
       "<table border=\"1\" class=\"dataframe\">\n",
       "  <thead>\n",
       "    <tr style=\"text-align: right;\">\n",
       "      <th></th>\n",
       "      <th>letter1</th>\n",
       "      <th>letter2</th>\n",
       "      <th>letter3</th>\n",
       "      <th>letter4</th>\n",
       "      <th>letter5</th>\n",
       "      <th>letter6</th>\n",
       "      <th>letter7</th>\n",
       "      <th>letter8</th>\n",
       "      <th>letter9</th>\n",
       "      <th>letter10</th>\n",
       "      <th>...</th>\n",
       "      <th>letter16</th>\n",
       "      <th>letter17</th>\n",
       "      <th>letter18</th>\n",
       "      <th>letter19</th>\n",
       "      <th>letter20</th>\n",
       "      <th>letter21</th>\n",
       "      <th>letter22</th>\n",
       "      <th>letter23</th>\n",
       "      <th>lenth</th>\n",
       "      <th>class</th>\n",
       "    </tr>\n",
       "  </thead>\n",
       "  <tbody>\n",
       "    <tr>\n",
       "      <th>0</th>\n",
       "      <td>1050</td>\n",
       "      <td>1086</td>\n",
       "      <td>1089</td>\n",
       "      <td>1090</td>\n",
       "      <td>1077</td>\n",
       "      <td>1085</td>\n",
       "      <td>1082</td>\n",
       "      <td>1086</td>\n",
       "      <td>0</td>\n",
       "      <td>0</td>\n",
       "      <td>...</td>\n",
       "      <td>0</td>\n",
       "      <td>0</td>\n",
       "      <td>0</td>\n",
       "      <td>0</td>\n",
       "      <td>0</td>\n",
       "      <td>0</td>\n",
       "      <td>0</td>\n",
       "      <td>0</td>\n",
       "      <td>8</td>\n",
       "      <td>1</td>\n",
       "    </tr>\n",
       "    <tr>\n",
       "      <th>1</th>\n",
       "      <td>1041</td>\n",
       "      <td>1083</td>\n",
       "      <td>1080</td>\n",
       "      <td>1085</td>\n",
       "      <td>1086</td>\n",
       "      <td>1074</td>\n",
       "      <td>1072</td>\n",
       "      <td>0</td>\n",
       "      <td>0</td>\n",
       "      <td>0</td>\n",
       "      <td>...</td>\n",
       "      <td>0</td>\n",
       "      <td>0</td>\n",
       "      <td>0</td>\n",
       "      <td>0</td>\n",
       "      <td>0</td>\n",
       "      <td>0</td>\n",
       "      <td>0</td>\n",
       "      <td>0</td>\n",
       "      <td>7</td>\n",
       "      <td>1</td>\n",
       "    </tr>\n",
       "  </tbody>\n",
       "</table>\n",
       "<p>2 rows × 25 columns</p>\n",
       "</div>"
      ],
      "text/plain": [
       "   letter1  letter2  letter3  letter4  letter5  letter6  letter7  letter8  \\\n",
       "0     1050     1086     1089     1090     1077     1085     1082     1086   \n",
       "1     1041     1083     1080     1085     1086     1074     1072        0   \n",
       "\n",
       "   letter9  letter10  ...    letter16  letter17  letter18  letter19  letter20  \\\n",
       "0        0         0  ...           0         0         0         0         0   \n",
       "1        0         0  ...           0         0         0         0         0   \n",
       "\n",
       "   letter21  letter22  letter23  lenth  class  \n",
       "0         0         0         0      8      1  \n",
       "1         0         0         0      7      1  \n",
       "\n",
       "[2 rows x 25 columns]"
      ]
     },
     "execution_count": 76,
     "metadata": {},
     "output_type": "execute_result"
    }
   ],
   "source": [
    "df_ascii=pd.concat([letters[letters.columns],data[['lenth','class']]],axis=1, join_axes=[data.index])\n",
    "\n",
    "data.drop(\"ascii_word\",axis=1,inplace=True)\n",
    "df_ascii.head(2)"
   ]
  },
  {
   "cell_type": "markdown",
   "metadata": {},
   "source": [
    "### Bag of letter (верхний и нижний регистр)"
   ]
  },
  {
   "cell_type": "code",
   "execution_count": 255,
   "metadata": {
    "collapsed": true
   },
   "outputs": [],
   "source": [
    "def word_to_alphabet(column):\n",
    "    alphabet=['а','б','в','г','д','е','ё','ж','з','и','й','к','л','м','н','о',\n",
    "          'п','р','с','т','у','ф','х','ц','ч','ш','щ','ъ','ы','ь','э','ю','я',\"e\",\"t\",\"c\"] # исключит слово с .\n",
    "    alphabet=alphabet+[i.upper() for i in alphabet]+[\"-\",\".\"]\n",
    "    \n",
    "    alphabet2={i:0 for i in alphabet}\n",
    "    \n",
    "    array=[]\n",
    "    \n",
    "    for k,word in enumerate(tqdm_notebook(column.values)):\n",
    "        alphabet3=alphabet2.copy()\n",
    "        for i in word:\n",
    "            alphabet3[i]+=1\n",
    "        array.append(alphabet3.values())\n",
    "        \n",
    "    df=pd.DataFrame(array,columns=alphabet)\n",
    "        \n",
    "    return df"
   ]
  },
  {
   "cell_type": "code",
   "execution_count": 256,
   "metadata": {},
   "outputs": [
    {
     "data": {
      "application/vnd.jupyter.widget-view+json": {
       "model_id": "6f8d0f9c1c1b45c8b455b2e672d92beb"
      }
     },
     "metadata": {},
     "output_type": "display_data"
    },
    {
     "name": "stdout",
     "output_type": "stream",
     "text": [
      "\n"
     ]
    }
   ],
   "source": [
    "df_BOLetters_both_register=word_to_alphabet(data[\"word\"])"
   ]
  },
  {
   "cell_type": "code",
   "execution_count": 258,
   "metadata": {},
   "outputs": [
    {
     "data": {
      "text/html": [
       "<div>\n",
       "<style>\n",
       "    .dataframe thead tr:only-child th {\n",
       "        text-align: right;\n",
       "    }\n",
       "\n",
       "    .dataframe thead th {\n",
       "        text-align: left;\n",
       "    }\n",
       "\n",
       "    .dataframe tbody tr th {\n",
       "        vertical-align: top;\n",
       "    }\n",
       "</style>\n",
       "<table border=\"1\" class=\"dataframe\">\n",
       "  <thead>\n",
       "    <tr style=\"text-align: right;\">\n",
       "      <th></th>\n",
       "      <th>а</th>\n",
       "      <th>б</th>\n",
       "      <th>в</th>\n",
       "      <th>г</th>\n",
       "      <th>д</th>\n",
       "      <th>е</th>\n",
       "      <th>ё</th>\n",
       "      <th>ж</th>\n",
       "      <th>з</th>\n",
       "      <th>и</th>\n",
       "      <th>...</th>\n",
       "      <th>Э</th>\n",
       "      <th>Ю</th>\n",
       "      <th>Я</th>\n",
       "      <th>E</th>\n",
       "      <th>T</th>\n",
       "      <th>C</th>\n",
       "      <th>-</th>\n",
       "      <th>.</th>\n",
       "      <th>lenth</th>\n",
       "      <th>class</th>\n",
       "    </tr>\n",
       "  </thead>\n",
       "  <tbody>\n",
       "    <tr>\n",
       "      <th>0</th>\n",
       "      <td>0</td>\n",
       "      <td>0</td>\n",
       "      <td>0</td>\n",
       "      <td>0</td>\n",
       "      <td>0</td>\n",
       "      <td>1</td>\n",
       "      <td>0</td>\n",
       "      <td>0</td>\n",
       "      <td>0</td>\n",
       "      <td>0</td>\n",
       "      <td>...</td>\n",
       "      <td>0</td>\n",
       "      <td>0</td>\n",
       "      <td>0</td>\n",
       "      <td>0</td>\n",
       "      <td>0</td>\n",
       "      <td>0</td>\n",
       "      <td>0</td>\n",
       "      <td>0</td>\n",
       "      <td>8</td>\n",
       "      <td>1</td>\n",
       "    </tr>\n",
       "    <tr>\n",
       "      <th>1</th>\n",
       "      <td>1</td>\n",
       "      <td>0</td>\n",
       "      <td>1</td>\n",
       "      <td>0</td>\n",
       "      <td>0</td>\n",
       "      <td>0</td>\n",
       "      <td>0</td>\n",
       "      <td>0</td>\n",
       "      <td>0</td>\n",
       "      <td>1</td>\n",
       "      <td>...</td>\n",
       "      <td>0</td>\n",
       "      <td>0</td>\n",
       "      <td>0</td>\n",
       "      <td>0</td>\n",
       "      <td>0</td>\n",
       "      <td>0</td>\n",
       "      <td>0</td>\n",
       "      <td>0</td>\n",
       "      <td>7</td>\n",
       "      <td>1</td>\n",
       "    </tr>\n",
       "  </tbody>\n",
       "</table>\n",
       "<p>2 rows × 76 columns</p>\n",
       "</div>"
      ],
      "text/plain": [
       "   а  б  в  г  д  е  ё  ж  з  и  ...    Э  Ю  Я  E  T  C  -  .  lenth  class\n",
       "0  0  0  0  0  0  1  0  0  0  0  ...    0  0  0  0  0  0  0  0      8      1\n",
       "1  1  0  1  0  0  0  0  0  0  1  ...    0  0  0  0  0  0  0  0      7      1\n",
       "\n",
       "[2 rows x 76 columns]"
      ]
     },
     "execution_count": 258,
     "metadata": {},
     "output_type": "execute_result"
    }
   ],
   "source": [
    "df_BOLetters_both_register[\"lenth\"]=data[\"lenth\"].values\n",
    "df_BOLetters_both_register[\"class\"]=data[\"class\"].values\n",
    "df_BOLetters_both_register.head(2)"
   ]
  },
  {
   "cell_type": "markdown",
   "metadata": {},
   "source": [
    "### Bag of letter (нижний регистр только)"
   ]
  },
  {
   "cell_type": "code",
   "execution_count": 260,
   "metadata": {
    "collapsed": true
   },
   "outputs": [],
   "source": [
    "def word_to_alphabet_lower(column):\n",
    "    alphabet=['а','б','в','г','д','е','ё','ж','з','и','й','к','л','м','н','о',\n",
    "          'п','р','с','т','у','ф','х','ц','ч','ш','щ','ъ','ы','ь','э','ю','я',\"e\",\"t\",\"c\",\"-\",\".\"] # исключит слово с .\n",
    "    \n",
    "    alphabet2={i:0 for i in alphabet}\n",
    "    \n",
    "    array=[]\n",
    "    \n",
    "    for k,word in enumerate(tqdm_notebook(column.values)):\n",
    "        alphabet3=alphabet2.copy()\n",
    "        for i in word:\n",
    "            alphabet3[i]+=1\n",
    "        array.append(alphabet3.values())\n",
    "        \n",
    "    df=pd.DataFrame(array,columns=alphabet)\n",
    "        \n",
    "    return df"
   ]
  },
  {
   "cell_type": "code",
   "execution_count": 261,
   "metadata": {},
   "outputs": [
    {
     "data": {
      "application/vnd.jupyter.widget-view+json": {
       "model_id": "ed30eddb139a47d284c0abcbf3a34091"
      }
     },
     "metadata": {},
     "output_type": "display_data"
    },
    {
     "name": "stdout",
     "output_type": "stream",
     "text": [
      "\n"
     ]
    }
   ],
   "source": [
    "df_BOLetters_lower=word_to_alphabet_lower((data[\"word\"].apply(lambda x:x.lower())))"
   ]
  },
  {
   "cell_type": "code",
   "execution_count": 272,
   "metadata": {},
   "outputs": [
    {
     "data": {
      "text/html": [
       "<div>\n",
       "<style>\n",
       "    .dataframe thead tr:only-child th {\n",
       "        text-align: right;\n",
       "    }\n",
       "\n",
       "    .dataframe thead th {\n",
       "        text-align: left;\n",
       "    }\n",
       "\n",
       "    .dataframe tbody tr th {\n",
       "        vertical-align: top;\n",
       "    }\n",
       "</style>\n",
       "<table border=\"1\" class=\"dataframe\">\n",
       "  <thead>\n",
       "    <tr style=\"text-align: right;\">\n",
       "      <th></th>\n",
       "      <th>а</th>\n",
       "      <th>б</th>\n",
       "      <th>в</th>\n",
       "      <th>г</th>\n",
       "      <th>д</th>\n",
       "      <th>е</th>\n",
       "      <th>ё</th>\n",
       "      <th>ж</th>\n",
       "      <th>з</th>\n",
       "      <th>и</th>\n",
       "      <th>...</th>\n",
       "      <th>э</th>\n",
       "      <th>ю</th>\n",
       "      <th>я</th>\n",
       "      <th>e</th>\n",
       "      <th>t</th>\n",
       "      <th>c</th>\n",
       "      <th>-</th>\n",
       "      <th>.</th>\n",
       "      <th>lenth</th>\n",
       "      <th>class</th>\n",
       "    </tr>\n",
       "  </thead>\n",
       "  <tbody>\n",
       "    <tr>\n",
       "      <th>0</th>\n",
       "      <td>0</td>\n",
       "      <td>0</td>\n",
       "      <td>0</td>\n",
       "      <td>0</td>\n",
       "      <td>0</td>\n",
       "      <td>1</td>\n",
       "      <td>0</td>\n",
       "      <td>0</td>\n",
       "      <td>0</td>\n",
       "      <td>0</td>\n",
       "      <td>...</td>\n",
       "      <td>0</td>\n",
       "      <td>0</td>\n",
       "      <td>0</td>\n",
       "      <td>0</td>\n",
       "      <td>0</td>\n",
       "      <td>0</td>\n",
       "      <td>0</td>\n",
       "      <td>0</td>\n",
       "      <td>8</td>\n",
       "      <td>1</td>\n",
       "    </tr>\n",
       "    <tr>\n",
       "      <th>1</th>\n",
       "      <td>1</td>\n",
       "      <td>1</td>\n",
       "      <td>1</td>\n",
       "      <td>0</td>\n",
       "      <td>0</td>\n",
       "      <td>0</td>\n",
       "      <td>0</td>\n",
       "      <td>0</td>\n",
       "      <td>0</td>\n",
       "      <td>1</td>\n",
       "      <td>...</td>\n",
       "      <td>0</td>\n",
       "      <td>0</td>\n",
       "      <td>0</td>\n",
       "      <td>0</td>\n",
       "      <td>0</td>\n",
       "      <td>0</td>\n",
       "      <td>0</td>\n",
       "      <td>0</td>\n",
       "      <td>7</td>\n",
       "      <td>1</td>\n",
       "    </tr>\n",
       "  </tbody>\n",
       "</table>\n",
       "<p>2 rows × 40 columns</p>\n",
       "</div>"
      ],
      "text/plain": [
       "   а  б  в  г  д  е  ё  ж  з  и  ...    э  ю  я  e  t  c  -  .  lenth  class\n",
       "0  0  0  0  0  0  1  0  0  0  0  ...    0  0  0  0  0  0  0  0      8      1\n",
       "1  1  1  1  0  0  0  0  0  0  1  ...    0  0  0  0  0  0  0  0      7      1\n",
       "\n",
       "[2 rows x 40 columns]"
      ]
     },
     "execution_count": 272,
     "metadata": {},
     "output_type": "execute_result"
    }
   ],
   "source": [
    "df_BOLetters_lower[\"lenth\"]=data[\"lenth\"].values\n",
    "df_BOLetters_lower[\"class\"]=data[\"class\"].values\n",
    "df_BOLetters_lower.head(2)"
   ]
  },
  {
   "cell_type": "markdown",
   "metadata": {},
   "source": [
    "## Разбиение выборки"
   ]
  },
  {
   "cell_type": "code",
   "execution_count": 273,
   "metadata": {},
   "outputs": [],
   "source": [
    "#ascii\n",
    "X_ascii=df_ascii.drop(\"class\",axis=1)\n",
    "y_ascii=df_ascii[\"class\"]\n",
    "\n",
    "X_ascii_train,X_ascii_test,y_ascii_train,y_ascii_test=train_test_split(X_ascii,y_ascii,test_size=0.3,random_state=17,shuffle=True)\n",
    "\n",
    "\n",
    "#BOW_both\n",
    "X_both=df_BOLetters_both_register.drop(\"class\",axis=1)\n",
    "y_both=df_BOLetters_both_register[\"class\"]\n",
    "\n",
    "X_both_train,X_both_test,y_both_train,y_both_test=train_test_split(X_both,y_both,test_size=0.3,random_state=17,shuffle=True)\n",
    "\n",
    "\n",
    "\n",
    "#BOL_lower_only\n",
    "X_lower=df_BOLetters_lower.drop(\"class\",axis=1)\n",
    "y_lower=df_BOLetters_lower[\"class\"]\n",
    "\n",
    "X_lower_train,X_lower_test,y_lower_train,y_lower_test=train_test_split(X_lower,y_lower,test_size=0.3,random_state=17,shuffle=True)"
   ]
  },
  {
   "cell_type": "markdown",
   "metadata": {},
   "source": [
    "## Построение моделей"
   ]
  },
  {
   "cell_type": "code",
   "execution_count": 312,
   "metadata": {
    "collapsed": true
   },
   "outputs": [],
   "source": [
    "rf=RandomForestClassifier(random_state=17,n_jobs=-1)\n",
    "lr=LogisticRegression(random_state=17)\n",
    "xgb=XGBClassifier(seed=17)"
   ]
  },
  {
   "cell_type": "code",
   "execution_count": 313,
   "metadata": {},
   "outputs": [
    {
     "data": {
      "application/vnd.jupyter.widget-view+json": {
       "model_id": "5ca79fb22c6d4eb6876fb4a1cf81ded6"
      }
     },
     "metadata": {},
     "output_type": "display_data"
    },
    {
     "name": "stdout",
     "output_type": "stream",
     "text": [
      "rf 0 accuracy: 0.8061113641938535\n",
      "lr 0 accuracy: 0.63901251007464\n",
      "xgb 0 accuracy: 0.8369835651960612\n",
      "\n",
      "rf 1 accuracy: 0.9777306654518695\n",
      "lr 1 accuracy: 0.8961698847110768\n",
      "xgb 1 accuracy: 0.9260784245015243\n",
      "\n",
      "rf 2 accuracy: 0.9757507796895258\n",
      "lr 2 accuracy: 0.860602025440656\n",
      "xgb 2 accuracy: 0.908697480463959\n",
      "\n"
     ]
    }
   ],
   "source": [
    "#Выбор моделией для дальнейшего учучшения\n",
    "train_lst=[[X_ascii_train,y_ascii_train],[X_both_train,y_both_train],[X_lower_train,y_lower_train]]\n",
    "test_lst=[[X_ascii_test,y_ascii_test],[X_both_test,y_both_test],[X_lower_test,y_lower_test]]\n",
    "\n",
    "model_lst=[rf,lr,xgb]\n",
    "\n",
    "for i in tqdm_notebook(range(3)):\n",
    "    rf=model_lst[0].fit(train_lst[i][0],train_lst[i][1])\n",
    "    lr=model_lst[1].fit(train_lst[i][0],train_lst[i][1])\n",
    "    xgb=model_lst[2].fit(train_lst[i][0],train_lst[i][1])\n",
    "    \n",
    "    print(\"rf {0} accuracy: {1}\".format(i,accuracy_score(test_lst[i][1],rf.predict(test_lst[i][0]))))\n",
    "    print(\"lr {0} accuracy: {1}\".format(i,accuracy_score(test_lst[i][1],lr.predict(test_lst[i][0]))))\n",
    "    print(\"xgb {0} accuracy: {1}\\n\".format(i,accuracy_score(test_lst[i][1],xgb.predict(test_lst[i][0]))))"
   ]
  },
  {
   "cell_type": "markdown",
   "metadata": {},
   "source": [
    "Так как ***Линейная регрессия*** показала себя хуже всего ее и ***отбросим***\n",
    "\n",
    "Также обучасть будем на наборе ***X_both*** так как он показал себе лучше всего (фичи-алфавит в верхнем и нижмен регистре)"
   ]
  },
  {
   "cell_type": "markdown",
   "metadata": {},
   "source": [
    "## EDA"
   ]
  },
  {
   "cell_type": "code",
   "execution_count": 328,
   "metadata": {
    "scrolled": true
   },
   "outputs": [
    {
     "data": {
      "text/plain": [
       "class    1.000000e+00\n",
       "lenth    4.168010e-01\n",
       "ч        3.889743e-01\n",
       "В        2.647937e-01\n",
       "и        2.548134e-01\n",
       "н        2.359434e-01\n",
       "в        2.299835e-01\n",
       "л        2.191561e-01\n",
       "е        2.166014e-01\n",
       "А        1.837265e-01\n",
       "д        1.739349e-01\n",
       "ь        1.719180e-01\n",
       "р        1.476927e-01\n",
       "а        1.144860e-01\n",
       "Н        9.079865e-02\n",
       "Ю        8.898949e-02\n",
       "г        8.805384e-02\n",
       "с        7.201229e-02\n",
       "И        5.830901e-02\n",
       "т        3.297823e-02\n",
       "м        1.878721e-02\n",
       "Э        1.197289e-02\n",
       "-        7.970036e-03\n",
       "э        4.524946e-03\n",
       "Е        3.895047e-03\n",
       "c        2.807955e-03\n",
       ".        2.807955e-03\n",
       "Ы        1.621182e-03\n",
       "О        2.151481e-04\n",
       "T       -5.730590e-20\n",
       "             ...     \n",
       "х       -5.007269e-02\n",
       "У       -5.147758e-02\n",
       "Д       -5.544444e-02\n",
       "Л       -5.771888e-02\n",
       "Ж       -5.809382e-02\n",
       "Х       -6.344421e-02\n",
       "к       -6.355785e-02\n",
       "ж       -6.524327e-02\n",
       "щ       -7.210795e-02\n",
       "ю       -7.821513e-02\n",
       "З       -8.435050e-02\n",
       "Т       -8.496227e-02\n",
       "П       -8.508872e-02\n",
       "я       -8.555665e-02\n",
       "Ч       -9.821556e-02\n",
       "з       -1.170375e-01\n",
       "Ш       -1.230331e-01\n",
       "б       -1.253138e-01\n",
       "ы       -1.353656e-01\n",
       "Б       -1.357325e-01\n",
       "п       -1.451151e-01\n",
       "ц       -1.481186e-01\n",
       "ш       -1.650092e-01\n",
       "К       -2.096771e-01\n",
       "у       -2.297923e-01\n",
       "t                 NaN\n",
       "Ё                 NaN\n",
       "Ъ                 NaN\n",
       "E                 NaN\n",
       "C                 NaN\n",
       "Name: class, Length: 76, dtype: float64"
      ]
     },
     "execution_count": 328,
     "metadata": {},
     "output_type": "execute_result"
    }
   ],
   "source": [
    "df_BOLetters_both_register.corr()[\"class\"].sort_values(ascending=False)"
   ]
  },
  {
   "cell_type": "markdown",
   "metadata": {},
   "source": [
    "..."
   ]
  },
  {
   "cell_type": "markdown",
   "metadata": {},
   "source": [
    "---------------------"
   ]
  },
  {
   "cell_type": "code",
   "execution_count": 358,
   "metadata": {
    "collapsed": true
   },
   "outputs": [],
   "source": [
    "#Разбиение выборки\n",
    "X_=df_BOLetters_both_register.drop(\"class\",axis=1)\n",
    "y=df_BOLetters_both_register[\"class\"]\n",
    "\n",
    "X_train,X_test,y_train,y_test=train_test_split(X_both,y_both,test_size=0.3,random_state=17,shuffle=True)"
   ]
  },
  {
   "cell_type": "markdown",
   "metadata": {},
   "source": [
    "### Тюнинг randomForest"
   ]
  },
  {
   "cell_type": "code",
   "execution_count": 461,
   "metadata": {},
   "outputs": [],
   "source": [
    "def score(params):\n",
    "    rf=RandomForestClassifier(random_state=17,n_jobs=-1,n_estimators=params[\"n_estimators\"])\n",
    "    \n",
    "    print(\"Training with params:\")\n",
    "    print(params)\n",
    "    \n",
    "    rf.fit(X_train,y_train)\n",
    "    predict=rf.predict(X_test)\n",
    "    \n",
    "    accuracy=-accuracy_score(y_test,predict)\n",
    "    print(\"\\tScore {0}\\n\\n\".format(accuracy))\n",
    "    return {'loss': accuracy, 'status': STATUS_OK}"
   ]
  },
  {
   "cell_type": "code",
   "execution_count": 462,
   "metadata": {
    "collapsed": true
   },
   "outputs": [],
   "source": [
    "# def optimize(trials):\n",
    "#     space={\"n_estimators\":100,\n",
    "#           \"min_samples_leaf\":,\n",
    "#           \"max_depth\":,\n",
    "#           \"min_samples_split\":,\n",
    "#           }"
   ]
  },
  {
   "cell_type": "code",
   "execution_count": 471,
   "metadata": {},
   "outputs": [],
   "source": [
    "def optimize(trials):\n",
    "    space={\"n_estimators\":hp.choice(\"n_estimators\",range(1,100,5)) \n",
    "          }\n",
    "    best=fmin(score,space,algo=tpe.suggest, trials=trials, max_evals=3)\n",
    "    return best"
   ]
  },
  {
   "cell_type": "code",
   "execution_count": 472,
   "metadata": {},
   "outputs": [
    {
     "name": "stdout",
     "output_type": "stream",
     "text": [
      "Training with params:\n",
      "{'n_estimators': 16}\n",
      "\tScore -0.9781336510495147\n",
      "\n",
      "\n",
      "Training with params:\n",
      "{'n_estimators': 36}\n",
      "\tScore -0.9789746644706872\n",
      "\n",
      "\n",
      "Training with params:\n",
      "{'n_estimators': 76}\n",
      "\tScore -0.9794302134071556\n",
      "\n",
      "\n"
     ]
    },
    {
     "data": {
      "text/plain": [
       "{'n_estimators': 15}"
      ]
     },
     "execution_count": 472,
     "metadata": {},
     "output_type": "execute_result"
    }
   ],
   "source": [
    "trials=Trials()\n",
    "b=optimize(trials)\n",
    "b"
   ]
  },
  {
   "cell_type": "code",
   "execution_count": 474,
   "metadata": {},
   "outputs": [
    {
     "data": {
      "text/plain": [
       "0.97823877772716128"
      ]
     },
     "execution_count": 474,
     "metadata": {},
     "output_type": "execute_result"
    }
   ],
   "source": [
    "rf=RandomForestClassifier(random_state=17,n_estimators=15)\n",
    "rf.fit(X_train,y_train)\n",
    "predict=rf.predict(X_test)\n",
    "\n",
    "accuracy_score(y_test,predict)"
   ]
  },
  {
   "cell_type": "code",
   "execution_count": 433,
   "metadata": {},
   "outputs": [
    {
     "data": {
      "text/plain": [
       "{'n_estimators': 8}"
      ]
     },
     "execution_count": 433,
     "metadata": {},
     "output_type": "execute_result"
    }
   ],
   "source": [
    "_"
   ]
  },
  {
   "cell_type": "code",
   "execution_count": 439,
   "metadata": {},
   "outputs": [
    {
     "name": "stdout",
     "output_type": "stream",
     "text": [
      "1\n",
      "6\n",
      "11\n",
      "16\n",
      "21\n",
      "26\n",
      "31\n",
      "36\n",
      "41\n",
      "46\n",
      "51\n",
      "56\n",
      "61\n",
      "66\n",
      "71\n",
      "76\n",
      "81\n",
      "86\n",
      "91\n",
      "96\n"
     ]
    }
   ],
   "source": [
    "for i in range(1,100,5): print(i)"
   ]
  },
  {
   "cell_type": "code",
   "execution_count": null,
   "metadata": {
    "collapsed": true
   },
   "outputs": [],
   "source": []
  },
  {
   "cell_type": "code",
   "execution_count": null,
   "metadata": {
    "collapsed": true
   },
   "outputs": [],
   "source": [
    "hp.choice() #равновероятный выбор из множества\n",
    "hp.randint() #случайное целое число; random seed, например, т.к. нет корреляции между разноудаленными значениями\n",
    "hp.uniform() #равномерное непрерывное распределение\n",
    "hp.normal() #нормальное непрерывное распределение\n",
    "hp.lognormal() #логнормальное непрерывное распределение"
   ]
  },
  {
   "cell_type": "code",
   "execution_count": null,
   "metadata": {
    "collapsed": true
   },
   "outputs": [],
   "source": []
  },
  {
   "cell_type": "code",
   "execution_count": 396,
   "metadata": {},
   "outputs": [
    {
     "data": {
      "text/plain": [
       "<hyperopt.pyll.base.Apply at 0x1a799d3c50>"
      ]
     },
     "execution_count": 396,
     "metadata": {},
     "output_type": "execute_result"
    }
   ],
   "source": [
    "hp.choice(\"2\",range(10)) "
   ]
  },
  {
   "cell_type": "code",
   "execution_count": null,
   "metadata": {
    "collapsed": true
   },
   "outputs": [],
   "source": []
  },
  {
   "cell_type": "code",
   "execution_count": null,
   "metadata": {
    "collapsed": true
   },
   "outputs": [],
   "source": []
  },
  {
   "cell_type": "code",
   "execution_count": null,
   "metadata": {
    "collapsed": true
   },
   "outputs": [],
   "source": []
  },
  {
   "cell_type": "code",
   "execution_count": null,
   "metadata": {
    "collapsed": true
   },
   "outputs": [],
   "source": []
  },
  {
   "cell_type": "code",
   "execution_count": null,
   "metadata": {
    "collapsed": true
   },
   "outputs": [],
   "source": []
  },
  {
   "cell_type": "code",
   "execution_count": null,
   "metadata": {
    "collapsed": true
   },
   "outputs": [],
   "source": []
  },
  {
   "cell_type": "code",
   "execution_count": null,
   "metadata": {
    "collapsed": true
   },
   "outputs": [],
   "source": []
  },
  {
   "cell_type": "code",
   "execution_count": null,
   "metadata": {
    "collapsed": true
   },
   "outputs": [],
   "source": []
  },
  {
   "cell_type": "code",
   "execution_count": null,
   "metadata": {
    "collapsed": true
   },
   "outputs": [],
   "source": []
  },
  {
   "cell_type": "code",
   "execution_count": null,
   "metadata": {
    "collapsed": true
   },
   "outputs": [],
   "source": []
  },
  {
   "cell_type": "code",
   "execution_count": null,
   "metadata": {
    "collapsed": true
   },
   "outputs": [],
   "source": []
  },
  {
   "cell_type": "code",
   "execution_count": null,
   "metadata": {
    "collapsed": true
   },
   "outputs": [],
   "source": []
  },
  {
   "cell_type": "code",
   "execution_count": null,
   "metadata": {
    "collapsed": true
   },
   "outputs": [],
   "source": []
  },
  {
   "cell_type": "code",
   "execution_count": 475,
   "metadata": {
    "collapsed": true
   },
   "outputs": [],
   "source": [
    "from sklearn.model_selection import GridSearchCV\n",
    "from sklearn.model_selection import KFold"
   ]
  },
  {
   "cell_type": "code",
   "execution_count": 477,
   "metadata": {
    "collapsed": true
   },
   "outputs": [
    {
     "name": "stdout",
     "output_type": "stream",
     "text": [
      "\n",
      "\n",
      "\n",
      "\n"
     ]
    },
    {
     "ename": "KeyboardInterrupt",
     "evalue": "",
     "output_type": "error",
     "traceback": [
      "\u001b[0;31m---------------------------------------------------------------------------\u001b[0m",
      "\u001b[0;31mKeyboardInterrupt\u001b[0m                         Traceback (most recent call last)",
      "\u001b[0;32m<ipython-input-477-6d7471744d25>\u001b[0m in \u001b[0;36m<module>\u001b[0;34m()\u001b[0m\n\u001b[1;32m      9\u001b[0m \u001b[0mkf\u001b[0m\u001b[0;34m=\u001b[0m\u001b[0mKFold\u001b[0m\u001b[0;34m(\u001b[0m\u001b[0mn_splits\u001b[0m\u001b[0;34m=\u001b[0m\u001b[0;36m3\u001b[0m\u001b[0;34m,\u001b[0m\u001b[0mshuffle\u001b[0m\u001b[0;34m=\u001b[0m\u001b[0;32mTrue\u001b[0m\u001b[0;34m,\u001b[0m\u001b[0mrandom_state\u001b[0m\u001b[0;34m=\u001b[0m\u001b[0;36m17\u001b[0m\u001b[0;34m)\u001b[0m\u001b[0;34m\u001b[0m\u001b[0m\n\u001b[1;32m     10\u001b[0m \u001b[0mgrid\u001b[0m\u001b[0;34m=\u001b[0m\u001b[0mGridSearchCV\u001b[0m\u001b[0;34m(\u001b[0m\u001b[0mrf\u001b[0m\u001b[0;34m,\u001b[0m\u001b[0mscoring\u001b[0m\u001b[0;34m=\u001b[0m\u001b[0;34m\"accuracy\"\u001b[0m\u001b[0;34m,\u001b[0m\u001b[0mn_jobs\u001b[0m\u001b[0;34m=\u001b[0m\u001b[0;34m-\u001b[0m\u001b[0;36m1\u001b[0m\u001b[0;34m,\u001b[0m\u001b[0mcv\u001b[0m\u001b[0;34m=\u001b[0m\u001b[0mkf\u001b[0m\u001b[0;34m,\u001b[0m\u001b[0mparam_grid\u001b[0m\u001b[0;34m=\u001b[0m\u001b[0mspace\u001b[0m\u001b[0;34m)\u001b[0m\u001b[0;34m\u001b[0m\u001b[0m\n\u001b[0;32m---> 11\u001b[0;31m \u001b[0mgrid\u001b[0m\u001b[0;34m.\u001b[0m\u001b[0mfit\u001b[0m\u001b[0;34m(\u001b[0m\u001b[0mX_train\u001b[0m\u001b[0;34m,\u001b[0m\u001b[0my_train\u001b[0m\u001b[0;34m)\u001b[0m\u001b[0;34m\u001b[0m\u001b[0m\n\u001b[0m\u001b[1;32m     12\u001b[0m \u001b[0;34m\u001b[0m\u001b[0m\n\u001b[1;32m     13\u001b[0m \u001b[0;34m\u001b[0m\u001b[0m\n",
      "\u001b[0;32m/Users/roman/anaconda/lib/python3.6/site-packages/sklearn/model_selection/_search.py\u001b[0m in \u001b[0;36mfit\u001b[0;34m(self, X, y, groups, **fit_params)\u001b[0m\n\u001b[1;32m    636\u001b[0m                                   error_score=self.error_score)\n\u001b[1;32m    637\u001b[0m           for parameters, (train, test) in product(candidate_params,\n\u001b[0;32m--> 638\u001b[0;31m                                                    cv.split(X, y, groups)))\n\u001b[0m\u001b[1;32m    639\u001b[0m \u001b[0;34m\u001b[0m\u001b[0m\n\u001b[1;32m    640\u001b[0m         \u001b[0;31m# if one choose to see train score, \"out\" will contain train score info\u001b[0m\u001b[0;34m\u001b[0m\u001b[0;34m\u001b[0m\u001b[0m\n",
      "\u001b[0;32m/Users/roman/anaconda/lib/python3.6/site-packages/sklearn/externals/joblib/parallel.py\u001b[0m in \u001b[0;36m__call__\u001b[0;34m(self, iterable)\u001b[0m\n\u001b[1;32m    787\u001b[0m                 \u001b[0;31m# consumption.\u001b[0m\u001b[0;34m\u001b[0m\u001b[0;34m\u001b[0m\u001b[0m\n\u001b[1;32m    788\u001b[0m                 \u001b[0mself\u001b[0m\u001b[0;34m.\u001b[0m\u001b[0m_iterating\u001b[0m \u001b[0;34m=\u001b[0m \u001b[0;32mFalse\u001b[0m\u001b[0;34m\u001b[0m\u001b[0m\n\u001b[0;32m--> 789\u001b[0;31m             \u001b[0mself\u001b[0m\u001b[0;34m.\u001b[0m\u001b[0mretrieve\u001b[0m\u001b[0;34m(\u001b[0m\u001b[0;34m)\u001b[0m\u001b[0;34m\u001b[0m\u001b[0m\n\u001b[0m\u001b[1;32m    790\u001b[0m             \u001b[0;31m# Make sure that we get a last message telling us we are done\u001b[0m\u001b[0;34m\u001b[0m\u001b[0;34m\u001b[0m\u001b[0m\n\u001b[1;32m    791\u001b[0m             \u001b[0melapsed_time\u001b[0m \u001b[0;34m=\u001b[0m \u001b[0mtime\u001b[0m\u001b[0;34m.\u001b[0m\u001b[0mtime\u001b[0m\u001b[0;34m(\u001b[0m\u001b[0;34m)\u001b[0m \u001b[0;34m-\u001b[0m \u001b[0mself\u001b[0m\u001b[0;34m.\u001b[0m\u001b[0m_start_time\u001b[0m\u001b[0;34m\u001b[0m\u001b[0m\n",
      "\u001b[0;32m/Users/roman/anaconda/lib/python3.6/site-packages/sklearn/externals/joblib/parallel.py\u001b[0m in \u001b[0;36mretrieve\u001b[0;34m(self)\u001b[0m\n\u001b[1;32m    697\u001b[0m             \u001b[0;32mtry\u001b[0m\u001b[0;34m:\u001b[0m\u001b[0;34m\u001b[0m\u001b[0m\n\u001b[1;32m    698\u001b[0m                 \u001b[0;32mif\u001b[0m \u001b[0mgetattr\u001b[0m\u001b[0;34m(\u001b[0m\u001b[0mself\u001b[0m\u001b[0;34m.\u001b[0m\u001b[0m_backend\u001b[0m\u001b[0;34m,\u001b[0m \u001b[0;34m'supports_timeout'\u001b[0m\u001b[0;34m,\u001b[0m \u001b[0;32mFalse\u001b[0m\u001b[0;34m)\u001b[0m\u001b[0;34m:\u001b[0m\u001b[0;34m\u001b[0m\u001b[0m\n\u001b[0;32m--> 699\u001b[0;31m                     \u001b[0mself\u001b[0m\u001b[0;34m.\u001b[0m\u001b[0m_output\u001b[0m\u001b[0;34m.\u001b[0m\u001b[0mextend\u001b[0m\u001b[0;34m(\u001b[0m\u001b[0mjob\u001b[0m\u001b[0;34m.\u001b[0m\u001b[0mget\u001b[0m\u001b[0;34m(\u001b[0m\u001b[0mtimeout\u001b[0m\u001b[0;34m=\u001b[0m\u001b[0mself\u001b[0m\u001b[0;34m.\u001b[0m\u001b[0mtimeout\u001b[0m\u001b[0;34m)\u001b[0m\u001b[0;34m)\u001b[0m\u001b[0;34m\u001b[0m\u001b[0m\n\u001b[0m\u001b[1;32m    700\u001b[0m                 \u001b[0;32melse\u001b[0m\u001b[0;34m:\u001b[0m\u001b[0;34m\u001b[0m\u001b[0m\n\u001b[1;32m    701\u001b[0m                     \u001b[0mself\u001b[0m\u001b[0;34m.\u001b[0m\u001b[0m_output\u001b[0m\u001b[0;34m.\u001b[0m\u001b[0mextend\u001b[0m\u001b[0;34m(\u001b[0m\u001b[0mjob\u001b[0m\u001b[0;34m.\u001b[0m\u001b[0mget\u001b[0m\u001b[0;34m(\u001b[0m\u001b[0;34m)\u001b[0m\u001b[0;34m)\u001b[0m\u001b[0;34m\u001b[0m\u001b[0m\n",
      "\u001b[0;32m/Users/roman/anaconda/lib/python3.6/multiprocessing/pool.py\u001b[0m in \u001b[0;36mget\u001b[0;34m(self, timeout)\u001b[0m\n\u001b[1;32m    600\u001b[0m \u001b[0;34m\u001b[0m\u001b[0m\n\u001b[1;32m    601\u001b[0m     \u001b[0;32mdef\u001b[0m \u001b[0mget\u001b[0m\u001b[0;34m(\u001b[0m\u001b[0mself\u001b[0m\u001b[0;34m,\u001b[0m \u001b[0mtimeout\u001b[0m\u001b[0;34m=\u001b[0m\u001b[0;32mNone\u001b[0m\u001b[0;34m)\u001b[0m\u001b[0;34m:\u001b[0m\u001b[0;34m\u001b[0m\u001b[0m\n\u001b[0;32m--> 602\u001b[0;31m         \u001b[0mself\u001b[0m\u001b[0;34m.\u001b[0m\u001b[0mwait\u001b[0m\u001b[0;34m(\u001b[0m\u001b[0mtimeout\u001b[0m\u001b[0;34m)\u001b[0m\u001b[0;34m\u001b[0m\u001b[0m\n\u001b[0m\u001b[1;32m    603\u001b[0m         \u001b[0;32mif\u001b[0m \u001b[0;32mnot\u001b[0m \u001b[0mself\u001b[0m\u001b[0;34m.\u001b[0m\u001b[0mready\u001b[0m\u001b[0;34m(\u001b[0m\u001b[0;34m)\u001b[0m\u001b[0;34m:\u001b[0m\u001b[0;34m\u001b[0m\u001b[0m\n\u001b[1;32m    604\u001b[0m             \u001b[0;32mraise\u001b[0m \u001b[0mTimeoutError\u001b[0m\u001b[0;34m\u001b[0m\u001b[0m\n",
      "\u001b[0;32m/Users/roman/anaconda/lib/python3.6/multiprocessing/pool.py\u001b[0m in \u001b[0;36mwait\u001b[0;34m(self, timeout)\u001b[0m\n\u001b[1;32m    597\u001b[0m \u001b[0;34m\u001b[0m\u001b[0m\n\u001b[1;32m    598\u001b[0m     \u001b[0;32mdef\u001b[0m \u001b[0mwait\u001b[0m\u001b[0;34m(\u001b[0m\u001b[0mself\u001b[0m\u001b[0;34m,\u001b[0m \u001b[0mtimeout\u001b[0m\u001b[0;34m=\u001b[0m\u001b[0;32mNone\u001b[0m\u001b[0;34m)\u001b[0m\u001b[0;34m:\u001b[0m\u001b[0;34m\u001b[0m\u001b[0m\n\u001b[0;32m--> 599\u001b[0;31m         \u001b[0mself\u001b[0m\u001b[0;34m.\u001b[0m\u001b[0m_event\u001b[0m\u001b[0;34m.\u001b[0m\u001b[0mwait\u001b[0m\u001b[0;34m(\u001b[0m\u001b[0mtimeout\u001b[0m\u001b[0;34m)\u001b[0m\u001b[0;34m\u001b[0m\u001b[0m\n\u001b[0m\u001b[1;32m    600\u001b[0m \u001b[0;34m\u001b[0m\u001b[0m\n\u001b[1;32m    601\u001b[0m     \u001b[0;32mdef\u001b[0m \u001b[0mget\u001b[0m\u001b[0;34m(\u001b[0m\u001b[0mself\u001b[0m\u001b[0;34m,\u001b[0m \u001b[0mtimeout\u001b[0m\u001b[0;34m=\u001b[0m\u001b[0;32mNone\u001b[0m\u001b[0;34m)\u001b[0m\u001b[0;34m:\u001b[0m\u001b[0;34m\u001b[0m\u001b[0m\n",
      "\u001b[0;32m/Users/roman/anaconda/lib/python3.6/threading.py\u001b[0m in \u001b[0;36mwait\u001b[0;34m(self, timeout)\u001b[0m\n\u001b[1;32m    549\u001b[0m             \u001b[0msignaled\u001b[0m \u001b[0;34m=\u001b[0m \u001b[0mself\u001b[0m\u001b[0;34m.\u001b[0m\u001b[0m_flag\u001b[0m\u001b[0;34m\u001b[0m\u001b[0m\n\u001b[1;32m    550\u001b[0m             \u001b[0;32mif\u001b[0m \u001b[0;32mnot\u001b[0m \u001b[0msignaled\u001b[0m\u001b[0;34m:\u001b[0m\u001b[0;34m\u001b[0m\u001b[0m\n\u001b[0;32m--> 551\u001b[0;31m                 \u001b[0msignaled\u001b[0m \u001b[0;34m=\u001b[0m \u001b[0mself\u001b[0m\u001b[0;34m.\u001b[0m\u001b[0m_cond\u001b[0m\u001b[0;34m.\u001b[0m\u001b[0mwait\u001b[0m\u001b[0;34m(\u001b[0m\u001b[0mtimeout\u001b[0m\u001b[0;34m)\u001b[0m\u001b[0;34m\u001b[0m\u001b[0m\n\u001b[0m\u001b[1;32m    552\u001b[0m             \u001b[0;32mreturn\u001b[0m \u001b[0msignaled\u001b[0m\u001b[0;34m\u001b[0m\u001b[0m\n\u001b[1;32m    553\u001b[0m \u001b[0;34m\u001b[0m\u001b[0m\n",
      "\u001b[0;32m/Users/roman/anaconda/lib/python3.6/threading.py\u001b[0m in \u001b[0;36mwait\u001b[0;34m(self, timeout)\u001b[0m\n\u001b[1;32m    293\u001b[0m         \u001b[0;32mtry\u001b[0m\u001b[0;34m:\u001b[0m    \u001b[0;31m# restore state no matter what (e.g., KeyboardInterrupt)\u001b[0m\u001b[0;34m\u001b[0m\u001b[0m\n\u001b[1;32m    294\u001b[0m             \u001b[0;32mif\u001b[0m \u001b[0mtimeout\u001b[0m \u001b[0;32mis\u001b[0m \u001b[0;32mNone\u001b[0m\u001b[0;34m:\u001b[0m\u001b[0;34m\u001b[0m\u001b[0m\n\u001b[0;32m--> 295\u001b[0;31m                 \u001b[0mwaiter\u001b[0m\u001b[0;34m.\u001b[0m\u001b[0macquire\u001b[0m\u001b[0;34m(\u001b[0m\u001b[0;34m)\u001b[0m\u001b[0;34m\u001b[0m\u001b[0m\n\u001b[0m\u001b[1;32m    296\u001b[0m                 \u001b[0mgotit\u001b[0m \u001b[0;34m=\u001b[0m \u001b[0;32mTrue\u001b[0m\u001b[0;34m\u001b[0m\u001b[0m\n\u001b[1;32m    297\u001b[0m             \u001b[0;32melse\u001b[0m\u001b[0;34m:\u001b[0m\u001b[0;34m\u001b[0m\u001b[0m\n",
      "\u001b[0;31mKeyboardInterrupt\u001b[0m: "
     ]
    }
   ],
   "source": [
    "rf=RandomForestClassifier(random_state=17,n_estimators=15)\n",
    "space={\"n_estimators\":[1,10,100,1000],\n",
    "      \"max_depth\":[None,1,10,100],\n",
    "      \"min_samples_split\":[2,3,4,5,6,7,8,9],\n",
    "      \"min_samples_leaf\":[1,2,3,4,5,6,7,8,9],\n",
    "      }\n",
    "\n",
    "\n",
    "kf=KFold(n_splits=3,shuffle=True,random_state=17)\n",
    "grid=GridSearchCV(rf,scoring=\"accuracy\",n_jobs=-1,cv=kf,param_grid=space)\n",
    "grid.fit(X_train,y_train)\n",
    "\n",
    "\n",
    "# predict=rf.predict(X_test)\n",
    "\n",
    "# accuracy_score(y_test,predict)"
   ]
  },
  {
   "cell_type": "code",
   "execution_count": null,
   "metadata": {
    "collapsed": true
   },
   "outputs": [],
   "source": [
    "!telegram-send \"done\""
   ]
  },
  {
   "cell_type": "code",
   "execution_count": null,
   "metadata": {
    "collapsed": true
   },
   "outputs": [],
   "source": []
  },
  {
   "cell_type": "code",
   "execution_count": null,
   "metadata": {
    "collapsed": true
   },
   "outputs": [],
   "source": []
  }
 ],
 "metadata": {
  "kernelspec": {
   "display_name": "Python 3",
   "language": "python",
   "name": "python3"
  },
  "language_info": {
   "codemirror_mode": {
    "name": "ipython",
    "version": 3
   },
   "file_extension": ".py",
   "mimetype": "text/x-python",
   "name": "python",
   "nbconvert_exporter": "python",
   "pygments_lexer": "ipython3",
   "version": "3.6.1"
  }
 },
 "nbformat": 4,
 "nbformat_minor": 2
}
