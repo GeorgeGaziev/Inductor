{
 "cells": [
  {
   "cell_type": "code",
   "execution_count": 2,
   "metadata": {
    "collapsed": true
   },
   "outputs": [],
   "source": [
    "import pandas as pd\n",
    "import pickle\n",
    "from tqdm import tqdm_notebook\n",
    "\n",
    "from sklearn.metrics import accuracy_score,roc_auc_score"
   ]
  },
  {
   "cell_type": "markdown",
   "metadata": {},
   "source": [
    "## Импорт моделей и данных"
   ]
  },
  {
   "cell_type": "code",
   "execution_count": 3,
   "metadata": {
    "collapsed": true
   },
   "outputs": [],
   "source": [
    "PATH_TO_DATA=\"/Users/roman/Inductor/data/megafonDB/\""
   ]
  },
  {
   "cell_type": "code",
   "execution_count": 4,
   "metadata": {},
   "outputs": [
    {
     "name": "stderr",
     "output_type": "stream",
     "text": [
      "/Users/roman/anaconda/lib/python3.6/site-packages/sklearn/cross_validation.py:41: DeprecationWarning: This module was deprecated in version 0.18 in favor of the model_selection module into which all the refactored classes and functions are moved. Also note that the interface of the new CV iterators are different from that of this module. This module will be removed in 0.20.\n",
      "  \"This module will be removed in 0.20.\", DeprecationWarning)\n"
     ]
    }
   ],
   "source": [
    "with open(\"/Users/roman/Inductor/Roman/xgb_model.pkl\",\"rb\") as f:\n",
    "    xgb=pickle.load(f)"
   ]
  },
  {
   "cell_type": "code",
   "execution_count": 5,
   "metadata": {
    "collapsed": true
   },
   "outputs": [],
   "source": [
    "with open(PATH_TO_DATA+\"full_name_MegafonDB_DIRTY.pickle\",\"rb\") as f:\n",
    "    data=pickle.load(f)"
   ]
  },
  {
   "cell_type": "markdown",
   "metadata": {},
   "source": [
    "## Формирование датасетов"
   ]
  },
  {
   "cell_type": "code",
   "execution_count": 6,
   "metadata": {},
   "outputs": [],
   "source": [
    "data_3_elements=[i for i in data if len(i.split(\" \"))==3]"
   ]
  },
  {
   "cell_type": "code",
   "execution_count": 7,
   "metadata": {},
   "outputs": [],
   "source": [
    "data_2_elements=[i for i in data if len(i.split(\" \"))==2]"
   ]
  },
  {
   "cell_type": "code",
   "execution_count": 8,
   "metadata": {
    "collapsed": true
   },
   "outputs": [],
   "source": [
    "table_3_elements=[j.split(\" \") for j in data_3_elements]\n",
    "table_3_elements=pd.DataFrame(table_3_elements,columns=[\"Фамилия\",\"Имя\",\"Отчество\"])"
   ]
  },
  {
   "cell_type": "code",
   "execution_count": 9,
   "metadata": {
    "collapsed": true
   },
   "outputs": [],
   "source": [
    "table_2_elements=[j.split(\" \") for j in data_2_elements]\n",
    "table_2_elements=pd.DataFrame(table_2_elements,columns=[\"Фамилия\",\"Имя\"])"
   ]
  },
  {
   "cell_type": "code",
   "execution_count": 10,
   "metadata": {},
   "outputs": [],
   "source": [
    "# Формирование датасета 1\n",
    "SurnameDf=pd.DataFrame(table_3_elements[\"Фамилия\"].values,columns=[\"word\"])\n",
    "NameDf=pd.DataFrame(table_3_elements[\"Имя\"].values,columns=[\"word\"])\n",
    "Patronymic=pd.DataFrame(table_3_elements[\"Отчество\"].values,columns=[\"word\"])\n",
    "\n",
    "SurnameDf[\"class\"]=1\n",
    "NameDf[\"class\"]=2\n",
    "Patronymic[\"class\"]=3\n",
    "\n",
    "data_3_elements=pd.concat([SurnameDf,NameDf,Patronymic])\n",
    "\n",
    "data_3_elements[\"word\"]=data_3_elements[\"word\"].astype(str)\n",
    "data_3_elements[\"lenth\"]=data_3_elements[\"word\"].apply(lambda x: len(x)) #Длина слова\n",
    "\n",
    "data_3_elements=data_3_elements[[\"word\",\"lenth\",\"class\"]]\n",
    "\n",
    "\n",
    "\n",
    "\n",
    "\n",
    "\n",
    "# Формирование датасета 2\n",
    "SurnameDf=pd.DataFrame(table_2_elements[\"Фамилия\"].values,columns=[\"word\"])\n",
    "NameDf=pd.DataFrame(table_2_elements[\"Имя\"].values,columns=[\"word\"])\n",
    "\n",
    "\n",
    "SurnameDf[\"class\"]=1\n",
    "NameDf[\"class\"]=2\n",
    "\n",
    "\n",
    "data_2_elements=pd.concat([SurnameDf,NameDf])\n",
    "\n",
    "data_2_elements[\"word\"]=data_2_elements[\"word\"].astype(str)\n",
    "data_2_elements[\"lenth\"]=data_2_elements[\"word\"].apply(lambda x: len(x)) #Длина слова\n",
    "\n",
    "data_2_elements=data_2_elements[[\"word\",\"lenth\",\"class\"]]"
   ]
  },
  {
   "cell_type": "markdown",
   "metadata": {},
   "source": [
    "## Построенеи представления данных Bag of letter (верхний и нижний регистр)"
   ]
  },
  {
   "cell_type": "code",
   "execution_count": 11,
   "metadata": {
    "collapsed": true
   },
   "outputs": [],
   "source": [
    "def word_to_alphabet(column):\n",
    "    alphabet=['а','б','в','г','д','е','ё','ж','з','и','й','к','л','м','н','о',\n",
    "          'п','р','с','т','у','ф','х','ц','ч','ш','щ','ъ','ы','ь','э','ю','я',\"e\",\"t\",\"c\"] # исключит слово с .\n",
    "    alphabet=alphabet+[i.upper() for i in alphabet]+[\"-\",\".\"]\n",
    "    \n",
    "    alphabet2={i:0 for i in alphabet}\n",
    "    \n",
    "    array=[]\n",
    "    \n",
    "    for k,word in enumerate(tqdm_notebook(column.values)):\n",
    "        alphabet3=alphabet2.copy()\n",
    "        for i in word:\n",
    "            alphabet3[i]+=1\n",
    "        array.append(alphabet3.values())\n",
    "        \n",
    "    df=pd.DataFrame(array,columns=alphabet)\n",
    "        \n",
    "    return df"
   ]
  },
  {
   "cell_type": "code",
   "execution_count": 12,
   "metadata": {},
   "outputs": [
    {
     "data": {
      "application/vnd.jupyter.widget-view+json": {
       "model_id": "2ebe9412866b475aba40eb4365ec378f"
      }
     },
     "metadata": {},
     "output_type": "display_data"
    },
    {
     "name": "stdout",
     "output_type": "stream",
     "text": [
      "\n"
     ]
    }
   ],
   "source": [
    "df_3_elements=word_to_alphabet(data_3_elements[\"word\"])\n",
    "\n",
    "df_3_elements[\"lenth\"]=data_3_elements[\"lenth\"].values\n",
    "df_3_elements[\"class\"]=data_3_elements[\"class\"].values"
   ]
  },
  {
   "cell_type": "code",
   "execution_count": 13,
   "metadata": {},
   "outputs": [
    {
     "data": {
      "application/vnd.jupyter.widget-view+json": {
       "model_id": "82265bf3f2254fbca5e7bac1eac3bd86"
      }
     },
     "metadata": {},
     "output_type": "display_data"
    },
    {
     "name": "stdout",
     "output_type": "stream",
     "text": [
      "\n"
     ]
    }
   ],
   "source": [
    "df_2_elements=word_to_alphabet(data_2_elements[\"word\"])\n",
    "\n",
    "df_2_elements[\"lenth\"]=data_2_elements[\"lenth\"].values\n",
    "df_2_elements[\"class\"]=data_2_elements[\"class\"].values"
   ]
  },
  {
   "cell_type": "markdown",
   "metadata": {},
   "source": [
    "### Тестирование на нормальной выборке"
   ]
  },
  {
   "cell_type": "code",
   "execution_count": 22,
   "metadata": {
    "collapsed": true
   },
   "outputs": [],
   "source": [
    "predict=xgb.predict(df_3_elements.drop(\"class\",axis=1)[:100000])"
   ]
  },
  {
   "cell_type": "code",
   "execution_count": 23,
   "metadata": {},
   "outputs": [
    {
     "data": {
      "text/plain": [
       "0.97467999999999999"
      ]
     },
     "execution_count": 23,
     "metadata": {},
     "output_type": "execute_result"
    }
   ],
   "source": [
    "accuracy_score(df_3_elements[\"class\"][:100000],predict)"
   ]
  },
  {
   "cell_type": "markdown",
   "metadata": {},
   "source": [
    "### Тестирование на сложной выборке"
   ]
  },
  {
   "cell_type": "code",
   "execution_count": 15,
   "metadata": {},
   "outputs": [],
   "source": [
    "predict=xgb.predict(df_2_elements.drop(\"class\",axis=1))"
   ]
  },
  {
   "cell_type": "code",
   "execution_count": 16,
   "metadata": {},
   "outputs": [
    {
     "data": {
      "text/plain": [
       "0.64516421702050442"
      ]
     },
     "execution_count": 16,
     "metadata": {},
     "output_type": "execute_result"
    }
   ],
   "source": [
    "accuracy_score(df_2_elements[\"class\"],predict)"
   ]
  }
 ],
 "metadata": {
  "kernelspec": {
   "display_name": "Python 3",
   "language": "python",
   "name": "python3"
  },
  "language_info": {
   "codemirror_mode": {
    "name": "ipython",
    "version": 3
   },
   "file_extension": ".py",
   "mimetype": "text/x-python",
   "name": "python",
   "nbconvert_exporter": "python",
   "pygments_lexer": "ipython3",
   "version": "3.6.1"
  }
 },
 "nbformat": 4,
 "nbformat_minor": 2
}
