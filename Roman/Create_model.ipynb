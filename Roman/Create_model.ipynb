{
 "cells": [
  {
   "cell_type": "markdown",
   "metadata": {},
   "source": [
    "План\n",
    "- Разные представления данных\n",
    "    - bag of letter to ascii\n",
    "    - bag of letter (верхний и нижний регистр)\n",
    "    - bag of letter (нижний регистр только)\n",
    "- Построить разные модели\n"
   ]
  },
  {
   "cell_type": "code",
   "execution_count": 1,
   "metadata": {},
   "outputs": [
    {
     "name": "stderr",
     "output_type": "stream",
     "text": [
      "/Users/roman/anaconda/lib/python3.6/site-packages/sklearn/cross_validation.py:41: DeprecationWarning: This module was deprecated in version 0.18 in favor of the model_selection module into which all the refactored classes and functions are moved. Also note that the interface of the new CV iterators are different from that of this module. This module will be removed in 0.20.\n",
      "  \"This module will be removed in 0.20.\", DeprecationWarning)\n"
     ]
    }
   ],
   "source": [
    "PATH_TO_DATA=\"../../Inductor/data/50k_real_fullName/\"\n",
    "\n",
    "import pandas as pd\n",
    "import os.path\n",
    "import numpy as np\n",
    "import pickle\n",
    "\n",
    "%matplotlib inline\n",
    "import matplotlib.pyplot as plt\n",
    "import seaborn as sns\n",
    "\n",
    "from sklearn.ensemble import RandomForestClassifier\n",
    "from sklearn.linear_model import LogisticRegression\n",
    "from xgboost import XGBClassifier\n",
    "\n",
    "from sklearn.model_selection import cross_val_score,KFold,GridSearchCV,RandomizedSearchCV\n",
    "from sklearn.metrics import accuracy_score\n",
    "from sklearn.model_selection import train_test_split\n",
    "\n",
    "from tqdm import tqdm_notebook,tqdm\n",
    "\n",
    "from hyperopt import hp\n",
    "from hyperopt import fmin, tpe, STATUS_OK, Trials"
   ]
  },
  {
   "cell_type": "markdown",
   "metadata": {},
   "source": [
    "### Погдотовка DataSet-a"
   ]
  },
  {
   "cell_type": "code",
   "execution_count": 5,
   "metadata": {
    "collapsed": true
   },
   "outputs": [],
   "source": [
    "# Десериализация\n",
    "with open(PATH_TO_DATA+\"fullName_true.pickle\",\"rb\") as f:\n",
    "    data_train=pickle.load(f)\n",
    "    \n",
    "with open(PATH_TO_DATA+\"fullName_changed.pickle\",\"rb\") as f:\n",
    "    data_test=pickle.load(f)"
   ]
  },
  {
   "cell_type": "code",
   "execution_count": 6,
   "metadata": {},
   "outputs": [
    {
     "data": {
      "text/html": [
       "<div>\n",
       "<style>\n",
       "    .dataframe thead tr:only-child th {\n",
       "        text-align: right;\n",
       "    }\n",
       "\n",
       "    .dataframe thead th {\n",
       "        text-align: left;\n",
       "    }\n",
       "\n",
       "    .dataframe tbody tr th {\n",
       "        vertical-align: top;\n",
       "    }\n",
       "</style>\n",
       "<table border=\"1\" class=\"dataframe\">\n",
       "  <thead>\n",
       "    <tr style=\"text-align: right;\">\n",
       "      <th></th>\n",
       "      <th>Фамилия</th>\n",
       "      <th>Имя</th>\n",
       "      <th>Отчество</th>\n",
       "    </tr>\n",
       "  </thead>\n",
       "  <tbody>\n",
       "    <tr>\n",
       "      <th>0</th>\n",
       "      <td>Костенко</td>\n",
       "      <td>Денис</td>\n",
       "      <td>Александрович</td>\n",
       "    </tr>\n",
       "    <tr>\n",
       "      <th>1</th>\n",
       "      <td>Блинова</td>\n",
       "      <td>Алена</td>\n",
       "      <td>Алексеена</td>\n",
       "    </tr>\n",
       "  </tbody>\n",
       "</table>\n",
       "</div>"
      ],
      "text/plain": [
       "    Фамилия    Имя       Отчество\n",
       "0  Костенко  Денис  Александрович\n",
       "1   Блинова  Алена      Алексеена"
      ]
     },
     "execution_count": 6,
     "metadata": {},
     "output_type": "execute_result"
    }
   ],
   "source": [
    "# DataFrame полный\n",
    "table_train=[ j.split(\" \") for j in data_train]\n",
    "table_train=pd.DataFrame(table_train,columns=[\"Фамилия\",\"Имя\",\"Отчество\"])\n",
    "\n",
    "table_train.head(2)"
   ]
  },
  {
   "cell_type": "code",
   "execution_count": 7,
   "metadata": {},
   "outputs": [
    {
     "data": {
      "text/html": [
       "<div>\n",
       "<style>\n",
       "    .dataframe thead tr:only-child th {\n",
       "        text-align: right;\n",
       "    }\n",
       "\n",
       "    .dataframe thead th {\n",
       "        text-align: left;\n",
       "    }\n",
       "\n",
       "    .dataframe tbody tr th {\n",
       "        vertical-align: top;\n",
       "    }\n",
       "</style>\n",
       "<table border=\"1\" class=\"dataframe\">\n",
       "  <thead>\n",
       "    <tr style=\"text-align: right;\">\n",
       "      <th></th>\n",
       "      <th>word</th>\n",
       "      <th>lenth</th>\n",
       "      <th>class</th>\n",
       "    </tr>\n",
       "  </thead>\n",
       "  <tbody>\n",
       "    <tr>\n",
       "      <th>0</th>\n",
       "      <td>Костенко</td>\n",
       "      <td>8</td>\n",
       "      <td>1</td>\n",
       "    </tr>\n",
       "    <tr>\n",
       "      <th>1</th>\n",
       "      <td>Блинова</td>\n",
       "      <td>7</td>\n",
       "      <td>1</td>\n",
       "    </tr>\n",
       "  </tbody>\n",
       "</table>\n",
       "</div>"
      ],
      "text/plain": [
       "       word  lenth  class\n",
       "0  Костенко      8      1\n",
       "1   Блинова      7      1"
      ]
     },
     "execution_count": 7,
     "metadata": {},
     "output_type": "execute_result"
    }
   ],
   "source": [
    "# Формирование датасета\n",
    "SurnameDf=pd.DataFrame(table_train[\"Фамилия\"].values,columns=[\"word\"])\n",
    "NameDf=pd.DataFrame(table_train[\"Имя\"].values,columns=[\"word\"])\n",
    "Patronymic=pd.DataFrame(table_train[\"Отчество\"].values,columns=[\"word\"])\n",
    "\n",
    "SurnameDf[\"class\"]=1\n",
    "NameDf[\"class\"]=2\n",
    "Patronymic[\"class\"]=3\n",
    "\n",
    "data=pd.concat([SurnameDf,NameDf,Patronymic])\n",
    "\n",
    "data[\"word\"]=data[\"word\"].astype(str)\n",
    "data[\"lenth\"]=data[\"word\"].apply(lambda x: len(x)) #Длина слова\n",
    "# data[\"word\"]=data[\"word\"].apply(lambda x: x.lower()) #Нижний регистр\n",
    "data=data[[\"word\",\"lenth\",\"class\"]]\n",
    "\n",
    "data.head(2)"
   ]
  },
  {
   "cell_type": "markdown",
   "metadata": {},
   "source": [
    "## Разные представления данных"
   ]
  },
  {
   "cell_type": "markdown",
   "metadata": {},
   "source": [
    "### Bag of letter to ascii"
   ]
  },
  {
   "cell_type": "code",
   "execution_count": 8,
   "metadata": {
    "collapsed": true
   },
   "outputs": [],
   "source": [
    "def convert_to_ascii(text):\n",
    "    return \" \".join(str(ord(char)) for char in text)\n",
    "\n",
    "def convert_to_ascii2(text):\n",
    "    return [ord(i) for i in text]"
   ]
  },
  {
   "cell_type": "code",
   "execution_count": 9,
   "metadata": {
    "collapsed": true
   },
   "outputs": [],
   "source": [
    "def words_to_dataFame(column,max_lenth_word):\n",
    "    letter=['letter%s' % str(i) for i in range(1,max_lenth_word+1)]\n",
    "    \n",
    "    names_arr=[convert_to_ascii2(word) for word in column.values ]\n",
    "        \n",
    "    df=[i+(max_lenth_word-len(i))*[0] for i in names_arr]\n",
    "    df=pd.DataFrame(df,columns=letter)\n",
    "    \n",
    "    return df"
   ]
  },
  {
   "cell_type": "code",
   "execution_count": 10,
   "metadata": {},
   "outputs": [
    {
     "data": {
      "text/html": [
       "<div>\n",
       "<style>\n",
       "    .dataframe thead tr:only-child th {\n",
       "        text-align: right;\n",
       "    }\n",
       "\n",
       "    .dataframe thead th {\n",
       "        text-align: left;\n",
       "    }\n",
       "\n",
       "    .dataframe tbody tr th {\n",
       "        vertical-align: top;\n",
       "    }\n",
       "</style>\n",
       "<table border=\"1\" class=\"dataframe\">\n",
       "  <thead>\n",
       "    <tr style=\"text-align: right;\">\n",
       "      <th></th>\n",
       "      <th>word</th>\n",
       "      <th>lenth</th>\n",
       "      <th>class</th>\n",
       "      <th>ascii_word</th>\n",
       "    </tr>\n",
       "  </thead>\n",
       "  <tbody>\n",
       "    <tr>\n",
       "      <th>0</th>\n",
       "      <td>Костенко</td>\n",
       "      <td>8</td>\n",
       "      <td>1</td>\n",
       "      <td>1050 1086 1089 1090 1077 1085 1082 1086</td>\n",
       "    </tr>\n",
       "    <tr>\n",
       "      <th>1</th>\n",
       "      <td>Блинова</td>\n",
       "      <td>7</td>\n",
       "      <td>1</td>\n",
       "      <td>1041 1083 1080 1085 1086 1074 1072</td>\n",
       "    </tr>\n",
       "  </tbody>\n",
       "</table>\n",
       "</div>"
      ],
      "text/plain": [
       "       word  lenth  class                               ascii_word\n",
       "0  Костенко      8      1  1050 1086 1089 1090 1077 1085 1082 1086\n",
       "1   Блинова      7      1       1041 1083 1080 1085 1086 1074 1072"
      ]
     },
     "execution_count": 10,
     "metadata": {},
     "output_type": "execute_result"
    }
   ],
   "source": [
    "data[\"ascii_word\"]=data[\"word\"].apply(lambda x:convert_to_ascii(x) ) #Слово переведенное в ascii\n",
    "data.head(2)"
   ]
  },
  {
   "cell_type": "code",
   "execution_count": 11,
   "metadata": {
    "collapsed": true
   },
   "outputs": [],
   "source": [
    "m=np.max(data['lenth'].values)\n",
    "letters=words_to_dataFame(data[\"word\"],m)"
   ]
  },
  {
   "cell_type": "code",
   "execution_count": 12,
   "metadata": {},
   "outputs": [
    {
     "data": {
      "text/html": [
       "<div>\n",
       "<style>\n",
       "    .dataframe thead tr:only-child th {\n",
       "        text-align: right;\n",
       "    }\n",
       "\n",
       "    .dataframe thead th {\n",
       "        text-align: left;\n",
       "    }\n",
       "\n",
       "    .dataframe tbody tr th {\n",
       "        vertical-align: top;\n",
       "    }\n",
       "</style>\n",
       "<table border=\"1\" class=\"dataframe\">\n",
       "  <thead>\n",
       "    <tr style=\"text-align: right;\">\n",
       "      <th></th>\n",
       "      <th>letter1</th>\n",
       "      <th>letter2</th>\n",
       "      <th>letter3</th>\n",
       "      <th>letter4</th>\n",
       "      <th>letter5</th>\n",
       "      <th>letter6</th>\n",
       "      <th>letter7</th>\n",
       "      <th>letter8</th>\n",
       "      <th>letter9</th>\n",
       "      <th>letter10</th>\n",
       "      <th>...</th>\n",
       "      <th>letter16</th>\n",
       "      <th>letter17</th>\n",
       "      <th>letter18</th>\n",
       "      <th>letter19</th>\n",
       "      <th>letter20</th>\n",
       "      <th>letter21</th>\n",
       "      <th>letter22</th>\n",
       "      <th>letter23</th>\n",
       "      <th>lenth</th>\n",
       "      <th>class</th>\n",
       "    </tr>\n",
       "  </thead>\n",
       "  <tbody>\n",
       "    <tr>\n",
       "      <th>0</th>\n",
       "      <td>1050</td>\n",
       "      <td>1086</td>\n",
       "      <td>1089</td>\n",
       "      <td>1090</td>\n",
       "      <td>1077</td>\n",
       "      <td>1085</td>\n",
       "      <td>1082</td>\n",
       "      <td>1086</td>\n",
       "      <td>0</td>\n",
       "      <td>0</td>\n",
       "      <td>...</td>\n",
       "      <td>0</td>\n",
       "      <td>0</td>\n",
       "      <td>0</td>\n",
       "      <td>0</td>\n",
       "      <td>0</td>\n",
       "      <td>0</td>\n",
       "      <td>0</td>\n",
       "      <td>0</td>\n",
       "      <td>8</td>\n",
       "      <td>1</td>\n",
       "    </tr>\n",
       "    <tr>\n",
       "      <th>1</th>\n",
       "      <td>1041</td>\n",
       "      <td>1083</td>\n",
       "      <td>1080</td>\n",
       "      <td>1085</td>\n",
       "      <td>1086</td>\n",
       "      <td>1074</td>\n",
       "      <td>1072</td>\n",
       "      <td>0</td>\n",
       "      <td>0</td>\n",
       "      <td>0</td>\n",
       "      <td>...</td>\n",
       "      <td>0</td>\n",
       "      <td>0</td>\n",
       "      <td>0</td>\n",
       "      <td>0</td>\n",
       "      <td>0</td>\n",
       "      <td>0</td>\n",
       "      <td>0</td>\n",
       "      <td>0</td>\n",
       "      <td>7</td>\n",
       "      <td>1</td>\n",
       "    </tr>\n",
       "  </tbody>\n",
       "</table>\n",
       "<p>2 rows × 25 columns</p>\n",
       "</div>"
      ],
      "text/plain": [
       "   letter1  letter2  letter3  letter4  letter5  letter6  letter7  letter8  \\\n",
       "0     1050     1086     1089     1090     1077     1085     1082     1086   \n",
       "1     1041     1083     1080     1085     1086     1074     1072        0   \n",
       "\n",
       "   letter9  letter10  ...    letter16  letter17  letter18  letter19  letter20  \\\n",
       "0        0         0  ...           0         0         0         0         0   \n",
       "1        0         0  ...           0         0         0         0         0   \n",
       "\n",
       "   letter21  letter22  letter23  lenth  class  \n",
       "0         0         0         0      8      1  \n",
       "1         0         0         0      7      1  \n",
       "\n",
       "[2 rows x 25 columns]"
      ]
     },
     "execution_count": 12,
     "metadata": {},
     "output_type": "execute_result"
    }
   ],
   "source": [
    "df_ascii=pd.concat([letters[letters.columns],data[['lenth','class']]],axis=1, join_axes=[data.index])\n",
    "\n",
    "data.drop(\"ascii_word\",axis=1,inplace=True)\n",
    "df_ascii.head(2)"
   ]
  },
  {
   "cell_type": "markdown",
   "metadata": {},
   "source": [
    "### Bag of letter (верхний и нижний регистр)"
   ]
  },
  {
   "cell_type": "code",
   "execution_count": 20,
   "metadata": {
    "collapsed": true
   },
   "outputs": [],
   "source": [
    "def word_to_alphabet(column):\n",
    "    alphabet=['а','б','в','г','д','е','ё','ж','з','и','й','к','л','м','н','о',\n",
    "          'п','р','с','т','у','ф','х','ц','ч','ш','щ','ъ','ы','ь','э','ю','я',\"e\",\"t\",\"c\"] # исключит слово с .\n",
    "    alphabet=alphabet+[i.upper() for i in alphabet]+[\"-\",\".\"]\n",
    "    \n",
    "    alphabet2={i:0 for i in alphabet}\n",
    "    \n",
    "    array=[]\n",
    "    \n",
    "    for k,word in enumerate(tqdm_notebook(column.values)):\n",
    "        alphabet3=alphabet2.copy()\n",
    "        for i in word:\n",
    "            alphabet3[i]+=1\n",
    "        array.append(alphabet3.values())\n",
    "        \n",
    "    df=pd.DataFrame(array,columns=alphabet)\n",
    "        \n",
    "    return df"
   ]
  },
  {
   "cell_type": "code",
   "execution_count": 21,
   "metadata": {},
   "outputs": [
    {
     "data": {
      "application/vnd.jupyter.widget-view+json": {
       "model_id": "a44b4354e196447980fe5a26326c20d9"
      }
     },
     "metadata": {},
     "output_type": "display_data"
    },
    {
     "name": "stdout",
     "output_type": "stream",
     "text": [
      "\n"
     ]
    }
   ],
   "source": [
    "df_BOLetters_both_register=word_to_alphabet(data[\"word\"])"
   ]
  },
  {
   "cell_type": "code",
   "execution_count": 22,
   "metadata": {},
   "outputs": [
    {
     "data": {
      "text/html": [
       "<div>\n",
       "<style>\n",
       "    .dataframe thead tr:only-child th {\n",
       "        text-align: right;\n",
       "    }\n",
       "\n",
       "    .dataframe thead th {\n",
       "        text-align: left;\n",
       "    }\n",
       "\n",
       "    .dataframe tbody tr th {\n",
       "        vertical-align: top;\n",
       "    }\n",
       "</style>\n",
       "<table border=\"1\" class=\"dataframe\">\n",
       "  <thead>\n",
       "    <tr style=\"text-align: right;\">\n",
       "      <th></th>\n",
       "      <th>а</th>\n",
       "      <th>б</th>\n",
       "      <th>в</th>\n",
       "      <th>г</th>\n",
       "      <th>д</th>\n",
       "      <th>е</th>\n",
       "      <th>ё</th>\n",
       "      <th>ж</th>\n",
       "      <th>з</th>\n",
       "      <th>и</th>\n",
       "      <th>...</th>\n",
       "      <th>Э</th>\n",
       "      <th>Ю</th>\n",
       "      <th>Я</th>\n",
       "      <th>E</th>\n",
       "      <th>T</th>\n",
       "      <th>C</th>\n",
       "      <th>-</th>\n",
       "      <th>.</th>\n",
       "      <th>lenth</th>\n",
       "      <th>class</th>\n",
       "    </tr>\n",
       "  </thead>\n",
       "  <tbody>\n",
       "    <tr>\n",
       "      <th>0</th>\n",
       "      <td>0</td>\n",
       "      <td>0</td>\n",
       "      <td>0</td>\n",
       "      <td>0</td>\n",
       "      <td>0</td>\n",
       "      <td>1</td>\n",
       "      <td>0</td>\n",
       "      <td>0</td>\n",
       "      <td>0</td>\n",
       "      <td>0</td>\n",
       "      <td>...</td>\n",
       "      <td>0</td>\n",
       "      <td>0</td>\n",
       "      <td>0</td>\n",
       "      <td>0</td>\n",
       "      <td>0</td>\n",
       "      <td>0</td>\n",
       "      <td>0</td>\n",
       "      <td>0</td>\n",
       "      <td>8</td>\n",
       "      <td>1</td>\n",
       "    </tr>\n",
       "    <tr>\n",
       "      <th>1</th>\n",
       "      <td>1</td>\n",
       "      <td>0</td>\n",
       "      <td>1</td>\n",
       "      <td>0</td>\n",
       "      <td>0</td>\n",
       "      <td>0</td>\n",
       "      <td>0</td>\n",
       "      <td>0</td>\n",
       "      <td>0</td>\n",
       "      <td>1</td>\n",
       "      <td>...</td>\n",
       "      <td>0</td>\n",
       "      <td>0</td>\n",
       "      <td>0</td>\n",
       "      <td>0</td>\n",
       "      <td>0</td>\n",
       "      <td>0</td>\n",
       "      <td>0</td>\n",
       "      <td>0</td>\n",
       "      <td>7</td>\n",
       "      <td>1</td>\n",
       "    </tr>\n",
       "  </tbody>\n",
       "</table>\n",
       "<p>2 rows × 76 columns</p>\n",
       "</div>"
      ],
      "text/plain": [
       "   а  б  в  г  д  е  ё  ж  з  и  ...    Э  Ю  Я  E  T  C  -  .  lenth  class\n",
       "0  0  0  0  0  0  1  0  0  0  0  ...    0  0  0  0  0  0  0  0      8      1\n",
       "1  1  0  1  0  0  0  0  0  0  1  ...    0  0  0  0  0  0  0  0      7      1\n",
       "\n",
       "[2 rows x 76 columns]"
      ]
     },
     "execution_count": 22,
     "metadata": {},
     "output_type": "execute_result"
    }
   ],
   "source": [
    "df_BOLetters_both_register[\"lenth\"]=data[\"lenth\"].values\n",
    "df_BOLetters_both_register[\"class\"]=data[\"class\"].values\n",
    "df_BOLetters_both_register.head(2)"
   ]
  },
  {
   "cell_type": "markdown",
   "metadata": {},
   "source": [
    "### Bag of letter (нижний регистр только)"
   ]
  },
  {
   "cell_type": "code",
   "execution_count": 23,
   "metadata": {
    "collapsed": true
   },
   "outputs": [],
   "source": [
    "def word_to_alphabet_lower(column):\n",
    "    alphabet=['а','б','в','г','д','е','ё','ж','з','и','й','к','л','м','н','о',\n",
    "          'п','р','с','т','у','ф','х','ц','ч','ш','щ','ъ','ы','ь','э','ю','я',\"e\",\"t\",\"c\",\"-\",\".\"] # исключит слово с .\n",
    "    \n",
    "    alphabet2={i:0 for i in alphabet}\n",
    "    \n",
    "    array=[]\n",
    "    \n",
    "    for k,word in enumerate(tqdm_notebook(column.values)):\n",
    "        alphabet3=alphabet2.copy()\n",
    "        for i in word:\n",
    "            alphabet3[i]+=1\n",
    "        array.append(alphabet3.values())\n",
    "        \n",
    "    df=pd.DataFrame(array,columns=alphabet)\n",
    "        \n",
    "    return df"
   ]
  },
  {
   "cell_type": "code",
   "execution_count": 24,
   "metadata": {},
   "outputs": [
    {
     "data": {
      "application/vnd.jupyter.widget-view+json": {
       "model_id": "608dbd639afd4f519d4450ce7d10fa77"
      }
     },
     "metadata": {},
     "output_type": "display_data"
    },
    {
     "name": "stdout",
     "output_type": "stream",
     "text": [
      "\n"
     ]
    }
   ],
   "source": [
    "df_BOLetters_lower=word_to_alphabet_lower((data[\"word\"].apply(lambda x:x.lower())))"
   ]
  },
  {
   "cell_type": "code",
   "execution_count": 25,
   "metadata": {},
   "outputs": [
    {
     "data": {
      "text/html": [
       "<div>\n",
       "<style>\n",
       "    .dataframe thead tr:only-child th {\n",
       "        text-align: right;\n",
       "    }\n",
       "\n",
       "    .dataframe thead th {\n",
       "        text-align: left;\n",
       "    }\n",
       "\n",
       "    .dataframe tbody tr th {\n",
       "        vertical-align: top;\n",
       "    }\n",
       "</style>\n",
       "<table border=\"1\" class=\"dataframe\">\n",
       "  <thead>\n",
       "    <tr style=\"text-align: right;\">\n",
       "      <th></th>\n",
       "      <th>а</th>\n",
       "      <th>б</th>\n",
       "      <th>в</th>\n",
       "      <th>г</th>\n",
       "      <th>д</th>\n",
       "      <th>е</th>\n",
       "      <th>ё</th>\n",
       "      <th>ж</th>\n",
       "      <th>з</th>\n",
       "      <th>и</th>\n",
       "      <th>...</th>\n",
       "      <th>э</th>\n",
       "      <th>ю</th>\n",
       "      <th>я</th>\n",
       "      <th>e</th>\n",
       "      <th>t</th>\n",
       "      <th>c</th>\n",
       "      <th>-</th>\n",
       "      <th>.</th>\n",
       "      <th>lenth</th>\n",
       "      <th>class</th>\n",
       "    </tr>\n",
       "  </thead>\n",
       "  <tbody>\n",
       "    <tr>\n",
       "      <th>0</th>\n",
       "      <td>0</td>\n",
       "      <td>0</td>\n",
       "      <td>0</td>\n",
       "      <td>0</td>\n",
       "      <td>0</td>\n",
       "      <td>1</td>\n",
       "      <td>0</td>\n",
       "      <td>0</td>\n",
       "      <td>0</td>\n",
       "      <td>0</td>\n",
       "      <td>...</td>\n",
       "      <td>0</td>\n",
       "      <td>0</td>\n",
       "      <td>0</td>\n",
       "      <td>0</td>\n",
       "      <td>0</td>\n",
       "      <td>0</td>\n",
       "      <td>0</td>\n",
       "      <td>0</td>\n",
       "      <td>8</td>\n",
       "      <td>1</td>\n",
       "    </tr>\n",
       "    <tr>\n",
       "      <th>1</th>\n",
       "      <td>1</td>\n",
       "      <td>1</td>\n",
       "      <td>1</td>\n",
       "      <td>0</td>\n",
       "      <td>0</td>\n",
       "      <td>0</td>\n",
       "      <td>0</td>\n",
       "      <td>0</td>\n",
       "      <td>0</td>\n",
       "      <td>1</td>\n",
       "      <td>...</td>\n",
       "      <td>0</td>\n",
       "      <td>0</td>\n",
       "      <td>0</td>\n",
       "      <td>0</td>\n",
       "      <td>0</td>\n",
       "      <td>0</td>\n",
       "      <td>0</td>\n",
       "      <td>0</td>\n",
       "      <td>7</td>\n",
       "      <td>1</td>\n",
       "    </tr>\n",
       "  </tbody>\n",
       "</table>\n",
       "<p>2 rows × 40 columns</p>\n",
       "</div>"
      ],
      "text/plain": [
       "   а  б  в  г  д  е  ё  ж  з  и  ...    э  ю  я  e  t  c  -  .  lenth  class\n",
       "0  0  0  0  0  0  1  0  0  0  0  ...    0  0  0  0  0  0  0  0      8      1\n",
       "1  1  1  1  0  0  0  0  0  0  1  ...    0  0  0  0  0  0  0  0      7      1\n",
       "\n",
       "[2 rows x 40 columns]"
      ]
     },
     "execution_count": 25,
     "metadata": {},
     "output_type": "execute_result"
    }
   ],
   "source": [
    "df_BOLetters_lower[\"lenth\"]=data[\"lenth\"].values\n",
    "df_BOLetters_lower[\"class\"]=data[\"class\"].values\n",
    "df_BOLetters_lower.head(2)"
   ]
  },
  {
   "cell_type": "markdown",
   "metadata": {},
   "source": [
    "## Разбиение выборки"
   ]
  },
  {
   "cell_type": "code",
   "execution_count": 26,
   "metadata": {
    "collapsed": true
   },
   "outputs": [],
   "source": [
    "#ascii\n",
    "X_ascii=df_ascii.drop(\"class\",axis=1)\n",
    "y_ascii=df_ascii[\"class\"]\n",
    "\n",
    "X_ascii_train,X_ascii_test,y_ascii_train,y_ascii_test=train_test_split(X_ascii,y_ascii,test_size=0.3,random_state=17,shuffle=True)\n",
    "\n",
    "\n",
    "#BOW_both\n",
    "X_both=df_BOLetters_both_register.drop(\"class\",axis=1)\n",
    "y_both=df_BOLetters_both_register[\"class\"]\n",
    "\n",
    "X_both_train,X_both_test,y_both_train,y_both_test=train_test_split(X_both,y_both,test_size=0.3,random_state=17,shuffle=True)\n",
    "\n",
    "\n",
    "\n",
    "#BOL_lower_only\n",
    "X_lower=df_BOLetters_lower.drop(\"class\",axis=1)\n",
    "y_lower=df_BOLetters_lower[\"class\"]\n",
    "\n",
    "X_lower_train,X_lower_test,y_lower_train,y_lower_test=train_test_split(X_lower,y_lower,test_size=0.3,random_state=17,shuffle=True)"
   ]
  },
  {
   "cell_type": "markdown",
   "metadata": {},
   "source": [
    "## Построение моделей"
   ]
  },
  {
   "cell_type": "code",
   "execution_count": 27,
   "metadata": {
    "collapsed": true
   },
   "outputs": [],
   "source": [
    "rf=RandomForestClassifier(random_state=17,n_jobs=-1)\n",
    "lr=LogisticRegression(random_state=17)\n",
    "xgb=XGBClassifier(seed=17)"
   ]
  },
  {
   "cell_type": "code",
   "execution_count": 42,
   "metadata": {},
   "outputs": [
    {
     "data": {
      "application/vnd.jupyter.widget-view+json": {
       "model_id": "f0f850cadb2b480798fa26a0303cb6f9"
      }
     },
     "metadata": {},
     "output_type": "display_data"
    },
    {
     "name": "stdout",
     "output_type": "stream",
     "text": [
      "\n",
      "rf 0 accuracy: 0.8060938430809125\n",
      "lr 0 accuracy: 0.63901251007464\n",
      "xgb 0 accuracy: 0.8369835651960612\n",
      "\n",
      "rf 1 accuracy: 0.9777306654518695\n",
      "lr 1 accuracy: 0.8961698847110768\n",
      "xgb 1 accuracy: 0.9260784245015243\n",
      "\n",
      "rf 2 accuracy: 0.9757507796895258\n",
      "lr 2 accuracy: 0.860602025440656\n",
      "xgb 2 accuracy: 0.908697480463959\n",
      "\n",
      "\n"
     ]
    }
   ],
   "source": [
    "#Выбор моделией для дальнейшего учучшения\n",
    "train_lst=[[X_ascii_train,y_ascii_train],[X_both_train,y_both_train],[X_lower_train,y_lower_train]]\n",
    "test_lst=[[X_ascii_test,y_ascii_test],[X_both_test,y_both_test],[X_lower_test,y_lower_test]]\n",
    "\n",
    "model_lst=[rf,lr,xgb]\n",
    "\n",
    "for i in tqdm_notebook(range(3)):\n",
    "    rf=model_lst[0].fit(train_lst[i][0],train_lst[i][1])\n",
    "    lr=model_lst[1].fit(train_lst[i][0],train_lst[i][1])\n",
    "    xgb=model_lst[2].fit(train_lst[i][0],train_lst[i][1])\n",
    "    \n",
    "    print(\"rf {0} accuracy: {1}\".format(i,accuracy_score(test_lst[i][1],rf.predict(test_lst[i][0]))))\n",
    "    print(\"lr {0} accuracy: {1}\".format(i,accuracy_score(test_lst[i][1],lr.predict(test_lst[i][0]))))\n",
    "    print(\"xgb {0} accuracy: {1}\\n\".format(i,accuracy_score(test_lst[i][1],xgb.predict(test_lst[i][0]))))"
   ]
  },
  {
   "cell_type": "markdown",
   "metadata": {},
   "source": [
    "Так как ***Линейная регрессия*** показала себя хуже всего ее и ***отбросим***\n",
    "\n",
    "Также обучасть будем на наборе ***X_both*** так как он показал себе лучше всего (фичи-алфавит в верхнем и нижмен регистре)"
   ]
  },
  {
   "cell_type": "markdown",
   "metadata": {},
   "source": [
    "## EDA"
   ]
  },
  {
   "cell_type": "code",
   "execution_count": 328,
   "metadata": {
    "scrolled": true
   },
   "outputs": [
    {
     "data": {
      "text/plain": [
       "class    1.000000e+00\n",
       "lenth    4.168010e-01\n",
       "ч        3.889743e-01\n",
       "В        2.647937e-01\n",
       "и        2.548134e-01\n",
       "н        2.359434e-01\n",
       "в        2.299835e-01\n",
       "л        2.191561e-01\n",
       "е        2.166014e-01\n",
       "А        1.837265e-01\n",
       "д        1.739349e-01\n",
       "ь        1.719180e-01\n",
       "р        1.476927e-01\n",
       "а        1.144860e-01\n",
       "Н        9.079865e-02\n",
       "Ю        8.898949e-02\n",
       "г        8.805384e-02\n",
       "с        7.201229e-02\n",
       "И        5.830901e-02\n",
       "т        3.297823e-02\n",
       "м        1.878721e-02\n",
       "Э        1.197289e-02\n",
       "-        7.970036e-03\n",
       "э        4.524946e-03\n",
       "Е        3.895047e-03\n",
       "c        2.807955e-03\n",
       ".        2.807955e-03\n",
       "Ы        1.621182e-03\n",
       "О        2.151481e-04\n",
       "T       -5.730590e-20\n",
       "             ...     \n",
       "х       -5.007269e-02\n",
       "У       -5.147758e-02\n",
       "Д       -5.544444e-02\n",
       "Л       -5.771888e-02\n",
       "Ж       -5.809382e-02\n",
       "Х       -6.344421e-02\n",
       "к       -6.355785e-02\n",
       "ж       -6.524327e-02\n",
       "щ       -7.210795e-02\n",
       "ю       -7.821513e-02\n",
       "З       -8.435050e-02\n",
       "Т       -8.496227e-02\n",
       "П       -8.508872e-02\n",
       "я       -8.555665e-02\n",
       "Ч       -9.821556e-02\n",
       "з       -1.170375e-01\n",
       "Ш       -1.230331e-01\n",
       "б       -1.253138e-01\n",
       "ы       -1.353656e-01\n",
       "Б       -1.357325e-01\n",
       "п       -1.451151e-01\n",
       "ц       -1.481186e-01\n",
       "ш       -1.650092e-01\n",
       "К       -2.096771e-01\n",
       "у       -2.297923e-01\n",
       "t                 NaN\n",
       "Ё                 NaN\n",
       "Ъ                 NaN\n",
       "E                 NaN\n",
       "C                 NaN\n",
       "Name: class, Length: 76, dtype: float64"
      ]
     },
     "execution_count": 328,
     "metadata": {},
     "output_type": "execute_result"
    }
   ],
   "source": [
    "df_BOLetters_both_register.corr()[\"class\"].sort_values(ascending=False)"
   ]
  },
  {
   "cell_type": "markdown",
   "metadata": {},
   "source": [
    "..."
   ]
  },
  {
   "cell_type": "markdown",
   "metadata": {},
   "source": [
    "---------------------"
   ]
  },
  {
   "cell_type": "code",
   "execution_count": 29,
   "metadata": {
    "collapsed": true
   },
   "outputs": [],
   "source": [
    "#Разбиение выборки\n",
    "X=df_BOLetters_both_register.drop(\"class\",axis=1)\n",
    "y=df_BOLetters_both_register[\"class\"]\n",
    "\n",
    "X_train,X_test,y_train,y_test=train_test_split(X_both,y_both,test_size=0.3,random_state=17,shuffle=True)"
   ]
  },
  {
   "cell_type": "markdown",
   "metadata": {},
   "source": [
    "### Тюнинг randomForest"
   ]
  },
  {
   "cell_type": "code",
   "execution_count": null,
   "metadata": {
    "collapsed": true
   },
   "outputs": [],
   "source": [
    "Модель улучшалась на виртуальной машине"
   ]
  },
  {
   "cell_type": "code",
   "execution_count": 41,
   "metadata": {},
   "outputs": [
    {
     "name": "stderr",
     "output_type": "stream",
     "text": [
      "/Users/roman/anaconda/lib/python3.6/site-packages/sklearn/base.py:312: UserWarning: Trying to unpickle estimator DecisionTreeClassifier from version 0.19.1 when using version 0.19.0. This might lead to breaking code or invalid results. Use at your own risk.\n",
      "  UserWarning)\n",
      "/Users/roman/anaconda/lib/python3.6/site-packages/sklearn/base.py:312: UserWarning: Trying to unpickle estimator RandomForestClassifier from version 0.19.1 when using version 0.19.0. This might lead to breaking code or invalid results. Use at your own risk.\n",
      "  UserWarning)\n"
     ]
    }
   ],
   "source": [
    "with open(\"/Users/roman/Inductor/Roman/rf_model.pkl\",\"rb\") as f:\n",
    "    rf=pickle.load(f)"
   ]
  },
  {
   "cell_type": "code",
   "execution_count": 35,
   "metadata": {},
   "outputs": [
    {
     "data": {
      "text/plain": [
       "RandomForestClassifier(bootstrap=True, class_weight=None, criterion='entropy',\n",
       "            max_depth=None, max_features='sqrt', max_leaf_nodes=None,\n",
       "            min_impurity_decrease=0.0, min_impurity_split=None,\n",
       "            min_samples_leaf=1, min_samples_split=4,\n",
       "            min_weight_fraction_leaf=0.0, n_estimators=1000, n_jobs=-1,\n",
       "            oob_score=False, random_state=17, verbose=0, warm_start=False)"
      ]
     },
     "execution_count": 35,
     "metadata": {},
     "output_type": "execute_result"
    }
   ],
   "source": [
    "model"
   ]
  },
  {
   "cell_type": "markdown",
   "metadata": {},
   "source": [
    "### Тюнинг XGB"
   ]
  },
  {
   "cell_type": "markdown",
   "metadata": {},
   "source": [
    "Модель улучшалась на виртуальной машине"
   ]
  },
  {
   "cell_type": "code",
   "execution_count": 2,
   "metadata": {
    "collapsed": true
   },
   "outputs": [],
   "source": [
    "with open(\"/Users/roman/Inductor/Roman/xgb_model.pkl\",\"rb\") as f:\n",
    "    xgb=pickle.load(f)"
   ]
  },
  {
   "cell_type": "code",
   "execution_count": 3,
   "metadata": {},
   "outputs": [
    {
     "data": {
      "text/plain": [
       "XGBClassifier(base_score=0.5, colsample_bylevel=1, colsample_bytree=0.4,\n",
       "       gamma=0.01, learning_rate=0.5, max_delta_step=0, max_depth=14,\n",
       "       min_child_weight=1, missing=nan, n_estimators=1000, nthread=-1,\n",
       "       objective='multi:softprob', reg_alpha=0.01, reg_lambda=0.01,\n",
       "       scale_pos_weight=1, seed=17, silent=True, subsample=1)"
      ]
     },
     "execution_count": 3,
     "metadata": {},
     "output_type": "execute_result"
    }
   ],
   "source": [
    "xgb"
   ]
  },
  {
   "cell_type": "markdown",
   "metadata": {
    "collapsed": true
   },
   "source": [
    "### Ансамбль из XGB и rf"
   ]
  },
  {
   "cell_type": "code",
   "execution_count": null,
   "metadata": {
    "collapsed": true
   },
   "outputs": [],
   "source": []
  }
 ],
 "metadata": {
  "kernelspec": {
   "display_name": "Python 3",
   "language": "python",
   "name": "python3"
  },
  "language_info": {
   "codemirror_mode": {
    "name": "ipython",
    "version": 3
   },
   "file_extension": ".py",
   "mimetype": "text/x-python",
   "name": "python",
   "nbconvert_exporter": "python",
   "pygments_lexer": "ipython3",
   "version": "3.6.1"
  }
 },
 "nbformat": 4,
 "nbformat_minor": 2
}
