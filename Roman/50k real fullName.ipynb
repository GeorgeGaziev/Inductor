{
 "cells": [
  {
   "cell_type": "code",
   "execution_count": 1,
   "metadata": {
    "collapsed": true
   },
   "outputs": [],
   "source": [
    "import pandas as pd\n",
    "import numpy as np\n",
    "import os\n",
    "import copy\n",
    "import random\n",
    "import pickle\n",
    "\n",
    "from matplotlib import pyplot\n",
    "%matplotlib inline"
   ]
  },
  {
   "cell_type": "code",
   "execution_count": 2,
   "metadata": {
    "collapsed": true
   },
   "outputs": [],
   "source": [
    "pathFolder=\"/Users/roman/Inductor/data/50k real fullName/\""
   ]
  },
  {
   "cell_type": "markdown",
   "metadata": {},
   "source": [
    "### 30 csv to 1DataFrame"
   ]
  },
  {
   "cell_type": "code",
   "execution_count": 3,
   "metadata": {},
   "outputs": [],
   "source": [
    "data=pd.DataFrame()\n",
    "for i in os.listdir(path=pathFolder):\n",
    "    _,ext=os.path.splitext(i)\n",
    "    if ext==\".csv\":\n",
    "        tmpDf=pd.read_csv(pathFolder+i,sep=\";\",header=None)\n",
    "        data=data.append(tmpDf)\n",
    "        "
   ]
  },
  {
   "cell_type": "code",
   "execution_count": 6,
   "metadata": {},
   "outputs": [
    {
     "data": {
      "text/plain": [
       "63592"
      ]
     },
     "execution_count": 6,
     "metadata": {},
     "output_type": "execute_result"
    }
   ],
   "source": [
    "len(data[3].unique()) #Уникальных ФИО"
   ]
  },
  {
   "cell_type": "code",
   "execution_count": 124,
   "metadata": {
    "collapsed": true
   },
   "outputs": [],
   "source": [
    "fullName=list(set(data[3].dropna().values))"
   ]
  },
  {
   "cell_type": "code",
   "execution_count": 125,
   "metadata": {},
   "outputs": [
    {
     "data": {
      "text/plain": [
       "63592"
      ]
     },
     "execution_count": 125,
     "metadata": {},
     "output_type": "execute_result"
    }
   ],
   "source": [
    "len(fullName)"
   ]
  },
  {
   "cell_type": "markdown",
   "metadata": {},
   "source": [
    "## Очистка данных"
   ]
  },
  {
   "cell_type": "code",
   "execution_count": 120,
   "metadata": {
    "collapsed": true
   },
   "outputs": [],
   "source": [
    "def splice(lst):\n",
    "    tmp=\"\"\n",
    "    for i in lst:\n",
    "        tmp+=i+\" \"\n",
    "    tmp.title()\n",
    "    return tmp.strip()"
   ]
  },
  {
   "cell_type": "code",
   "execution_count": 144,
   "metadata": {},
   "outputs": [],
   "source": [
    "fullName_clear=[]\n",
    "for i in fullName:\n",
    "    length=len(i.split(\" \"))\n",
    "    if length==3: \n",
    "        i=i.title()\n",
    "        fullName_clear.append(i)\n",
    "    if length>3: \n",
    "        i=list(set(i.split(\" \")))\n",
    "        if \"\" in i:\n",
    "            i.remove('')\n",
    "        \n",
    "        i=splice(i)\n",
    "        \n",
    "        fullName_clear.append(i)"
   ]
  },
  {
   "cell_type": "code",
   "execution_count": 156,
   "metadata": {},
   "outputs": [],
   "source": [
    "# Удалил людей у которых ФИО >3\n",
    "for i in fullName_clear:\n",
    "    if len(i.split(\" \"))>3:\n",
    "        fullName_clear.remove(i)\n",
    "        \n",
    "fullName_clear=list(set(fullName_clear)) #Удаляет дублтрующихся людей"
   ]
  },
  {
   "cell_type": "markdown",
   "metadata": {},
   "source": [
    "## Формирование train и test ввыборки"
   ]
  },
  {
   "cell_type": "code",
   "execution_count": 158,
   "metadata": {
    "collapsed": true
   },
   "outputs": [],
   "source": [
    "fullName_true=fullName_clear.copy()\n",
    "fullName_changed=copy.deepcopy(fullName_clear)\n",
    "\n",
    "fullName_changed=[i.split(\" \") for i in fullName_changed]"
   ]
  },
  {
   "cell_type": "code",
   "execution_count": 159,
   "metadata": {
    "collapsed": true
   },
   "outputs": [],
   "source": [
    "#Перемеширвание\n",
    "for i in range(0,len(fullName_changed)):\n",
    "    random.shuffle(fullName_changed[i])"
   ]
  },
  {
   "cell_type": "code",
   "execution_count": 160,
   "metadata": {
    "collapsed": true
   },
   "outputs": [],
   "source": [
    "fullName_changed2=[]\n",
    "for i in fullName_changed:\n",
    "    if len(i)==3:\n",
    "        fullName_changed2.append((\"%s %s %s\"%(i[0],i[1],i[2])))\n",
    "    else:\n",
    "        fullName_changed2.append(i) # Чутка костыль видимо не везде есть 3 элемента"
   ]
  },
  {
   "cell_type": "markdown",
   "metadata": {},
   "source": [
    "### Сериализую"
   ]
  },
  {
   "cell_type": "code",
   "execution_count": 165,
   "metadata": {
    "collapsed": true
   },
   "outputs": [],
   "source": [
    "#Сериализую\n",
    "with open(pathFolder+'fullName_true.pickle', 'wb') as f:\n",
    "    pickle.dump(fullName_true, f)"
   ]
  },
  {
   "cell_type": "code",
   "execution_count": 166,
   "metadata": {
    "collapsed": true
   },
   "outputs": [],
   "source": [
    "#Сериализую\n",
    "with open(pathFolder+'fullName_changed.pickle', 'wb') as f:\n",
    "    pickle.dump(fullName_changed2, f)"
   ]
  }
 ],
 "metadata": {
  "kernelspec": {
   "display_name": "Python 3",
   "language": "python",
   "name": "python3"
  },
  "language_info": {
   "codemirror_mode": {
    "name": "ipython",
    "version": 3
   },
   "file_extension": ".py",
   "mimetype": "text/x-python",
   "name": "python",
   "nbconvert_exporter": "python",
   "pygments_lexer": "ipython3",
   "version": "3.6.1"
  }
 },
 "nbformat": 4,
 "nbformat_minor": 2
}
