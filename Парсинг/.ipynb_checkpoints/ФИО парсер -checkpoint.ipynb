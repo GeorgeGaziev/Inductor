{
 "cells": [
  {
   "cell_type": "markdown",
   "metadata": {},
   "source": [
    "# Формирование обучающей и тестофой выборки ФИО"
   ]
  },
  {
   "cell_type": "code",
   "execution_count": 2,
   "metadata": {
    "collapsed": true
   },
   "outputs": [],
   "source": [
    "import urllib\n",
    "from bs4 import BeautifulSoup\n",
    "import pickle\n",
    "from collections import Counter\n",
    "from collections import namedtuple\n",
    "import re\n",
    "import xlwings as xw\n",
    "import pandas as pd\n",
    "import numpy as np\n",
    "import random"
   ]
  },
  {
   "cell_type": "code",
   "execution_count": 3,
   "metadata": {
    "collapsed": true
   },
   "outputs": [],
   "source": [
    "url_fullName=\"https://names-generator.ru\""
   ]
  },
  {
   "cell_type": "code",
   "execution_count": 4,
   "metadata": {
    "collapsed": true
   },
   "outputs": [],
   "source": [
    "url_fullName_q=urllib.request.quote(url_fullName,\"/:\")"
   ]
  },
  {
   "cell_type": "code",
   "execution_count": 5,
   "metadata": {
    "collapsed": true
   },
   "outputs": [],
   "source": [
    "import ssl\n",
    "context = ssl._create_unverified_context()"
   ]
  },
  {
   "cell_type": "code",
   "execution_count": 6,
   "metadata": {},
   "outputs": [
    {
     "data": {
      "text/plain": [
       "['Анисимов Иван Вадимович',\n",
       " 'Хохлов Еремей Андреевич',\n",
       " 'Никитин Федосей Ильяович',\n",
       " 'Пономарёв Георгий Мэлорович',\n",
       " 'Воробьёв Всеволод Федотович',\n",
       " 'Маслов Вадим Александрович',\n",
       " 'Королёв Фрол Альвианович',\n",
       " 'Козлов Евгений Романович',\n",
       " 'Терентьев Демьян Денисович',\n",
       " 'Кириллов Кондрат Евсеевич']"
      ]
     },
     "execution_count": 6,
     "metadata": {},
     "output_type": "execute_result"
    }
   ],
   "source": [
    "full_name_bs=BeautifulSoup(urllib.request.urlopen(url_fullName_q,context=context),\"lxml\")\n",
    "[i.text for i in full_name_bs.find_all(\"td\",{\"class\":\"left\"})[0].find_all(\"li\")]"
   ]
  },
  {
   "cell_type": "code",
   "execution_count": 7,
   "metadata": {
    "collapsed": true
   },
   "outputs": [],
   "source": [
    "# Получаю только 10 значений Вопрос в том как нажить на кнопку много раз или изменить параметр value с 10 на 1000"
   ]
  },
  {
   "cell_type": "code",
   "execution_count": null,
   "metadata": {
    "collapsed": true
   },
   "outputs": [],
   "source": []
  },
  {
   "cell_type": "code",
   "execution_count": null,
   "metadata": {
    "collapsed": true
   },
   "outputs": [],
   "source": []
  },
  {
   "cell_type": "code",
   "execution_count": null,
   "metadata": {
    "collapsed": true
   },
   "outputs": [],
   "source": []
  },
  {
   "cell_type": "markdown",
   "metadata": {},
   "source": [
    "# Вариант 2"
   ]
  },
  {
   "cell_type": "code",
   "execution_count": 8,
   "metadata": {
    "collapsed": true
   },
   "outputs": [],
   "source": [
    "#Из файла который сделал в ручную считываю ФИО и записываю все их в список\n",
    "data=pd.read_excel(\"1000 ФИО.xlsx\")\n"
   ]
  },
  {
   "cell_type": "code",
   "execution_count": 9,
   "metadata": {},
   "outputs": [
    {
     "data": {
      "text/html": [
       "<div>\n",
       "<style>\n",
       "    .dataframe thead tr:only-child th {\n",
       "        text-align: right;\n",
       "    }\n",
       "\n",
       "    .dataframe thead th {\n",
       "        text-align: left;\n",
       "    }\n",
       "\n",
       "    .dataframe tbody tr th {\n",
       "        vertical-align: top;\n",
       "    }\n",
       "</style>\n",
       "<table border=\"1\" class=\"dataframe\">\n",
       "  <thead>\n",
       "    <tr style=\"text-align: right;\">\n",
       "      <th></th>\n",
       "      <th>Фамилия</th>\n",
       "      <th>Имя</th>\n",
       "      <th>Отчество</th>\n",
       "    </tr>\n",
       "  </thead>\n",
       "  <tbody>\n",
       "    <tr>\n",
       "      <th>0</th>\n",
       "      <td>Уварова</td>\n",
       "      <td>Виктория</td>\n",
       "      <td>Еремеевна</td>\n",
       "    </tr>\n",
       "    <tr>\n",
       "      <th>1</th>\n",
       "      <td>Белов</td>\n",
       "      <td>Бронислав</td>\n",
       "      <td>Якунович</td>\n",
       "    </tr>\n",
       "  </tbody>\n",
       "</table>\n",
       "</div>"
      ],
      "text/plain": [
       "   Фамилия        Имя   Отчество\n",
       "0  Уварова   Виктория  Еремеевна\n",
       "1    Белов  Бронислав   Якунович"
      ]
     },
     "execution_count": 9,
     "metadata": {},
     "output_type": "execute_result"
    }
   ],
   "source": [
    "data.head(2)"
   ]
  },
  {
   "cell_type": "code",
   "execution_count": 10,
   "metadata": {
    "collapsed": true
   },
   "outputs": [],
   "source": [
    "splitter=800\n",
    "train_df=data[:splitter]\n",
    "test_df=data[splitter:]"
   ]
  },
  {
   "cell_type": "code",
   "execution_count": 11,
   "metadata": {},
   "outputs": [
    {
     "data": {
      "text/html": [
       "<div>\n",
       "<style>\n",
       "    .dataframe thead tr:only-child th {\n",
       "        text-align: right;\n",
       "    }\n",
       "\n",
       "    .dataframe thead th {\n",
       "        text-align: left;\n",
       "    }\n",
       "\n",
       "    .dataframe tbody tr th {\n",
       "        vertical-align: top;\n",
       "    }\n",
       "</style>\n",
       "<table border=\"1\" class=\"dataframe\">\n",
       "  <thead>\n",
       "    <tr style=\"text-align: right;\">\n",
       "      <th></th>\n",
       "      <th>Фамилия</th>\n",
       "      <th>Имя</th>\n",
       "      <th>Отчество</th>\n",
       "    </tr>\n",
       "  </thead>\n",
       "  <tbody>\n",
       "    <tr>\n",
       "      <th>800</th>\n",
       "      <td>Стрелкова</td>\n",
       "      <td>Глафира</td>\n",
       "      <td>Глебовна</td>\n",
       "    </tr>\n",
       "    <tr>\n",
       "      <th>801</th>\n",
       "      <td>Лыткин</td>\n",
       "      <td>Константин</td>\n",
       "      <td>Николаевич</td>\n",
       "    </tr>\n",
       "    <tr>\n",
       "      <th>802</th>\n",
       "      <td>Субботина</td>\n",
       "      <td>Оксана</td>\n",
       "      <td>Георгьевна</td>\n",
       "    </tr>\n",
       "    <tr>\n",
       "      <th>803</th>\n",
       "      <td>Бурова</td>\n",
       "      <td>Милица</td>\n",
       "      <td>Евгеньевна</td>\n",
       "    </tr>\n",
       "    <tr>\n",
       "      <th>804</th>\n",
       "      <td>Сорокин</td>\n",
       "      <td>Мэлор</td>\n",
       "      <td>Арсеньевич</td>\n",
       "    </tr>\n",
       "    <tr>\n",
       "      <th>805</th>\n",
       "      <td>Зуева</td>\n",
       "      <td>Лариса</td>\n",
       "      <td>Лаврентьевна</td>\n",
       "    </tr>\n",
       "    <tr>\n",
       "      <th>806</th>\n",
       "      <td>Кузьмин</td>\n",
       "      <td>Авдей</td>\n",
       "      <td>Матвеевич</td>\n",
       "    </tr>\n",
       "    <tr>\n",
       "      <th>807</th>\n",
       "      <td>Дементьева</td>\n",
       "      <td>Юлия</td>\n",
       "      <td>Леонидовна</td>\n",
       "    </tr>\n",
       "    <tr>\n",
       "      <th>808</th>\n",
       "      <td>Сорокин</td>\n",
       "      <td>Демьян</td>\n",
       "      <td>Егорович</td>\n",
       "    </tr>\n",
       "    <tr>\n",
       "      <th>809</th>\n",
       "      <td>Попова</td>\n",
       "      <td>Екатерина</td>\n",
       "      <td>Михаиловна</td>\n",
       "    </tr>\n",
       "  </tbody>\n",
       "</table>\n",
       "</div>"
      ],
      "text/plain": [
       "        Фамилия         Имя      Отчество\n",
       "800   Стрелкова     Глафира      Глебовна\n",
       "801      Лыткин  Константин    Николаевич\n",
       "802   Субботина      Оксана    Георгьевна\n",
       "803      Бурова      Милица    Евгеньевна\n",
       "804     Сорокин       Мэлор    Арсеньевич\n",
       "805       Зуева      Лариса  Лаврентьевна\n",
       "806     Кузьмин       Авдей     Матвеевич\n",
       "807  Дементьева        Юлия    Леонидовна\n",
       "808     Сорокин      Демьян      Егорович\n",
       "809      Попова   Екатерина    Михаиловна"
      ]
     },
     "execution_count": 11,
     "metadata": {},
     "output_type": "execute_result"
    }
   ],
   "source": [
    "test_df.head(10)"
   ]
  },
  {
   "cell_type": "code",
   "execution_count": 12,
   "metadata": {
    "collapsed": true
   },
   "outputs": [],
   "source": [
    "test_changed=[i.tolist() for i in test_df.values]\n",
    "for i in range(0,len(test_changed)):\n",
    "    random.shuffle(test_changed[i])"
   ]
  },
  {
   "cell_type": "code",
   "execution_count": 13,
   "metadata": {
    "collapsed": true
   },
   "outputs": [],
   "source": [
    "test_changed_df=pd.DataFrame(test_changed,columns=[\"Фамилия\",\"Имя\",\"Отчество\"],index=range(800,1000))"
   ]
  },
  {
   "cell_type": "code",
   "execution_count": 14,
   "metadata": {},
   "outputs": [
    {
     "data": {
      "text/html": [
       "<div>\n",
       "<style>\n",
       "    .dataframe thead tr:only-child th {\n",
       "        text-align: right;\n",
       "    }\n",
       "\n",
       "    .dataframe thead th {\n",
       "        text-align: left;\n",
       "    }\n",
       "\n",
       "    .dataframe tbody tr th {\n",
       "        vertical-align: top;\n",
       "    }\n",
       "</style>\n",
       "<table border=\"1\" class=\"dataframe\">\n",
       "  <thead>\n",
       "    <tr style=\"text-align: right;\">\n",
       "      <th></th>\n",
       "      <th>Фамилия</th>\n",
       "      <th>Имя</th>\n",
       "      <th>Отчество</th>\n",
       "    </tr>\n",
       "  </thead>\n",
       "  <tbody>\n",
       "    <tr>\n",
       "      <th>800</th>\n",
       "      <td>Стрелкова</td>\n",
       "      <td>Глафира</td>\n",
       "      <td>Глебовна</td>\n",
       "    </tr>\n",
       "    <tr>\n",
       "      <th>801</th>\n",
       "      <td>Константин</td>\n",
       "      <td>Лыткин</td>\n",
       "      <td>Николаевич</td>\n",
       "    </tr>\n",
       "    <tr>\n",
       "      <th>802</th>\n",
       "      <td>Субботина</td>\n",
       "      <td>Георгьевна</td>\n",
       "      <td>Оксана</td>\n",
       "    </tr>\n",
       "    <tr>\n",
       "      <th>803</th>\n",
       "      <td>Евгеньевна</td>\n",
       "      <td>Милица</td>\n",
       "      <td>Бурова</td>\n",
       "    </tr>\n",
       "    <tr>\n",
       "      <th>804</th>\n",
       "      <td>Арсеньевич</td>\n",
       "      <td>Мэлор</td>\n",
       "      <td>Сорокин</td>\n",
       "    </tr>\n",
       "  </tbody>\n",
       "</table>\n",
       "</div>"
      ],
      "text/plain": [
       "        Фамилия         Имя    Отчество\n",
       "800   Стрелкова     Глафира    Глебовна\n",
       "801  Константин      Лыткин  Николаевич\n",
       "802   Субботина  Георгьевна      Оксана\n",
       "803  Евгеньевна      Милица      Бурова\n",
       "804  Арсеньевич       Мэлор     Сорокин"
      ]
     },
     "execution_count": 14,
     "metadata": {},
     "output_type": "execute_result"
    }
   ],
   "source": [
    "test_changed_df.head()"
   ]
  },
  {
   "cell_type": "code",
   "execution_count": 40,
   "metadata": {
    "scrolled": false
   },
   "outputs": [],
   "source": [
    "train=[]\n",
    "for i in train_df.values:\n",
    "    train.append((\"%s %s %s\"%(i[0],i[1],i[2])))\n",
    "    \n",
    "test_true=[]\n",
    "for i in test_df.values:\n",
    "    test_true.append((\"%s %s %s\"%(i[0],i[1],i[2])))\n",
    "    \n",
    "test_changed=[]\n",
    "for i in test_changed_df.values:\n",
    "    test_changed.append((\"%s %s %s\"%(i[0],i[1],i[2])))"
   ]
  },
  {
   "cell_type": "code",
   "execution_count": 49,
   "metadata": {},
   "outputs": [
    {
     "data": {
      "text/plain": [
       "('Лыткин Константин Николаевич', 'Константин Лыткин Николаевич')"
      ]
     },
     "execution_count": 49,
     "metadata": {},
     "output_type": "execute_result"
    }
   ],
   "source": [
    "test_true[1],test_changed[1] #Демонстрация изменений (0-я запись не изменилась)"
   ]
  },
  {
   "cell_type": "code",
   "execution_count": null,
   "metadata": {
    "collapsed": true
   },
   "outputs": [],
   "source": []
  },
  {
   "cell_type": "code",
   "execution_count": null,
   "metadata": {
    "collapsed": true
   },
   "outputs": [],
   "source": []
  },
  {
   "cell_type": "code",
   "execution_count": 50,
   "metadata": {
    "collapsed": true
   },
   "outputs": [],
   "source": [
    "#Сериализую\n",
    "with open('train.pickle', 'wb') as f:\n",
    "    pickle.dump(train, f)"
   ]
  },
  {
   "cell_type": "code",
   "execution_count": 51,
   "metadata": {
    "collapsed": true
   },
   "outputs": [],
   "source": [
    "#Сериализую\n",
    "with open('test_true.pickle', 'wb') as f:\n",
    "    pickle.dump(test_true, f)"
   ]
  },
  {
   "cell_type": "code",
   "execution_count": 52,
   "metadata": {
    "collapsed": true
   },
   "outputs": [],
   "source": [
    "#Сериализую\n",
    "with open('test_changed.pickle', 'wb') as f:\n",
    "    pickle.dump(test_changed, f)"
   ]
  },
  {
   "cell_type": "code",
   "execution_count": null,
   "metadata": {
    "collapsed": true
   },
   "outputs": [],
   "source": []
  },
  {
   "cell_type": "code",
   "execution_count": 72,
   "metadata": {
    "collapsed": true
   },
   "outputs": [],
   "source": [
    "#Для десериализации\n",
    "with open(\"<Путь до файла>.pickle\",\"rb\") as f:\n",
    "    tmp=pickle.load(f)"
   ]
  }
 ],
 "metadata": {
  "kernelspec": {
   "display_name": "Python 3",
   "language": "python",
   "name": "python3"
  },
  "language_info": {
   "codemirror_mode": {
    "name": "ipython",
    "version": 3
   },
   "file_extension": ".py",
   "mimetype": "text/x-python",
   "name": "python",
   "nbconvert_exporter": "python",
   "pygments_lexer": "ipython3",
   "version": "3.6.1"
  }
 },
 "nbformat": 4,
 "nbformat_minor": 2
}
