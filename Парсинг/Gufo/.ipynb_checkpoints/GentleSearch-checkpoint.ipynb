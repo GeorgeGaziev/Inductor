{
 "cells": [
  {
   "cell_type": "code",
   "execution_count": 56,
   "metadata": {
    "collapsed": true
   },
   "outputs": [],
   "source": [
    "import urllib\n",
    "import urllib.parse\n",
    "import urllib.request\n",
    "from bs4 import BeautifulSoup\n",
    "import pickle\n",
    "from collections import Counter\n",
    "from collections import namedtuple\n",
    "import re\n",
    "import xlwings as xw\n",
    "import pandas as pd\n",
    "import numpy as np\n",
    "from tqdm import tqdm_notebook"
   ]
  },
  {
   "cell_type": "code",
   "execution_count": 47,
   "metadata": {},
   "outputs": [],
   "source": [
    "romanPath=\"/Users/roman/\"\n",
    "goshaPath=\"\"\n",
    "annaPath=\"\"\n",
    "path=\"Inductor/data/\" \n",
    "\n",
    "generalPath=romanPath+path #поменяйте romanPath на свой"
   ]
  },
  {
   "cell_type": "code",
   "execution_count": 48,
   "metadata": {},
   "outputs": [],
   "source": [
    "with open(generalPath+\"NamesFromGufo.pickle\",\"rb\") as f:\n",
    "    all_names=pickle.load(f)\n",
    "with open(generalPath+\"PatronymicsFromGufo.pickle\",\"rb\") as f:\n",
    "    all_patronymics=pickle.load(f)"
   ]
  },
  {
   "cell_type": "code",
   "execution_count": 17,
   "metadata": {
    "collapsed": true
   },
   "outputs": [],
   "source": [
    "def distance(s, t):\n",
    "    if s == t: return 0\n",
    "    elif len(s) == 0: return len(t)\n",
    "    elif len(t) == 0: return len(s)\n",
    "    v0 = [None] * (len(t) + 1)\n",
    "    v1 = [None] * (len(t) + 1)\n",
    "    for i in range(len(v0)):\n",
    "        v0[i] = i\n",
    "    for i in range(len(s)):\n",
    "        v1[0] = i + 1\n",
    "        for j in range(len(t)):\n",
    "            cost = 0 if s[i] == t[j] else 1\n",
    "            v1[j + 1] = min(v1[j] + 1, v0[j + 1] + 1, v0[j] + cost)\n",
    "        for j in range(len(v0)):\n",
    "            v0[j] = v1[j]\n",
    "    return v1[len(t)]"
   ]
  },
  {
   "cell_type": "code",
   "execution_count": 23,
   "metadata": {
    "collapsed": true
   },
   "outputs": [],
   "source": [
    "def checkSurnames(s):\n",
    "    pattern = '\\w*(ов|ова|ев|ёв|ева|ёва|ив|ин|ина|ын|их|ых|ский|цкий|ая|ко)$'\n",
    "    if (re.match(pattern,s)): return True\n",
    "    else: return False"
   ]
  },
  {
   "cell_type": "code",
   "execution_count": 25,
   "metadata": {
    "collapsed": true
   },
   "outputs": [],
   "source": [
    "def checkPatronymic(s):\n",
    "    pattern = '\\w*(ович|евич|ич|овна|евна|ична|инична)$'\n",
    "    if (re.match(pattern,s)):\n",
    "        return True\n",
    "    else: return False"
   ]
  },
  {
   "cell_type": "code",
   "execution_count": 26,
   "metadata": {
    "collapsed": true
   },
   "outputs": [],
   "source": [
    "genderTuple = ('male', 'female', 'unknown')"
   ]
  },
  {
   "cell_type": "code",
   "execution_count": 27,
   "metadata": {
    "collapsed": true
   },
   "outputs": [],
   "source": [
    "def checkSurnamesGender(s):\n",
    "    patternMale = '\\w*(ов|ев|ий|ын|ин)$'\n",
    "    patternFem ='\\w*(ова|ева|ая|ина|ына)$'\n",
    "    patternUnknown = '\\w*(их|ых|ко|ук|юк|ун|ний|ный|чай|ий|а|ич|ов|ук|ик|ски|ка|ски|цки|дзки)$'\n",
    "    \n",
    "    if (re.match(patternMale,s)):\n",
    "        return genderTuple[0]\n",
    "    elif (re.match(patternFem,s)):\n",
    "        return genderTuple[1]\n",
    "    elif (re.match(patternUnknown,s)):\n",
    "        return genderTuple[2]\n",
    "    else: return 'No'"
   ]
  },
  {
   "cell_type": "code",
   "execution_count": 28,
   "metadata": {
    "collapsed": true
   },
   "outputs": [],
   "source": [
    "def changeGenderSurname(s):\n",
    "    patternMaleA = '\\w*(ов|ев|ин|ын)$'\n",
    "    patternFemA ='\\w*(ова|ева|ина|ына)$'\n",
    "    patternMaleB = '\\w*(ий)$'\n",
    "    patternFemB = '\\w*(ая)$'\n",
    "    \n",
    "    if(re.match(patternMaleA, s)):\n",
    "        return s + 'a'\n",
    "    elif (re.match(patternMaleB, s)):       \n",
    "        s += ' '\n",
    "        return s.replace('ий ', 'ая')\n",
    "    elif (re.match(patternFemA, s)):\n",
    "        return s[0: len(s)-1]\n",
    "    elif (re.match(patternFemB, s)): \n",
    "        s += ' '\n",
    "        return s.replace('ая ', 'ий')\n",
    "    else: return s"
   ]
  },
  {
   "cell_type": "code",
   "execution_count": 29,
   "metadata": {
    "collapsed": true
   },
   "outputs": [],
   "source": [
    "def checkPatronymicGender(s):\n",
    "    patternMale = '\\w*(ович|евич|ич)$'\n",
    "    patternFem ='\\w*(овна|евна|ична|инична)$'\n",
    "   \n",
    "    if (re.match(patternMale,s)):\n",
    "        return genderTuple[0]\n",
    "    elif (re.match(patternFem,s)):\n",
    "        return genderTuple[1]\n",
    "    else: return 'No'    "
   ]
  },
  {
   "cell_type": "code",
   "execution_count": 30,
   "metadata": {
    "collapsed": true
   },
   "outputs": [],
   "source": [
    "def changeGenderPatronymic(s):\n",
    "    patternMaleA = '\\w*(ович|евич)$'\n",
    "    patternFemA ='\\w*(овна|евна)$'\n",
    "    patternMaleB = '\\w*(ич)$'\n",
    "    patternFemB = '\\w*(ична|инична)$'\n",
    "\n",
    "    if(re.match(patternMaleA, s)):\n",
    "        s += ' '\n",
    "        return s.replace('ич ', 'на')\n",
    "    if(re.match(patternFemA, s)):\n",
    "        s += ' '\n",
    "        return s.replace('на ', 'ич')     \n",
    "    if(re.match(patternMaleB, s)):\n",
    "        return s + 'на'   \n",
    "    if(re.match(patternFemB, s)):\n",
    "        s += ' '\n",
    "        s = s.replace('инична ', 'ич')\n",
    "        s = s.replace('ична ', 'ич')\n",
    "        return s    \n",
    "    else: return s"
   ]
  },
  {
   "cell_type": "code",
   "execution_count": 31,
   "metadata": {
    "collapsed": true
   },
   "outputs": [],
   "source": [
    "def Brute(tmp):\n",
    "    res = []\n",
    "    errs=[]\n",
    "    for t in tmp:\n",
    "        name = \"\"\n",
    "        surname = \"\"\n",
    "        patronymic = \"\"\n",
    "        words = t.split(\" \")\n",
    "        for w in words:\n",
    "            w = w.lower()\n",
    "            w.strip()\n",
    "            if (name == \"\"):\n",
    "                if (w in all_names):\n",
    "                    name = w\n",
    "\n",
    "            if (patronymic == \"\"):\n",
    "                if (w in all_patronymics):\n",
    "                    patronymic = w\n",
    "\n",
    "            if (name != w and patronymic != w and surname == \"\"):\n",
    "                surname = w\n",
    "\n",
    "        if (name == \"\"):\n",
    "            name = \"N:'\"+w+\"'_Not_Found\"\n",
    "            #errs.append(\"name '\" + w + \"' in \" + t)\n",
    "        if (patronymic == \"\"):\n",
    "            patronymic = \"P:'\"+w+\"'_Not_Found\"\n",
    "            errs.append(\"patronymic '\" + w + \"' in \" + t)\n",
    "        name = name.title()\n",
    "        surname = surname.title()\n",
    "        patronymic = patronymic.title()\n",
    "        res.append(surname + \" \" + name + \" \" + patronymic)\n",
    "\n",
    "    if len(errs)!=0:\n",
    "        res.append(\"----Ошибки----\")\n",
    "        for i in errs:\n",
    "            res.append(i)\n",
    "    return res"
   ]
  },
  {
   "cell_type": "code",
   "execution_count": 63,
   "metadata": {
    "collapsed": true
   },
   "outputs": [],
   "source": [
    "def NotBruteEnough(tmp):\n",
    "    res = []\n",
    "\n",
    "    for t in tqdm_notebook(tmp):\n",
    "        name = \"\"\n",
    "        surname = \"\"\n",
    "        patronymic = \"\"\n",
    "        t = t.lower()\n",
    "        words = t.split(\" \")\n",
    "\n",
    "        for w in words:\n",
    "            w.strip()\n",
    "            if (name == \"\"):\n",
    "                if (w in all_names):\n",
    "                    name = w\n",
    "\n",
    "            if (patronymic == \"\"):\n",
    "                if (w in all_patronymics):\n",
    "                    patronymic = w\n",
    "\n",
    "            if (name != w and patronymic != w and checkSurnames(w) and surname == \"\"):\n",
    "                surname = w\n",
    "\n",
    "        if (name in words): words.remove(name)\n",
    "        if (patronymic in words): words.remove(patronymic)\n",
    "        if (surname in words): words.remove(surname)\n",
    "\n",
    "        if (name == \"\") & (len(words) > 0):\n",
    "            foundWord = \"\"\n",
    "            for w in words:\n",
    "                minDist = len(w)\n",
    "                for n in all_names:\n",
    "                    dist = distance(w, n)\n",
    "                    if dist < minDist:\n",
    "                        minDist = dist\n",
    "                        name = n.title() + \" (\" + str(round((1 - minDist / len(w)) * 100)) + \"% \" + w + \")\"\n",
    "                        foundWord = w\n",
    "            words.remove(foundWord)\n",
    "\n",
    "        if (patronymic == \"\") & (len(words) > 0):\n",
    "            foundWord = \"\"\n",
    "            for w in words:\n",
    "                minDist = len(w)\n",
    "                for p in all_patronymics:\n",
    "                    dist = distance(w, p)\n",
    "                    if dist < minDist:\n",
    "                        minDist = dist\n",
    "                        patronymic = p.title() + \" (\" + str(round((1 - minDist / len(w)) * 100)) + \"% \" + w + \")\"\n",
    "                        foundWord = w\n",
    "            words.remove(foundWord)\n",
    "\n",
    "        if (surname == \"\")& (len(words) > 0):\n",
    "            surname = words[0]\n",
    "\n",
    "        name = name.title()\n",
    "        surname = surname.title()\n",
    "        patronymic = patronymic.title()\n",
    "        res.append(surname + \" \" + name + \" \" + patronymic)\n",
    "\n",
    "    return res"
   ]
  },
  {
   "cell_type": "code",
   "execution_count": 33,
   "metadata": {
    "collapsed": true
   },
   "outputs": [],
   "source": [
    "def detectSurname(w):\n",
    "    w = w.lower()\n",
    "    if (checkSurnames(w)):\n",
    "        return [w, 1.0]\n",
    "    else: \n",
    "        return [w, 0.5] #Ну пока так, фамилии разные бывают. Когда будет справочник, сделаем по-другому "
   ]
  },
  {
   "cell_type": "code",
   "execution_count": 34,
   "metadata": {
    "collapsed": true
   },
   "outputs": [],
   "source": [
    "def detectName(w):\n",
    "    w = w.lower()\n",
    "    if (w in all_names):\n",
    "        return [w, 1.0]\n",
    "    else:\n",
    "        name = w\n",
    "        minDist = len(w)\n",
    "        for n in all_names:\n",
    "            dist = distance(w, n)\n",
    "            if dist < minDist:\n",
    "                minDist = dist\n",
    "                name = n\n",
    "        probability = round(1 - minDist / len(w), 2)\n",
    "        return [name, probability]"
   ]
  },
  {
   "cell_type": "code",
   "execution_count": 35,
   "metadata": {
    "collapsed": true
   },
   "outputs": [],
   "source": [
    "def detectPatronymic(w):\n",
    "    w = w.lower()\n",
    "    if (w in all_patronymics):\n",
    "        return [w, 1.0]\n",
    "    #elif (checkPatronymic(w)):\n",
    "    #    return [w.title(), 0.90] #да, от балды, потом исправим\n",
    "    else:\n",
    "        patronymic = w\n",
    "        minDist = len(w)\n",
    "        for p in all_patronymics:\n",
    "            dist = distance(w, p)\n",
    "            if dist < minDist:\n",
    "                minDist = dist\n",
    "                patronymic = p\n",
    "        probability = round(1 - minDist / len(w), 2)\n",
    "        return [patronymic, probability]"
   ]
  },
  {
   "cell_type": "code",
   "execution_count": 36,
   "metadata": {
    "collapsed": true
   },
   "outputs": [],
   "source": [
    "def FIO(words):\n",
    "    surname=detectSurname(words[0])\n",
    "    name=detectName(words[1])\n",
    "    patronymic=detectPatronymic(words[2])\n",
    "    return [surname, name, patronymic]"
   ]
  },
  {
   "cell_type": "code",
   "execution_count": 37,
   "metadata": {
    "collapsed": true
   },
   "outputs": [],
   "source": [
    "def IOF(words):\n",
    "    surname=detectSurname(words[2])\n",
    "    name=detectName(words[0])\n",
    "    patronymic=detectPatronymic(words[1])\n",
    "    return [surname, name, patronymic]"
   ]
  },
  {
   "cell_type": "code",
   "execution_count": 38,
   "metadata": {
    "collapsed": true
   },
   "outputs": [],
   "source": [
    "def IFO(words):\n",
    "    surname=detectSurname(words[1])\n",
    "    name=detectName(words[0])\n",
    "    patronymic=detectPatronymic(words[2])\n",
    "    return [surname, name, patronymic]"
   ]
  },
  {
   "cell_type": "code",
   "execution_count": 39,
   "metadata": {
    "collapsed": true
   },
   "outputs": [],
   "source": [
    "def ElseOptions(words): #Настолько кривой, насколько возможно\n",
    "    surname = [\"\",0] \n",
    "    name= [\"\",0] \n",
    "    patronymic = [\"\",0] \n",
    "    \n",
    "    for w in words:\n",
    "        w.strip()\n",
    "        \n",
    "        if (name[0] == \"\"):\n",
    "            if (w in all_names):\n",
    "                name = [w,1.0]\n",
    "        if (patronymic[0] == \"\"):\n",
    "            if (w in all_patronymics):\n",
    "                patronymic = [w,1.0]\n",
    "        if (name[0] != w and patronymic[0] != w and checkSurnames(w) and surname[0] == \"\"):\n",
    "            surname = [w,1.0]\n",
    "\n",
    "    if (name[0] in words): words.remove(name[0])\n",
    "    if (patronymic[0] in words): words.remove(patronymic[0])\n",
    "    if (surname[0] in words): words.remove(surname[0])\n",
    "\n",
    "    if (name[0] == \"\") & (len(words) > 0):\n",
    "        foundWord = \"\"\n",
    "        for w in words:\n",
    "            minDist = len(w)\n",
    "            for n in all_names:\n",
    "                dist = distance(w, n)\n",
    "                if dist <= minDist:\n",
    "                    minDist = dist\n",
    "                    name[0] = n\n",
    "                    foundWord = w\n",
    "            name[1] = round(1 - minDist / len(w), 2)\n",
    "        words.remove(foundWord)\n",
    "    \n",
    "    if (patronymic[0] == \"\") & (len(words) > 0):\n",
    "        foundWord = \"\"\n",
    "        for w in words:\n",
    "            minDist = len(w)\n",
    "            for p in all_patronymics:\n",
    "                dist = distance(w, p)\n",
    "                if dist <= minDist:\n",
    "                    minDist = dist\n",
    "                    patronymic[0] = p\n",
    "                    foundWord = w\n",
    "\n",
    "            patronymic[1] = round(1 - minDist / len(w), 2)\n",
    "        words.remove(foundWord)\n",
    "    \n",
    "    if (surname[0] == \"\")& (len(words) > 0):\n",
    "        surname = [words[0], 0.5]\n",
    "    return [surname, name, patronymic]"
   ]
  },
  {
   "cell_type": "code",
   "execution_count": 40,
   "metadata": {
    "collapsed": true
   },
   "outputs": [],
   "source": [
    "def FI(words):\n",
    "    surname=detectSurname(words[0])\n",
    "    name=detectName(words[1])\n",
    "    return [surname, name]"
   ]
  },
  {
   "cell_type": "code",
   "execution_count": 41,
   "metadata": {
    "collapsed": true
   },
   "outputs": [],
   "source": [
    "def IF(words):\n",
    "    surname=detectSurname(words[1])\n",
    "    name=detectName(words[0])\n",
    "    return [surname, name]"
   ]
  },
  {
   "cell_type": "code",
   "execution_count": 46,
   "metadata": {},
   "outputs": [
    {
     "name": "stdout",
     "output_type": "stream",
     "text": [
      "[[['бучнева', 1.0], ['анна', 1.0], ['всеволодовна', 1.0]]]\n"
     ]
    }
   ],
   "source": [
    "def HypothesisSearch(tmp):#не доделан\n",
    "    res = []\n",
    "    \n",
    "    hypo3 = {FIO: 0.40, IOF: 0.35, IFO: 0.25, ElseOptions: 0.05}\n",
    "    #hypo2 = {FI: 0.5, IF: 0.5}\n",
    "    #hypo = {FIO: 0.60, IOF: 0.40}\n",
    "    for t in tmp:\n",
    "        t = t.lower()\n",
    "        words = t.split(\" \")\n",
    "        for w in words: w.strip()\n",
    "        \n",
    "        if (len(words)==3):\n",
    "            method = lambda x:0\n",
    "            max = 0\n",
    "            for h in hypo3:\n",
    "                if (hypo3[h]>max):\n",
    "                    max = hypo3[h]\n",
    "                    method = h\n",
    "            res.append(method(words))\n",
    "        #elif (len(words)==2):\n",
    "                    \n",
    "        else: \n",
    "            res.append(t)\n",
    "    return res\n",
    "print(HypothesisSearch([\"Бучнева Анна Всеволодовна\"]))"
   ]
  },
  {
   "cell_type": "code",
   "execution_count": 70,
   "metadata": {
    "collapsed": true
   },
   "outputs": [],
   "source": [
    "with open(generalPath+\"test_trueODS.pickle\",\"rb\") as f:\n",
    "    test_true=pickle.load(f)"
   ]
  },
  {
   "cell_type": "code",
   "execution_count": 71,
   "metadata": {
    "collapsed": true
   },
   "outputs": [],
   "source": [
    "with open(generalPath+\"test_changedODS.pickle\",\"rb\") as f:\n",
    "    test_changed=pickle.load(f)"
   ]
  },
  {
   "cell_type": "code",
   "execution_count": 126,
   "metadata": {},
   "outputs": [
    {
     "data": {
      "application/vnd.jupyter.widget-view+json": {
       "model_id": "97a5c60c47764f9bb7d65e3ab2dbf545"
      }
     },
     "metadata": {},
     "output_type": "display_data"
    },
    {
     "name": "stdout",
     "output_type": "stream",
     "text": [
      "\n"
     ]
    }
   ],
   "source": [
    "testing_res=NotBruteEnough(test_changed)\n",
    "# for fio in testing_res:\n",
    "#     print(fio)"
   ]
  },
  {
   "cell_type": "code",
   "execution_count": 69,
   "metadata": {
    "collapsed": true
   },
   "outputs": [
    {
     "name": "stdout",
     "output_type": "stream",
     "text": [
      "Валиуллин Макровий (62% Марсович) Авдеич (40% Адель)\n",
      "Круглов Артема (80% Артем) Игоревич\n",
      "Кучкаров Иисус (50% Ильдус) Гиларович (70% Ильдарович)\n",
      "Смирнов Артема (80% Артем) Сергеевич\n",
      "Инносентович Гонората (45% Нгомиракиза) Ларгиевич (55% Ларри-Элвис)\n",
      "Вкиторович Никита Аверкич (33% Черкес)\n",
      "Гараева Регина Игнатовна (70% Ильшатовна)\n",
      "Гиздатуллин Данил Катунович (70% Кутдусович)\n",
      "Джумакаев Тимур Капикович (70% Казбекович)\n",
      "Криницын Артема (80% Артем) Васильевич\n",
      "Мустаев Иларий (50% Ильдарович) Абрамыч (20% Айрат)\n",
      "Морозов Максим Дмитриевич (91% Дмитричевич)\n",
      "Марич Владимир Ражденович (80% Раденкович)\n",
      "Сафина Дина Ариевна (75% Бориевна)\n",
      "Гапархоев Вата (75% Ваха) Аетиевич (75% Лечиевич)\n",
      "Ермилов Артема (80% Артем) Сергеевич\n",
      "Пасевьева Алина (80% Алена) Игоревна\n",
      "Бадамшин Иларий (50% Ильдарович) Вилыч (20% Булат)\n",
      "Саиткулов Март (80% Марат) Ипатович (78% Ришатович)\n",
      "Бутаев Наль (60% Рауль) Сергеевич\n",
      "Ерин Федора (80% Федор) Михайлович\n",
      "Трунов Артема (80% Артем) Геннадьевич\n",
      "Мухаметшина Гаяна (80% Даяна) Адамовна (78% Айдаровна)\n",
      "Гогорян Владимир Савелович (90% Самвелович)\n",
      "Закиров Руслан Камиллович (78% Камилевич)\n",
      "Исмагилов Анатолий (56% Ринатович) Линыч (60% Линар)\n",
      "Ширяева Елизавета Федосовна (89% Федоровна)\n",
      "Ахметов Рахиль (80% Раиль) Рафилович (89% Рамилович)\n",
      "Калиев Рахиль (83% Рамиль) Васильевич (80% Равильевич)\n",
      "Сазонов Игорь Лазаревич (75% Зазаевич)\n",
      "Хасанов Тимур Васильевич (80% Равильевич)\n",
      "Артемьев Максим Радимович (89% Радикович)\n",
      "Вафин Тимур Авелевич (67% Шамилевич)\n",
      "Овченкова Алина (80% Алена) Константиновна\n",
      "Оразбаев Азар (60% Акбар) Абрамиевич (27% Нурахметулы)\n",
      "Чаплин Всеволод Власыч (57% Владыка)\n",
      "Ескенин Ренат Марсалиевич (73% Нургалиевич)\n",
      "Артем Викул (40% Мищук) Александрович\n",
      "Юрчук Анастасия Александровна (92% Олександровна)\n",
      "Сусляев Федора (80% Федор) Александрович\n",
      "Березгов Азар (60% Анзор) Захариевич (73% Мухарбиевич)\n",
      "Амелия Алиса Амосыч (50% Акоста)\n",
      "Зраев Артема (80% Артем) Юрьевич\n",
      "Сидельникова Алина (80% Алена) Леонидовна\n",
      "Кореневский Артема (80% Артем) Андреевич\n",
      "Айкаев Густа (67% Рустам) Ренатович (89% Ринатович)\n",
      "Сулейманов Иларий (50% Ильдарович) Вилыч (20% Булат)\n",
      "Ян-Мартин Наум (50% Тамм) Ариевич (67% Юривич)\n",
      "Усанин Федора (80% Федор) Николаевич\n",
      "Хасанов Амур (75% Амир) Васильевич (80% Равильевич)\n",
      "Шайфутдинов Иларий (50% Ильдарович) Авдич (40% Айдар)\n",
      "Богомолов Иоиль (60% Эмиль) Николаевич\n",
      "Логуманов Александр Гаганович (80% Гафуанович)\n",
      "Пилькевич Артема (80% Артем) Александрович\n",
      "Содномов Алексей Элизбарович (60% Эрдэни-Баирович)\n",
      "Фатхутдинова Милия Мартовна (88% Маатовна)\n",
      "Яковлев Густа (67% Рустам) Александрович\n",
      "Шипхинеев Макар (83% Максар) Аркадьевич\n",
      "Суренович Артур Агапыч (43% Ваганян)\n",
      "Марданов Ангий (50% Чингиз) Альбертович\n",
      "Пан Пард (75% Панд) Малович\n",
      "Артем Валерий (64% Валерийович) Амплич (25% Цымбалюк)\n",
      "Юнусов Густа (67% Рустам) Русланович (80% Рустамович)\n",
      "Гаврилов Артема (80% Артем) Денисович\n",
      "Галеев Тимур Авидович (78% Фаридович)\n",
      "Гуськова Мария Сергеевна (90% Сесргеевна)\n",
      "Лорян Аарон (60% Карен) Арсенович\n",
      "Савельев Артема (80% Артем) Владимирович\n",
      "Стеснягин Семён (80% Семен) Михайлович\n",
      "Сухоруков Максим Константинович (92% Костантинович)\n",
      "Швец Алексей (71% Алескей) Александрович\n",
      "Ремигиюсович Гера (50% Гярчас) Азична (33% Раймундас)\n",
      "Адыгамов Милетий (50% Шамильевич) Ильич (60% Ильяс)\n",
      "Гумеров Рустик (67% Рустем) Авидович (78% Фаридович)\n",
      "Курочкина Аниса (80% Анита) Анатольевна\n",
      "Муртазович Георгий Ананич (57% Малания)\n",
      "Сухин Антон Анатольевич (82% Фнфтольевич)\n",
      "Хассан Денис (83% Деннис) Михайлыч (38% Мохаммад)\n",
      "Бакаров Анатолий (56% Асхатович) Азич (50% Амир)\n",
      "Максымив Алексей Петрович (88% Петровыч)\n",
      "Шарафиев Ангий (50% Тенгиз) Радимович (78% Рашитович)\n",
      "Фазлиахметов Алоний (50% Наилович) Авдич (20% Алмаз)\n",
      "Дидух Леонид Александрович (92% Олександрович)\n",
      "Полупанов Михаил Реасович (78% Ревазович)\n",
      "Исмагилов Руслан Мартович (89% Маратович)\n",
      "Каримова Диана Гиларовна (70% Ильдаровна)\n",
      "Мухаматнурова Алина Мартьяновна (77% Маулитьяновна)\n",
      "Федорович Дмитрий Ермилич (71% Ярмолич)\n",
      "Гилязев Руслан Адамович (78% Айдарович)\n",
      "Джек Капитон (67% (Капитан)) Тарасыч (43% Уарабэй)\n",
      "Джунушалиев Артема (80% Артем) Борисович\n",
      "Залалов Руслан Харитович (89% Фаритович)\n",
      "Фарманович Владислав Карлыч (50% Кассым)\n",
      "Киекбаев Зиновий (44% Эхиярович) Авдич (20% Анвар)\n",
      "Приданников Артема (80% Артем) Петрович\n",
      "Раупов Дмитрий Гордианович (69% Собирджанович)\n",
      "Хрипунова Анна Авдич (33% Балджы)\n",
      "Шакирова Гаия (60% Наиля) Масутовна (80% Мансуровна)\n",
      "Шигапов Харитоний (56% Халимович) Зинич (40% Ринат)\n",
      "Бардаков Артема (80% Артем) Анатольевич\n",
      "Тарекович Виталий Азич (33% Лазука)\n",
      "Абдолазиз Герасим (67% Дерсим) Авдич (33% Давоод)\n",
      "Зайцев Федора (80% Федор) Александрович\n",
      "Захаров Андрей Альбертович (82% Ольгертович)\n",
      "Самигуллин Артур Иисусович (70% Ильдусович)\n",
      "Шейко Артема (80% Артем) Анатольевич\n",
      "Олеся Аза (60% Казак) Николаевна\n",
      "Селютина Екатерина Ульяновна (78% Ильясовна)\n",
      "Гусманов Камилл Маркеевич (80% Марселевич)\n",
      "Осмоловский Семён (80% Семен) Александрович\n",
      "Яна-Мария Аристид (57% Пристли) Валентиновна\n",
      "Галеев Харит (80% Фарит) Варакович (78% Фарукович)\n",
      "Кайгородов Ванда (67% Сандал) Степанович\n",
      "Туктаров Милетий (56% Рамилевич) Адамыч (40% Дамир)\n",
      "Хабибуллин Афоний (50% Рауфович) Вилыч (20% Булат)\n",
      "Хабибуллин Афоний (50% Рауфович) Вилыч (20% Булат)\n",
      "Хабибуллин Филат (60% Булат) Руфович (88% Рауфович)\n",
      "Всего не уверены в: 117\n"
     ]
    }
   ],
   "source": [
    "errs=0\n",
    "for i in testing_res:\n",
    "    if (i.find(\"%\")!=-1):\n",
    "        print (i)\n",
    "        errs+=1\n",
    "print(\"Всего не уверены в: \" + str(errs))"
   ]
  },
  {
   "cell_type": "code",
   "execution_count": 122,
   "metadata": {
    "collapsed": true
   },
   "outputs": [],
   "source": [
    "def accuracy(prediction,true):\n",
    "    '''prediction-то что предсказали  \n",
    "    true-исходный список\n",
    "    Возвращяет массив из 2-х чисел. 1-ое количество ошибок 2-ое процент ошибок'''\n",
    "    error=0\n",
    "    assert (len(prediction)==len(true)),\"arrays has different length\"\n",
    "    for i in range(0,len(prediction)):\n",
    "        error+= 1 if prediction[i].lower()!=true[i].lower() else 0\n",
    "    return [error,error*100/len(true)]"
   ]
  },
  {
   "cell_type": "code",
   "execution_count": 121,
   "metadata": {},
   "outputs": [
    {
     "data": {
      "text/plain": [
       "[126, 11.180124223602485]"
      ]
     },
     "execution_count": 121,
     "metadata": {},
     "output_type": "execute_result"
    }
   ],
   "source": [
    "accuracy(testing_res,test_true)"
   ]
  }
 ],
 "metadata": {
  "kernelspec": {
   "display_name": "Python 3",
   "language": "python",
   "name": "python3"
  },
  "language_info": {
   "codemirror_mode": {
    "name": "ipython",
    "version": 3
   },
   "file_extension": ".py",
   "mimetype": "text/x-python",
   "name": "python",
   "nbconvert_exporter": "python",
   "pygments_lexer": "ipython3",
   "version": "3.6.1"
  }
 },
 "nbformat": 4,
 "nbformat_minor": 2
}
