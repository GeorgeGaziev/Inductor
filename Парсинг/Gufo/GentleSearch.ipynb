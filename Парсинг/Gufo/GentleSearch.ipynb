{
 "cells": [
  {
   "cell_type": "code",
   "execution_count": 1,
   "metadata": {
    "collapsed": true
   },
   "outputs": [],
   "source": [
    "import urllib\n",
    "import urllib.parse\n",
    "import urllib.request\n",
    "from bs4 import BeautifulSoup\n",
    "import pickle\n",
    "from collections import Counter\n",
    "from collections import namedtuple\n",
    "import re\n",
    "import xlwings as xw\n",
    "import pandas as pd\n",
    "import numpy as np\n",
    "from tqdm import tqdm_notebook"
   ]
  },
  {
   "cell_type": "code",
   "execution_count": 2,
   "metadata": {
    "collapsed": true
   },
   "outputs": [],
   "source": [
    "romanPath=\"/Users/roman/\"\n",
    "goshaPath=\"\"\n",
    "annaPath=\"\"\n",
    "path=\"Inductor/data/\" \n",
    "\n",
    "generalPath=romanPath+path #поменяйте romanPath на свой"
   ]
  },
  {
   "cell_type": "code",
   "execution_count": 3,
   "metadata": {
    "collapsed": true
   },
   "outputs": [],
   "source": [
    "with open(generalPath+\"NamesFromGufo.pickle\",\"rb\") as f:\n",
    "    all_names=pickle.load(f)\n",
    "with open(generalPath+\"PatronymicsFromGufo.pickle\",\"rb\") as f:\n",
    "    all_patronymics=pickle.load(f)"
   ]
  },
  {
   "cell_type": "code",
   "execution_count": 4,
   "metadata": {
    "collapsed": true
   },
   "outputs": [],
   "source": [
    "def distance(s, t):\n",
    "    if s == t: return 0\n",
    "    elif len(s) == 0: return len(t)\n",
    "    elif len(t) == 0: return len(s)\n",
    "    v0 = [None] * (len(t) + 1)\n",
    "    v1 = [None] * (len(t) + 1)\n",
    "    for i in range(len(v0)):\n",
    "        v0[i] = i\n",
    "    for i in range(len(s)):\n",
    "        v1[0] = i + 1\n",
    "        for j in range(len(t)):\n",
    "            cost = 0 if s[i] == t[j] else 1\n",
    "            v1[j + 1] = min(v1[j] + 1, v0[j + 1] + 1, v0[j] + cost)\n",
    "        for j in range(len(v0)):\n",
    "            v0[j] = v1[j]\n",
    "    return v1[len(t)]"
   ]
  },
  {
   "cell_type": "code",
   "execution_count": 5,
   "metadata": {
    "collapsed": true
   },
   "outputs": [],
   "source": [
    "def checkSurnames(s):\n",
    "    pattern = '\\w*(ов|ова|ев|ёв|ева|ёва|ив|ин|ина|ын|их|ых|ский|цкий|ая|ко)$'\n",
    "    if (re.match(pattern,s)): return True\n",
    "    else: return False"
   ]
  },
  {
   "cell_type": "code",
   "execution_count": 6,
   "metadata": {
    "collapsed": true
   },
   "outputs": [],
   "source": [
    "def checkPatronymic(s):\n",
    "    pattern = '\\w*(ович|евич|ич|овна|евна|ична|инична)$'\n",
    "    if (re.match(pattern,s)):\n",
    "        return True\n",
    "    else: return False"
   ]
  },
  {
   "cell_type": "code",
   "execution_count": 7,
   "metadata": {
    "collapsed": true
   },
   "outputs": [],
   "source": [
    "genderTuple = ('male', 'female', 'unknown')"
   ]
  },
  {
   "cell_type": "code",
   "execution_count": 8,
   "metadata": {
    "collapsed": true
   },
   "outputs": [],
   "source": [
    "def checkSurnamesGender(s):\n",
    "    patternMale = '\\w*(ов|ев|ий|ын|ин)$'\n",
    "    patternFem ='\\w*(ова|ева|ая|ина|ына)$'\n",
    "    patternUnknown = '\\w*(их|ых|ко|ук|юк|ун|ний|ный|чай|ий|а|ич|ов|ук|ик|ски|ка|ски|цки|дзки)$'\n",
    "    \n",
    "    if (re.match(patternMale,s)):\n",
    "        return genderTuple[0]\n",
    "    elif (re.match(patternFem,s)):\n",
    "        return genderTuple[1]\n",
    "    elif (re.match(patternUnknown,s)):\n",
    "        return genderTuple[2]\n",
    "    else: return 'No'"
   ]
  },
  {
   "cell_type": "code",
   "execution_count": 9,
   "metadata": {
    "collapsed": true
   },
   "outputs": [],
   "source": [
    "def changeGenderSurname(s):\n",
    "    patternMaleA = '\\w*(ов|ев|ин|ын)$'\n",
    "    patternFemA ='\\w*(ова|ева|ина|ына)$'\n",
    "    patternMaleB = '\\w*(ий)$'\n",
    "    patternFemB = '\\w*(ая)$'\n",
    "    \n",
    "    if(re.match(patternMaleA, s)):\n",
    "        return s + 'a'\n",
    "    elif (re.match(patternMaleB, s)):       \n",
    "        s += ' '\n",
    "        return s.replace('ий ', 'ая')\n",
    "    elif (re.match(patternFemA, s)):\n",
    "        return s[0: len(s)-1]\n",
    "    elif (re.match(patternFemB, s)): \n",
    "        s += ' '\n",
    "        return s.replace('ая ', 'ий')\n",
    "    else: return s"
   ]
  },
  {
   "cell_type": "code",
   "execution_count": 10,
   "metadata": {
    "collapsed": true
   },
   "outputs": [],
   "source": [
    "def checkPatronymicGender(s):\n",
    "    patternMale = '\\w*(ович|евич|ич)$'\n",
    "    patternFem ='\\w*(овна|евна|ична|инична)$'\n",
    "   \n",
    "    if (re.match(patternMale,s)):\n",
    "        return genderTuple[0]\n",
    "    elif (re.match(patternFem,s)):\n",
    "        return genderTuple[1]\n",
    "    else: return 'No'    "
   ]
  },
  {
   "cell_type": "code",
   "execution_count": 11,
   "metadata": {
    "collapsed": true
   },
   "outputs": [],
   "source": [
    "def changeGenderPatronymic(s):\n",
    "    patternMaleA = '\\w*(ович|евич)$'\n",
    "    patternFemA ='\\w*(овна|евна)$'\n",
    "    patternMaleB = '\\w*(ич)$'\n",
    "    patternFemB = '\\w*(ична|инична)$'\n",
    "\n",
    "    if(re.match(patternMaleA, s)):\n",
    "        s += ' '\n",
    "        return s.replace('ич ', 'на')\n",
    "    if(re.match(patternFemA, s)):\n",
    "        s += ' '\n",
    "        return s.replace('на ', 'ич')     \n",
    "    if(re.match(patternMaleB, s)):\n",
    "        return s + 'на'   \n",
    "    if(re.match(patternFemB, s)):\n",
    "        s += ' '\n",
    "        s = s.replace('инична ', 'ич')\n",
    "        s = s.replace('ична ', 'ич')\n",
    "        return s    \n",
    "    else: return s"
   ]
  },
  {
   "cell_type": "code",
   "execution_count": 12,
   "metadata": {
    "collapsed": true
   },
   "outputs": [],
   "source": [
    "def Brute(tmp):\n",
    "    res = []\n",
    "    errs=[]\n",
    "    for t in tmp:\n",
    "        name = \"\"\n",
    "        surname = \"\"\n",
    "        patronymic = \"\"\n",
    "        words = t.split(\" \")\n",
    "        for w in words:\n",
    "            w = w.lower()\n",
    "            w.strip()\n",
    "            if (name == \"\"):\n",
    "                if (w in all_names):\n",
    "                    name = w\n",
    "\n",
    "            if (patronymic == \"\"):\n",
    "                if (w in all_patronymics):\n",
    "                    patronymic = w\n",
    "\n",
    "            if (name != w and patronymic != w and surname == \"\"):\n",
    "                surname = w\n",
    "\n",
    "        if (name == \"\"):\n",
    "            name = \"N:'\"+w+\"'_Not_Found\"\n",
    "            #errs.append(\"name '\" + w + \"' in \" + t)\n",
    "        if (patronymic == \"\"):\n",
    "            patronymic = \"P:'\"+w+\"'_Not_Found\"\n",
    "            errs.append(\"patronymic '\" + w + \"' in \" + t)\n",
    "        name = name.title()\n",
    "        surname = surname.title()\n",
    "        patronymic = patronymic.title()\n",
    "        res.append(surname + \" \" + name + \" \" + patronymic)\n",
    "\n",
    "    if len(errs)!=0:\n",
    "        res.append(\"----Ошибки----\")\n",
    "        for i in errs:\n",
    "            res.append(i)\n",
    "    return res"
   ]
  },
  {
   "cell_type": "code",
   "execution_count": 29,
   "metadata": {
    "collapsed": true
   },
   "outputs": [],
   "source": [
    "def NotBruteEnough(tmp):\n",
    "    res = []\n",
    "\n",
    "    for t in tqdm_notebook(tmp):\n",
    "        name = \"\"\n",
    "        surname = \"\"\n",
    "        patronymic = \"\"\n",
    "        t = t.lower()\n",
    "        words = t.split(\" \")\n",
    "\n",
    "        for w in words:\n",
    "            w.strip()\n",
    "            if (name == \"\"):\n",
    "                if (w in all_names):\n",
    "                    name = w\n",
    "\n",
    "            if (patronymic == \"\"):\n",
    "                if (w in all_patronymics):\n",
    "                    patronymic = w\n",
    "\n",
    "            if (name != w and patronymic != w and checkSurnames(w) and surname == \"\"):\n",
    "                surname = w\n",
    "\n",
    "        if (name in words): words.remove(name)\n",
    "        if (patronymic in words): words.remove(patronymic)\n",
    "        if (surname in words): words.remove(surname)\n",
    "\n",
    "        if (name == \"\") & (len(words) > 0):\n",
    "            foundWord = \"\"\n",
    "            for w in words:\n",
    "                minDist = len(w)\n",
    "                for n in all_names:\n",
    "                    dist = distance(w, n)\n",
    "                    if dist < minDist:\n",
    "                        minDist = dist\n",
    "#                         name = n.title() + \" (\" + str(round((1 - minDist / len(w)) * 100)) + \"% \" + w + \")\"\n",
    "                        name = n.title()\n",
    "\n",
    "                        foundWord = w\n",
    "            if (foundWord in words): words.remove(foundWord)\n",
    "\n",
    "        if (patronymic == \"\") & (len(words) > 0):\n",
    "            foundWord = \"\"\n",
    "            for w in words:\n",
    "                minDist = len(w)\n",
    "                for p in all_patronymics:\n",
    "                    dist = distance(w, p)\n",
    "                    if dist < minDist:\n",
    "                        minDist = dist\n",
    "#                         patronymic = p.title() + \" (\" + str(round((1 - minDist / len(w)) * 100)) + \"% \" + w + \")\"\n",
    "                        patronymic = p.title()\n",
    "                        foundWord = w\n",
    "            if (foundWord in words): words.remove(foundWord)\n",
    "\n",
    "        if (surname == \"\")& (len(words) > 0):\n",
    "            surname = words[0]\n",
    "\n",
    "        name = name.title()\n",
    "        surname = surname.title()\n",
    "        patronymic = patronymic.title()\n",
    "        res.append(surname + \" \" + name + \" \" + patronymic)\n",
    "\n",
    "    return res"
   ]
  },
  {
   "cell_type": "code",
   "execution_count": 14,
   "metadata": {
    "collapsed": true
   },
   "outputs": [],
   "source": [
    "def detectSurname(w):\n",
    "    w = w.lower()\n",
    "    if (checkSurnames(w)):\n",
    "        return [w, 1.0]\n",
    "    else: \n",
    "        return [w, 0.5] #Ну пока так, фамилии разные бывают. Когда будет справочник, сделаем по-другому "
   ]
  },
  {
   "cell_type": "code",
   "execution_count": 15,
   "metadata": {
    "collapsed": true
   },
   "outputs": [],
   "source": [
    "def detectName(w):\n",
    "    w = w.lower()\n",
    "    if (w in all_names):\n",
    "        return [w, 1.0]\n",
    "    else:\n",
    "        name = w\n",
    "        minDist = len(w)\n",
    "        for n in all_names:\n",
    "            dist = distance(w, n)\n",
    "            if dist < minDist:\n",
    "                minDist = dist\n",
    "                name = n\n",
    "        probability = round(1 - minDist / len(w), 2)\n",
    "        return [name, probability]"
   ]
  },
  {
   "cell_type": "code",
   "execution_count": 16,
   "metadata": {
    "collapsed": true
   },
   "outputs": [],
   "source": [
    "def detectPatronymic(w):\n",
    "    w = w.lower()\n",
    "    if (w in all_patronymics):\n",
    "        return [w, 1.0]\n",
    "    #elif (checkPatronymic(w)):\n",
    "    #    return [w.title(), 0.90] #да, от балды, потом исправим\n",
    "    else:\n",
    "        patronymic = w\n",
    "        minDist = len(w)\n",
    "        for p in all_patronymics:\n",
    "            dist = distance(w, p)\n",
    "            if dist < minDist:\n",
    "                minDist = dist\n",
    "                patronymic = p\n",
    "        probability = round(1 - minDist / len(w), 2)\n",
    "        return [patronymic, probability]"
   ]
  },
  {
   "cell_type": "code",
   "execution_count": 17,
   "metadata": {
    "collapsed": true
   },
   "outputs": [],
   "source": [
    "def FIO(words):\n",
    "    surname=detectSurname(words[0])\n",
    "    name=detectName(words[1])\n",
    "    patronymic=detectPatronymic(words[2])\n",
    "    return [surname, name, patronymic]"
   ]
  },
  {
   "cell_type": "code",
   "execution_count": 18,
   "metadata": {
    "collapsed": true
   },
   "outputs": [],
   "source": [
    "def IOF(words):\n",
    "    surname=detectSurname(words[2])\n",
    "    name=detectName(words[0])\n",
    "    patronymic=detectPatronymic(words[1])\n",
    "    return [surname, name, patronymic]"
   ]
  },
  {
   "cell_type": "code",
   "execution_count": 19,
   "metadata": {
    "collapsed": true
   },
   "outputs": [],
   "source": [
    "def IFO(words):\n",
    "    surname=detectSurname(words[1])\n",
    "    name=detectName(words[0])\n",
    "    patronymic=detectPatronymic(words[2])\n",
    "    return [surname, name, patronymic]"
   ]
  },
  {
   "cell_type": "code",
   "execution_count": 20,
   "metadata": {
    "collapsed": true
   },
   "outputs": [],
   "source": [
    "def ElseOptions(words): #Настолько кривой, насколько возможно\n",
    "    surname = [\"\",0] \n",
    "    name= [\"\",0] \n",
    "    patronymic = [\"\",0] \n",
    "    \n",
    "    for w in words:\n",
    "        w.strip()\n",
    "        \n",
    "        if (name[0] == \"\"):\n",
    "            if (w in all_names):\n",
    "                name = [w,1.0]\n",
    "        if (patronymic[0] == \"\"):\n",
    "            if (w in all_patronymics):\n",
    "                patronymic = [w,1.0]\n",
    "        if (name[0] != w and patronymic[0] != w and checkSurnames(w) and surname[0] == \"\"):\n",
    "            surname = [w,1.0]\n",
    "\n",
    "    if (name[0] in words): words.remove(name[0])\n",
    "    if (patronymic[0] in words): words.remove(patronymic[0])\n",
    "    if (surname[0] in words): words.remove(surname[0])\n",
    "\n",
    "    if (name[0] == \"\") & (len(words) > 0):\n",
    "        foundWord = \"\"\n",
    "        for w in words:\n",
    "            minDist = len(w)\n",
    "            for n in all_names:\n",
    "                dist = distance(w, n)\n",
    "                if dist <= minDist:\n",
    "                    minDist = dist\n",
    "                    name[0] = n\n",
    "                    foundWord = w\n",
    "            name[1] = round(1 - minDist / len(w), 2)\n",
    "        words.remove(foundWord)\n",
    "    \n",
    "    if (patronymic[0] == \"\") & (len(words) > 0):\n",
    "        foundWord = \"\"\n",
    "        for w in words:\n",
    "            minDist = len(w)\n",
    "            for p in all_patronymics:\n",
    "                dist = distance(w, p)\n",
    "                if dist <= minDist:\n",
    "                    minDist = dist\n",
    "                    patronymic[0] = p\n",
    "                    foundWord = w\n",
    "\n",
    "            patronymic[1] = round(1 - minDist / len(w), 2)\n",
    "        words.remove(foundWord)\n",
    "    \n",
    "    if (surname[0] == \"\")& (len(words) > 0):\n",
    "        surname = [words[0], 0.5]\n",
    "    return [surname, name, patronymic]"
   ]
  },
  {
   "cell_type": "code",
   "execution_count": 21,
   "metadata": {
    "collapsed": true
   },
   "outputs": [],
   "source": [
    "def FI(words):\n",
    "    surname=detectSurname(words[0])\n",
    "    name=detectName(words[1])\n",
    "    return [surname, name]"
   ]
  },
  {
   "cell_type": "code",
   "execution_count": 22,
   "metadata": {
    "collapsed": true
   },
   "outputs": [],
   "source": [
    "def IF(words):\n",
    "    surname=detectSurname(words[1])\n",
    "    name=detectName(words[0])\n",
    "    return [surname, name]"
   ]
  },
  {
   "cell_type": "code",
   "execution_count": 23,
   "metadata": {},
   "outputs": [
    {
     "name": "stdout",
     "output_type": "stream",
     "text": [
      "[[['бучнева', 1.0], ['анна', 1.0], ['всеволодовна', 1.0]]]\n"
     ]
    }
   ],
   "source": [
    "def HypothesisSearch(tmp):#не доделан\n",
    "    res = []\n",
    "    \n",
    "    hypo3 = {FIO: 0.40, IOF: 0.35, IFO: 0.25, ElseOptions: 0.05}\n",
    "    #hypo2 = {FI: 0.5, IF: 0.5}\n",
    "    #hypo = {FIO: 0.60, IOF: 0.40}\n",
    "    for t in tmp:\n",
    "        t = t.lower()\n",
    "        words = t.split(\" \")\n",
    "        for w in words: w.strip()\n",
    "        \n",
    "        if (len(words)==3):\n",
    "            method = lambda x:0\n",
    "            max = 0\n",
    "            for h in hypo3:\n",
    "                if (hypo3[h]>max):\n",
    "                    max = hypo3[h]\n",
    "                    method = h\n",
    "            res.append(method(words))\n",
    "        #elif (len(words)==2):\n",
    "                    \n",
    "        else: \n",
    "            res.append(t)\n",
    "    return res\n",
    "print(HypothesisSearch([\"Бучнева Анна Всеволодовна\"]))"
   ]
  },
  {
   "cell_type": "code",
   "execution_count": 25,
   "metadata": {
    "collapsed": true
   },
   "outputs": [],
   "source": [
    "with open(generalPath+\"50k real fullName/fullName_changed.pickle\",\"rb\") as f:\n",
    "    test_true=pickle.load(f)"
   ]
  },
  {
   "cell_type": "code",
   "execution_count": 26,
   "metadata": {
    "collapsed": true
   },
   "outputs": [],
   "source": [
    "with open(generalPath+\"50k real fullName/fullName_true.pickle\",\"rb\") as f:\n",
    "    test_changed=pickle.load(f)"
   ]
  },
  {
   "cell_type": "code",
   "execution_count": 30,
   "metadata": {},
   "outputs": [
    {
     "data": {
      "application/vnd.jupyter.widget-view+json": {
       "model_id": "f738e39f4c3047f0912e5c3b5454b6a9"
      }
     },
     "metadata": {},
     "output_type": "display_data"
    },
    {
     "ename": "KeyboardInterrupt",
     "evalue": "",
     "output_type": "error",
     "traceback": [
      "\u001b[0;31m---------------------------------------------------------------------------\u001b[0m",
      "\u001b[0;31mKeyboardInterrupt\u001b[0m                         Traceback (most recent call last)",
      "\u001b[0;32m<ipython-input-30-120a3bc6d01d>\u001b[0m in \u001b[0;36m<module>\u001b[0;34m()\u001b[0m\n\u001b[0;32m----> 1\u001b[0;31m \u001b[0mtesting_res\u001b[0m\u001b[0;34m=\u001b[0m\u001b[0mNotBruteEnough\u001b[0m\u001b[0;34m(\u001b[0m\u001b[0mtest_changed\u001b[0m\u001b[0;34m)\u001b[0m\u001b[0;34m\u001b[0m\u001b[0m\n\u001b[0m",
      "\u001b[0;32m<ipython-input-29-c49386541fbd>\u001b[0m in \u001b[0;36mNotBruteEnough\u001b[0;34m(tmp)\u001b[0m\n\u001b[1;32m     31\u001b[0m                 \u001b[0mminDist\u001b[0m \u001b[0;34m=\u001b[0m \u001b[0mlen\u001b[0m\u001b[0;34m(\u001b[0m\u001b[0mw\u001b[0m\u001b[0;34m)\u001b[0m\u001b[0;34m\u001b[0m\u001b[0m\n\u001b[1;32m     32\u001b[0m                 \u001b[0;32mfor\u001b[0m \u001b[0mn\u001b[0m \u001b[0;32min\u001b[0m \u001b[0mall_names\u001b[0m\u001b[0;34m:\u001b[0m\u001b[0;34m\u001b[0m\u001b[0m\n\u001b[0;32m---> 33\u001b[0;31m                     \u001b[0mdist\u001b[0m \u001b[0;34m=\u001b[0m \u001b[0mdistance\u001b[0m\u001b[0;34m(\u001b[0m\u001b[0mw\u001b[0m\u001b[0;34m,\u001b[0m \u001b[0mn\u001b[0m\u001b[0;34m)\u001b[0m\u001b[0;34m\u001b[0m\u001b[0m\n\u001b[0m\u001b[1;32m     34\u001b[0m                     \u001b[0;32mif\u001b[0m \u001b[0mdist\u001b[0m \u001b[0;34m<\u001b[0m \u001b[0mminDist\u001b[0m\u001b[0;34m:\u001b[0m\u001b[0;34m\u001b[0m\u001b[0m\n\u001b[1;32m     35\u001b[0m                         \u001b[0mminDist\u001b[0m \u001b[0;34m=\u001b[0m \u001b[0mdist\u001b[0m\u001b[0;34m\u001b[0m\u001b[0m\n",
      "\u001b[0;32m<ipython-input-4-b7931572dc8a>\u001b[0m in \u001b[0;36mdistance\u001b[0;34m(s, t)\u001b[0m\n\u001b[1;32m     11\u001b[0m         \u001b[0;32mfor\u001b[0m \u001b[0mj\u001b[0m \u001b[0;32min\u001b[0m \u001b[0mrange\u001b[0m\u001b[0;34m(\u001b[0m\u001b[0mlen\u001b[0m\u001b[0;34m(\u001b[0m\u001b[0mt\u001b[0m\u001b[0;34m)\u001b[0m\u001b[0;34m)\u001b[0m\u001b[0;34m:\u001b[0m\u001b[0;34m\u001b[0m\u001b[0m\n\u001b[1;32m     12\u001b[0m             \u001b[0mcost\u001b[0m \u001b[0;34m=\u001b[0m \u001b[0;36m0\u001b[0m \u001b[0;32mif\u001b[0m \u001b[0ms\u001b[0m\u001b[0;34m[\u001b[0m\u001b[0mi\u001b[0m\u001b[0;34m]\u001b[0m \u001b[0;34m==\u001b[0m \u001b[0mt\u001b[0m\u001b[0;34m[\u001b[0m\u001b[0mj\u001b[0m\u001b[0;34m]\u001b[0m \u001b[0;32melse\u001b[0m \u001b[0;36m1\u001b[0m\u001b[0;34m\u001b[0m\u001b[0m\n\u001b[0;32m---> 13\u001b[0;31m             \u001b[0mv1\u001b[0m\u001b[0;34m[\u001b[0m\u001b[0mj\u001b[0m \u001b[0;34m+\u001b[0m \u001b[0;36m1\u001b[0m\u001b[0;34m]\u001b[0m \u001b[0;34m=\u001b[0m \u001b[0mmin\u001b[0m\u001b[0;34m(\u001b[0m\u001b[0mv1\u001b[0m\u001b[0;34m[\u001b[0m\u001b[0mj\u001b[0m\u001b[0;34m]\u001b[0m \u001b[0;34m+\u001b[0m \u001b[0;36m1\u001b[0m\u001b[0;34m,\u001b[0m \u001b[0mv0\u001b[0m\u001b[0;34m[\u001b[0m\u001b[0mj\u001b[0m \u001b[0;34m+\u001b[0m \u001b[0;36m1\u001b[0m\u001b[0;34m]\u001b[0m \u001b[0;34m+\u001b[0m \u001b[0;36m1\u001b[0m\u001b[0;34m,\u001b[0m \u001b[0mv0\u001b[0m\u001b[0;34m[\u001b[0m\u001b[0mj\u001b[0m\u001b[0;34m]\u001b[0m \u001b[0;34m+\u001b[0m \u001b[0mcost\u001b[0m\u001b[0;34m)\u001b[0m\u001b[0;34m\u001b[0m\u001b[0m\n\u001b[0m\u001b[1;32m     14\u001b[0m         \u001b[0;32mfor\u001b[0m \u001b[0mj\u001b[0m \u001b[0;32min\u001b[0m \u001b[0mrange\u001b[0m\u001b[0;34m(\u001b[0m\u001b[0mlen\u001b[0m\u001b[0;34m(\u001b[0m\u001b[0mv0\u001b[0m\u001b[0;34m)\u001b[0m\u001b[0;34m)\u001b[0m\u001b[0;34m:\u001b[0m\u001b[0;34m\u001b[0m\u001b[0m\n\u001b[1;32m     15\u001b[0m             \u001b[0mv0\u001b[0m\u001b[0;34m[\u001b[0m\u001b[0mj\u001b[0m\u001b[0;34m]\u001b[0m \u001b[0;34m=\u001b[0m \u001b[0mv1\u001b[0m\u001b[0;34m[\u001b[0m\u001b[0mj\u001b[0m\u001b[0;34m]\u001b[0m\u001b[0;34m\u001b[0m\u001b[0m\n",
      "\u001b[0;31mKeyboardInterrupt\u001b[0m: "
     ]
    }
   ],
   "source": [
    "testing_res=NotBruteEnough(test_changed)"
   ]
  },
  {
   "cell_type": "code",
   "execution_count": 80,
   "metadata": {
    "collapsed": true
   },
   "outputs": [],
   "source": [
    "# errs=0\n",
    "# for i in testing_res:\n",
    "#     if (i.find(\"%\")!=-1):\n",
    "#         print (i)\n",
    "#         errs+=1\n",
    "# print(\"Всего не уверены в: \" + str(errs))"
   ]
  },
  {
   "cell_type": "code",
   "execution_count": 33,
   "metadata": {
    "collapsed": true
   },
   "outputs": [],
   "source": [
    "def accuracy(prediction,true):\n",
    "    '''prediction-то что предсказали  \n",
    "    true-исходный список\n",
    "    Возвращяет массив из 2-х чисел. 1-ое количество ошибок 2-ое процент ошибок'''\n",
    "    error=0\n",
    "    assert (len(prediction)==len(true)),\"arrays has different length\"\n",
    "    for i in range(0,len(prediction)):\n",
    "        error+= 1 if prediction[i].lower()!=true[i].lower() else 0\n",
    "    return [error,error*100/len(true)]"
   ]
  },
  {
   "cell_type": "code",
   "execution_count": 83,
   "metadata": {},
   "outputs": [
    {
     "data": {
      "text/plain": [
       "[817, 81.7]"
      ]
     },
     "execution_count": 83,
     "metadata": {},
     "output_type": "execute_result"
    }
   ],
   "source": [
    "accuracy(testing_res,test_true[:1000])"
   ]
  },
  {
   "cell_type": "code",
   "execution_count": 87,
   "metadata": {},
   "outputs": [
    {
     "data": {
      "text/plain": [
       "['Абаджян Абали Абаджянович',\n",
       " 'Абаджян Абали Багдасарович',\n",
       " 'Абаджян Абали Вавилич',\n",
       " 'Абаджян Абали Габриэльевич',\n",
       " 'Абаджян Абали Давидович',\n",
       " 'Абаджян Абали Евгениевич',\n",
       " 'Абаджян Абали Жанович',\n",
       " 'Абаджян Абали Захариевич',\n",
       " 'Абаджян Абали Иакимович',\n",
       " 'Абаджян Абали Каземирович']"
      ]
     },
     "execution_count": 87,
     "metadata": {},
     "output_type": "execute_result"
    }
   ],
   "source": [
    "test_true[:10]"
   ]
  },
  {
   "cell_type": "code",
   "execution_count": 88,
   "metadata": {},
   "outputs": [
    {
     "data": {
      "text/plain": [
       "['Абаджянович Абамон Азарич',\n",
       " 'Абаджян Азалия Валтасарович',\n",
       " 'Абали Абамон Вавилич',\n",
       " 'Габриэльевич Азалия Абакумыч',\n",
       " 'Абали Абамон Давидович',\n",
       " 'Абали Абамон Евгениевич',\n",
       " 'Абаджян Азалия Данович',\n",
       " 'Абаджян Азалия Захариевич',\n",
       " 'Абали Абамон Иакимович',\n",
       " 'Абаджян Азалия Казимирович']"
      ]
     },
     "execution_count": 88,
     "metadata": {},
     "output_type": "execute_result"
    }
   ],
   "source": [
    "testing_res[:10]"
   ]
  },
  {
   "cell_type": "code",
   "execution_count": null,
   "metadata": {
    "collapsed": true
   },
   "outputs": [],
   "source": []
  }
 ],
 "metadata": {
  "kernelspec": {
   "display_name": "Python 3",
   "language": "python",
   "name": "python3"
  },
  "language_info": {
   "codemirror_mode": {
    "name": "ipython",
    "version": 3
   },
   "file_extension": ".py",
   "mimetype": "text/x-python",
   "name": "python",
   "nbconvert_exporter": "python",
   "pygments_lexer": "ipython3",
   "version": "3.6.1"
  }
 },
 "nbformat": 4,
 "nbformat_minor": 2
}
