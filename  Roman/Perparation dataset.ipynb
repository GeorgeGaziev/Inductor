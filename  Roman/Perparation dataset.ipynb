{
 "cells": [
  {
   "cell_type": "markdown",
   "metadata": {},
   "source": [
    "Pipeline\n",
    "<ul><li>aka unicode</li>\n",
    "    <li>Демин</li>\n",
    "    <li>1feature-1word</li>\n",
    "    <li>catboost</li>\n",
    "    </ul>"
   ]
  },
  {
   "cell_type": "code",
   "execution_count": 196,
   "metadata": {},
   "outputs": [],
   "source": [
    "import pandas as pd\n",
    "import os.path\n",
    "import numpy as np\n",
    "\n",
    "from sklearn.ensemble import RandomForestClassifier\n",
    "from sklearn.model_selection import cross_val_score"
   ]
  },
  {
   "cell_type": "code",
   "execution_count": 241,
   "metadata": {
    "collapsed": true
   },
   "outputs": [],
   "source": [
    "def convert_to_ascii(text):\n",
    "    return \" \".join(str(ord(char)) for char in text)"
   ]
  },
  {
   "cell_type": "code",
   "execution_count": 15,
   "metadata": {
    "collapsed": true
   },
   "outputs": [],
   "source": [
    "dataPath=\"data/\""
   ]
  },
  {
   "cell_type": "code",
   "execution_count": 134,
   "metadata": {},
   "outputs": [],
   "source": [
    "table=pd.read_excel(os.path.join(dataPath,\"1000 ФИО.xlsx\"))"
   ]
  },
  {
   "cell_type": "code",
   "execution_count": 135,
   "metadata": {},
   "outputs": [
    {
     "data": {
      "text/html": [
       "<div>\n",
       "<style>\n",
       "    .dataframe thead tr:only-child th {\n",
       "        text-align: right;\n",
       "    }\n",
       "\n",
       "    .dataframe thead th {\n",
       "        text-align: left;\n",
       "    }\n",
       "\n",
       "    .dataframe tbody tr th {\n",
       "        vertical-align: top;\n",
       "    }\n",
       "</style>\n",
       "<table border=\"1\" class=\"dataframe\">\n",
       "  <thead>\n",
       "    <tr style=\"text-align: right;\">\n",
       "      <th></th>\n",
       "      <th>Фамилия</th>\n",
       "      <th>Имя</th>\n",
       "      <th>Отчество</th>\n",
       "    </tr>\n",
       "  </thead>\n",
       "  <tbody>\n",
       "    <tr>\n",
       "      <th>0</th>\n",
       "      <td>Уварова</td>\n",
       "      <td>Виктория</td>\n",
       "      <td>Еремеевна</td>\n",
       "    </tr>\n",
       "    <tr>\n",
       "      <th>1</th>\n",
       "      <td>Белов</td>\n",
       "      <td>Бронислав</td>\n",
       "      <td>Якунович</td>\n",
       "    </tr>\n",
       "  </tbody>\n",
       "</table>\n",
       "</div>"
      ],
      "text/plain": [
       "   Фамилия        Имя   Отчество\n",
       "0  Уварова   Виктория  Еремеевна\n",
       "1    Белов  Бронислав   Якунович"
      ]
     },
     "execution_count": 135,
     "metadata": {},
     "output_type": "execute_result"
    }
   ],
   "source": [
    "table.head(2)"
   ]
  },
  {
   "cell_type": "code",
   "execution_count": 242,
   "metadata": {},
   "outputs": [],
   "source": [
    "# Формирование датасета\n",
    "SurnameDf=pd.DataFrame(table[\"Фамилия\"].values,columns=[\"word\"])\n",
    "NameDf=pd.DataFrame(table[\"Имя\"].values,columns=[\"word\"])\n",
    "Patronymic=pd.DataFrame(table[\"Отчество\"].values,columns=[\"word\"])\n",
    "\n",
    "SurnameDf[\"class\"]=1\n",
    "NameDf[\"class\"]=2\n",
    "Patronymic[\"class\"]=3\n",
    "\n",
    "data=pd.concat([SurnameDf,NameDf,Patronymic])\n",
    "\n",
    "data[\"word\"]=data[\"word\"].astype(str)\n",
    "data[\"word\"]=data[\"word\"].apply(lambda x: x.lower()) #Нижний регистр\n",
    "data[\"lenth\"]=data[\"word\"].apply(lambda x: len(x)) #Длина слова"
   ]
  },
  {
   "cell_type": "markdown",
   "metadata": {},
   "source": [
    "## Кодирование юникодом"
   ]
  },
  {
   "cell_type": "code",
   "execution_count": null,
   "metadata": {
    "collapsed": true
   },
   "outputs": [],
   "source": [
    "data[\"ascii_word\"]=data[\"word\"].apply(lambda x:convert_to_ascii(x) ) #Слово переведенное в ascii"
   ]
  },
  {
   "cell_type": "code",
   "execution_count": 181,
   "metadata": {},
   "outputs": [
    {
     "data": {
      "text/html": [
       "<div>\n",
       "<style>\n",
       "    .dataframe thead tr:only-child th {\n",
       "        text-align: right;\n",
       "    }\n",
       "\n",
       "    .dataframe thead th {\n",
       "        text-align: left;\n",
       "    }\n",
       "\n",
       "    .dataframe tbody tr th {\n",
       "        vertical-align: top;\n",
       "    }\n",
       "</style>\n",
       "<table border=\"1\" class=\"dataframe\">\n",
       "  <thead>\n",
       "    <tr style=\"text-align: right;\">\n",
       "      <th></th>\n",
       "      <th>word</th>\n",
       "      <th>class</th>\n",
       "      <th>lenth</th>\n",
       "      <th>ascii_word</th>\n",
       "    </tr>\n",
       "  </thead>\n",
       "  <tbody>\n",
       "    <tr>\n",
       "      <th>0</th>\n",
       "      <td>уварова</td>\n",
       "      <td>1</td>\n",
       "      <td>7</td>\n",
       "      <td>1091 1074 1072 1088 1086 1074 1072</td>\n",
       "    </tr>\n",
       "    <tr>\n",
       "      <th>1</th>\n",
       "      <td>белов</td>\n",
       "      <td>1</td>\n",
       "      <td>5</td>\n",
       "      <td>1073 1077 1083 1086 1074</td>\n",
       "    </tr>\n",
       "    <tr>\n",
       "      <th>2</th>\n",
       "      <td>сергеева</td>\n",
       "      <td>1</td>\n",
       "      <td>8</td>\n",
       "      <td>1089 1077 1088 1075 1077 1077 1074 1072</td>\n",
       "    </tr>\n",
       "    <tr>\n",
       "      <th>3</th>\n",
       "      <td>фокин</td>\n",
       "      <td>1</td>\n",
       "      <td>5</td>\n",
       "      <td>1092 1086 1082 1080 1085</td>\n",
       "    </tr>\n",
       "    <tr>\n",
       "      <th>4</th>\n",
       "      <td>журавлёв</td>\n",
       "      <td>1</td>\n",
       "      <td>8</td>\n",
       "      <td>1078 1091 1088 1072 1074 1083 1105 1074</td>\n",
       "    </tr>\n",
       "  </tbody>\n",
       "</table>\n",
       "</div>"
      ],
      "text/plain": [
       "       word  class  lenth                               ascii_word\n",
       "0   уварова      1      7       1091 1074 1072 1088 1086 1074 1072\n",
       "1     белов      1      5                 1073 1077 1083 1086 1074\n",
       "2  сергеева      1      8  1089 1077 1088 1075 1077 1077 1074 1072\n",
       "3     фокин      1      5                 1092 1086 1082 1080 1085\n",
       "4  журавлёв      1      8  1078 1091 1088 1072 1074 1083 1105 1074"
      ]
     },
     "execution_count": 181,
     "metadata": {},
     "output_type": "execute_result"
    }
   ],
   "source": [
    "data.head()"
   ]
  },
  {
   "cell_type": "code",
   "execution_count": 186,
   "metadata": {
    "collapsed": true
   },
   "outputs": [],
   "source": [
    "def convert_to_ascii2(text):\n",
    "    return [ord(i) for i in text]"
   ]
  },
  {
   "cell_type": "code",
   "execution_count": 237,
   "metadata": {
    "collapsed": true
   },
   "outputs": [],
   "source": [
    "def words_to_dataFame(column,max_lenth_word):\n",
    "    letter=['letter%s' % str(i) for i in range(1,max_lenth_word+1)]\n",
    "    \n",
    "    names_arr=[]\n",
    "    for word in column.values:\n",
    "        names_arr.append(convert_to_ascii2(word))\n",
    "        \n",
    "    df=pd.DataFrame(columns=letter)\n",
    "    j=0\n",
    "    for i in names_arr:\n",
    "        df.loc[j]=i+(max_lenth_word-len(i))*[0]\n",
    "        j+=1\n",
    "    return df"
   ]
  },
  {
   "cell_type": "code",
   "execution_count": 243,
   "metadata": {
    "scrolled": true
   },
   "outputs": [],
   "source": [
    "m=np.max(data['lenth'].values)\n",
    "letters=words_to_dataFame(data[\"word\"],m)"
   ]
  },
  {
   "cell_type": "code",
   "execution_count": 252,
   "metadata": {},
   "outputs": [
    {
     "data": {
      "text/plain": [
       "((3000, 15), (3000, 4))"
      ]
     },
     "execution_count": 252,
     "metadata": {},
     "output_type": "execute_result"
    }
   ],
   "source": [
    "letters.shape,data.shape"
   ]
  },
  {
   "cell_type": "code",
   "execution_count": 250,
   "metadata": {},
   "outputs": [
    {
     "data": {
      "text/html": [
       "<div>\n",
       "<style>\n",
       "    .dataframe thead tr:only-child th {\n",
       "        text-align: right;\n",
       "    }\n",
       "\n",
       "    .dataframe thead th {\n",
       "        text-align: left;\n",
       "    }\n",
       "\n",
       "    .dataframe tbody tr th {\n",
       "        vertical-align: top;\n",
       "    }\n",
       "</style>\n",
       "<table border=\"1\" class=\"dataframe\">\n",
       "  <thead>\n",
       "    <tr style=\"text-align: right;\">\n",
       "      <th></th>\n",
       "      <th>word</th>\n",
       "      <th>class</th>\n",
       "      <th>lenth</th>\n",
       "      <th>ascii_word</th>\n",
       "    </tr>\n",
       "  </thead>\n",
       "  <tbody>\n",
       "    <tr>\n",
       "      <th>0</th>\n",
       "      <td>уварова</td>\n",
       "      <td>1</td>\n",
       "      <td>7</td>\n",
       "      <td>1091 1074 1072 1088 1086 1074 1072</td>\n",
       "    </tr>\n",
       "    <tr>\n",
       "      <th>1</th>\n",
       "      <td>белов</td>\n",
       "      <td>1</td>\n",
       "      <td>5</td>\n",
       "      <td>1073 1077 1083 1086 1074</td>\n",
       "    </tr>\n",
       "  </tbody>\n",
       "</table>\n",
       "</div>"
      ],
      "text/plain": [
       "      word  class  lenth                          ascii_word\n",
       "0  уварова      1      7  1091 1074 1072 1088 1086 1074 1072\n",
       "1    белов      1      5            1073 1077 1083 1086 1074"
      ]
     },
     "execution_count": 250,
     "metadata": {},
     "output_type": "execute_result"
    }
   ],
   "source": [
    "data.head(2)"
   ]
  },
  {
   "cell_type": "code",
   "execution_count": 251,
   "metadata": {},
   "outputs": [
    {
     "data": {
      "text/html": [
       "<div>\n",
       "<style>\n",
       "    .dataframe thead tr:only-child th {\n",
       "        text-align: right;\n",
       "    }\n",
       "\n",
       "    .dataframe thead th {\n",
       "        text-align: left;\n",
       "    }\n",
       "\n",
       "    .dataframe tbody tr th {\n",
       "        vertical-align: top;\n",
       "    }\n",
       "</style>\n",
       "<table border=\"1\" class=\"dataframe\">\n",
       "  <thead>\n",
       "    <tr style=\"text-align: right;\">\n",
       "      <th></th>\n",
       "      <th>letter1</th>\n",
       "      <th>letter2</th>\n",
       "      <th>letter3</th>\n",
       "      <th>letter4</th>\n",
       "      <th>letter5</th>\n",
       "      <th>letter6</th>\n",
       "      <th>letter7</th>\n",
       "      <th>letter8</th>\n",
       "      <th>letter9</th>\n",
       "      <th>letter10</th>\n",
       "      <th>letter11</th>\n",
       "      <th>letter12</th>\n",
       "      <th>letter13</th>\n",
       "      <th>letter14</th>\n",
       "      <th>letter15</th>\n",
       "    </tr>\n",
       "  </thead>\n",
       "  <tbody>\n",
       "    <tr>\n",
       "      <th>0</th>\n",
       "      <td>1091</td>\n",
       "      <td>1074</td>\n",
       "      <td>1072</td>\n",
       "      <td>1088</td>\n",
       "      <td>1086</td>\n",
       "      <td>1074</td>\n",
       "      <td>1072</td>\n",
       "      <td>0</td>\n",
       "      <td>0</td>\n",
       "      <td>0</td>\n",
       "      <td>0</td>\n",
       "      <td>0</td>\n",
       "      <td>0</td>\n",
       "      <td>0</td>\n",
       "      <td>0</td>\n",
       "    </tr>\n",
       "    <tr>\n",
       "      <th>1</th>\n",
       "      <td>1073</td>\n",
       "      <td>1077</td>\n",
       "      <td>1083</td>\n",
       "      <td>1086</td>\n",
       "      <td>1074</td>\n",
       "      <td>0</td>\n",
       "      <td>0</td>\n",
       "      <td>0</td>\n",
       "      <td>0</td>\n",
       "      <td>0</td>\n",
       "      <td>0</td>\n",
       "      <td>0</td>\n",
       "      <td>0</td>\n",
       "      <td>0</td>\n",
       "      <td>0</td>\n",
       "    </tr>\n",
       "  </tbody>\n",
       "</table>\n",
       "</div>"
      ],
      "text/plain": [
       "  letter1 letter2 letter3 letter4 letter5 letter6 letter7 letter8 letter9  \\\n",
       "0    1091    1074    1072    1088    1086    1074    1072       0       0   \n",
       "1    1073    1077    1083    1086    1074       0       0       0       0   \n",
       "\n",
       "  letter10 letter11 letter12 letter13 letter14 letter15  \n",
       "0        0        0        0        0        0        0  \n",
       "1        0        0        0        0        0        0  "
      ]
     },
     "execution_count": 251,
     "metadata": {},
     "output_type": "execute_result"
    }
   ],
   "source": [
    "letters.head(2)"
   ]
  },
  {
   "cell_type": "code",
   "execution_count": 286,
   "metadata": {},
   "outputs": [],
   "source": [
    "df=pd.concat([letters[letters.columns],data[['lenth','class']]],axis=1, join_axes=[data.index])"
   ]
  },
  {
   "cell_type": "code",
   "execution_count": 287,
   "metadata": {},
   "outputs": [
    {
     "data": {
      "text/plain": [
       "(3000, 17)"
      ]
     },
     "execution_count": 287,
     "metadata": {},
     "output_type": "execute_result"
    }
   ],
   "source": [
    "df.shape"
   ]
  },
  {
   "cell_type": "code",
   "execution_count": 288,
   "metadata": {},
   "outputs": [
    {
     "data": {
      "text/html": [
       "<div>\n",
       "<style>\n",
       "    .dataframe thead tr:only-child th {\n",
       "        text-align: right;\n",
       "    }\n",
       "\n",
       "    .dataframe thead th {\n",
       "        text-align: left;\n",
       "    }\n",
       "\n",
       "    .dataframe tbody tr th {\n",
       "        vertical-align: top;\n",
       "    }\n",
       "</style>\n",
       "<table border=\"1\" class=\"dataframe\">\n",
       "  <thead>\n",
       "    <tr style=\"text-align: right;\">\n",
       "      <th></th>\n",
       "      <th>letter1</th>\n",
       "      <th>letter2</th>\n",
       "      <th>letter3</th>\n",
       "      <th>letter4</th>\n",
       "      <th>letter5</th>\n",
       "      <th>letter6</th>\n",
       "      <th>letter7</th>\n",
       "      <th>letter8</th>\n",
       "      <th>letter9</th>\n",
       "      <th>letter10</th>\n",
       "      <th>letter11</th>\n",
       "      <th>letter12</th>\n",
       "      <th>letter13</th>\n",
       "      <th>letter14</th>\n",
       "      <th>letter15</th>\n",
       "      <th>lenth</th>\n",
       "      <th>class</th>\n",
       "    </tr>\n",
       "  </thead>\n",
       "  <tbody>\n",
       "    <tr>\n",
       "      <th>0</th>\n",
       "      <td>1091</td>\n",
       "      <td>1074</td>\n",
       "      <td>1072</td>\n",
       "      <td>1088</td>\n",
       "      <td>1086</td>\n",
       "      <td>1074</td>\n",
       "      <td>1072</td>\n",
       "      <td>0</td>\n",
       "      <td>0</td>\n",
       "      <td>0</td>\n",
       "      <td>0</td>\n",
       "      <td>0</td>\n",
       "      <td>0</td>\n",
       "      <td>0</td>\n",
       "      <td>0</td>\n",
       "      <td>7</td>\n",
       "      <td>1</td>\n",
       "    </tr>\n",
       "    <tr>\n",
       "      <th>1</th>\n",
       "      <td>1073</td>\n",
       "      <td>1077</td>\n",
       "      <td>1083</td>\n",
       "      <td>1086</td>\n",
       "      <td>1074</td>\n",
       "      <td>0</td>\n",
       "      <td>0</td>\n",
       "      <td>0</td>\n",
       "      <td>0</td>\n",
       "      <td>0</td>\n",
       "      <td>0</td>\n",
       "      <td>0</td>\n",
       "      <td>0</td>\n",
       "      <td>0</td>\n",
       "      <td>0</td>\n",
       "      <td>5</td>\n",
       "      <td>1</td>\n",
       "    </tr>\n",
       "    <tr>\n",
       "      <th>2</th>\n",
       "      <td>1089</td>\n",
       "      <td>1077</td>\n",
       "      <td>1088</td>\n",
       "      <td>1075</td>\n",
       "      <td>1077</td>\n",
       "      <td>1077</td>\n",
       "      <td>1074</td>\n",
       "      <td>1072</td>\n",
       "      <td>0</td>\n",
       "      <td>0</td>\n",
       "      <td>0</td>\n",
       "      <td>0</td>\n",
       "      <td>0</td>\n",
       "      <td>0</td>\n",
       "      <td>0</td>\n",
       "      <td>8</td>\n",
       "      <td>1</td>\n",
       "    </tr>\n",
       "    <tr>\n",
       "      <th>3</th>\n",
       "      <td>1092</td>\n",
       "      <td>1086</td>\n",
       "      <td>1082</td>\n",
       "      <td>1080</td>\n",
       "      <td>1085</td>\n",
       "      <td>0</td>\n",
       "      <td>0</td>\n",
       "      <td>0</td>\n",
       "      <td>0</td>\n",
       "      <td>0</td>\n",
       "      <td>0</td>\n",
       "      <td>0</td>\n",
       "      <td>0</td>\n",
       "      <td>0</td>\n",
       "      <td>0</td>\n",
       "      <td>5</td>\n",
       "      <td>1</td>\n",
       "    </tr>\n",
       "    <tr>\n",
       "      <th>4</th>\n",
       "      <td>1078</td>\n",
       "      <td>1091</td>\n",
       "      <td>1088</td>\n",
       "      <td>1072</td>\n",
       "      <td>1074</td>\n",
       "      <td>1083</td>\n",
       "      <td>1105</td>\n",
       "      <td>1074</td>\n",
       "      <td>0</td>\n",
       "      <td>0</td>\n",
       "      <td>0</td>\n",
       "      <td>0</td>\n",
       "      <td>0</td>\n",
       "      <td>0</td>\n",
       "      <td>0</td>\n",
       "      <td>8</td>\n",
       "      <td>1</td>\n",
       "    </tr>\n",
       "  </tbody>\n",
       "</table>\n",
       "</div>"
      ],
      "text/plain": [
       "  letter1 letter2 letter3 letter4 letter5 letter6 letter7 letter8 letter9  \\\n",
       "0    1091    1074    1072    1088    1086    1074    1072       0       0   \n",
       "1    1073    1077    1083    1086    1074       0       0       0       0   \n",
       "2    1089    1077    1088    1075    1077    1077    1074    1072       0   \n",
       "3    1092    1086    1082    1080    1085       0       0       0       0   \n",
       "4    1078    1091    1088    1072    1074    1083    1105    1074       0   \n",
       "\n",
       "  letter10 letter11 letter12 letter13 letter14 letter15  lenth  class  \n",
       "0        0        0        0        0        0        0      7      1  \n",
       "1        0        0        0        0        0        0      5      1  \n",
       "2        0        0        0        0        0        0      8      1  \n",
       "3        0        0        0        0        0        0      5      1  \n",
       "4        0        0        0        0        0        0      8      1  "
      ]
     },
     "execution_count": 288,
     "metadata": {},
     "output_type": "execute_result"
    }
   ],
   "source": [
    "df.head()"
   ]
  },
  {
   "cell_type": "code",
   "execution_count": null,
   "metadata": {},
   "outputs": [],
   "source": []
  },
  {
   "cell_type": "code",
   "execution_count": 293,
   "metadata": {
    "collapsed": true
   },
   "outputs": [],
   "source": [
    "X,y=df.iloc[:,:-1],df[\"class\"]"
   ]
  },
  {
   "cell_type": "code",
   "execution_count": 297,
   "metadata": {},
   "outputs": [
    {
     "data": {
      "text/plain": [
       "0.79866666666666675"
      ]
     },
     "execution_count": 297,
     "metadata": {},
     "output_type": "execute_result"
    }
   ],
   "source": [
    "# Качество модели\n",
    "rf=RandomForestClassifier(random_state=42)\n",
    "scorrs=cross_val_score(rf,X,y,cv=5)\n",
    "np.mean(scorrs)"
   ]
  },
  {
   "cell_type": "code",
   "execution_count": null,
   "metadata": {
    "collapsed": true
   },
   "outputs": [],
   "source": []
  },
  {
   "cell_type": "markdown",
   "metadata": {},
   "source": [
    "## bag of letters"
   ]
  },
  {
   "cell_type": "code",
   "execution_count": null,
   "metadata": {
    "collapsed": true
   },
   "outputs": [],
   "source": []
  },
  {
   "cell_type": "code",
   "execution_count": null,
   "metadata": {
    "collapsed": true
   },
   "outputs": [],
   "source": []
  }
 ],
 "metadata": {
  "kernelspec": {
   "display_name": "Python 3",
   "language": "python",
   "name": "python3"
  },
  "language_info": {
   "codemirror_mode": {
    "name": "ipython",
    "version": 3
   },
   "file_extension": ".py",
   "mimetype": "text/x-python",
   "name": "python",
   "nbconvert_exporter": "python",
   "pygments_lexer": "ipython3",
   "version": "3.6.1"
  }
 },
 "nbformat": 4,
 "nbformat_minor": 2
}
