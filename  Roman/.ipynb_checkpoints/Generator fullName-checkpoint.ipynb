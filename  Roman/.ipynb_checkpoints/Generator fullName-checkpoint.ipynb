{
 "cells": [
  {
   "cell_type": "code",
   "execution_count": 140,
   "metadata": {
    "collapsed": true
   },
   "outputs": [],
   "source": [
    "import pandas as pd\n",
    "import numpy as np\n",
    "import math\n",
    "from tqdm import tqdm_notebook\n",
    "import itertools\n",
    "import random\n",
    "from random import shuffle\n",
    "import copy\n",
    "import pickle"
   ]
  },
  {
   "cell_type": "code",
   "execution_count": 20,
   "metadata": {
    "collapsed": true
   },
   "outputs": [],
   "source": [
    "path=\"/Users/roman/Inductor/\"\n",
    "nameDirty=pd.read_excel(path+\"data/Чей-то макрос.xlsm\",sheetname=1)\n",
    "surnameDirty=pd.read_excel(path+\"data/Чей-то макрос.xlsm\",sheetname=2)\n",
    "patronymicDirty=pd.read_excel(path+\"data/Чей-то макрос.xlsm\",sheetname=3)\n",
    "\n",
    "vocabulary=['а','б','в','г','д','е','ё','ж','з','и','й','к','л','м','н','о','п',\n",
    "            'р','с','т','у','ф','х','ц','ч','ш','щ','ъ','ы','ь','э','ю','я']"
   ]
  },
  {
   "cell_type": "code",
   "execution_count": 21,
   "metadata": {
    "collapsed": true
   },
   "outputs": [],
   "source": [
    "def deletCahr(lst):\n",
    "    for i in lst:\n",
    "        if i[0].lower() not in vocabulary: i=i[1:]\n",
    "        if i[-1].lower() not in vocabulary: i=i[:-1]\n",
    "    return lst"
   ]
  },
  {
   "cell_type": "code",
   "execution_count": 22,
   "metadata": {
    "collapsed": true
   },
   "outputs": [],
   "source": [
    "nameDirty.fillna(0,inplace=True)\n",
    "surnameDirty.fillna(0,inplace=True)\n",
    "patronymicDirty.fillna(0,inplace=True)"
   ]
  },
  {
   "cell_type": "code",
   "execution_count": 146,
   "metadata": {
    "collapsed": true
   },
   "outputs": [],
   "source": [
    "name=[value for value in nameDirty.values.flatten() if value!=0]\n",
    "surname=[value for value in surnameDirty.values.flatten() if value!=0]\n",
    "patronymic=[value for value in patronymicDirty.values.flatten() if value!=0]"
   ]
  },
  {
   "cell_type": "code",
   "execution_count": 147,
   "metadata": {
    "collapsed": true
   },
   "outputs": [],
   "source": [
    "name=deletCahr(name)\n",
    "surname=deletCahr(surname)\n",
    "patronymic=deletCahr(patronymic)\n",
    "\n",
    "arr=[surname,name,patronymic]"
   ]
  },
  {
   "cell_type": "code",
   "execution_count": 148,
   "metadata": {
    "collapsed": true
   },
   "outputs": [],
   "source": [
    "# Small example\n",
    "nameSmal=name[:100]\n",
    "surnameSmal=surname[:100]\n",
    "patronymicSmal=patronymic[:100]\n",
    "\n",
    "arrSmal=[surnameSmal,nameSmal,patronymicSmal]"
   ]
  },
  {
   "cell_type": "code",
   "execution_count": 149,
   "metadata": {},
   "outputs": [],
   "source": [
    "# Декартово произведение\n",
    "fullName=[list(element) for element in itertools.product(*arrSmal)]"
   ]
  },
  {
   "cell_type": "code",
   "execution_count": 150,
   "metadata": {},
   "outputs": [],
   "source": [
    "#Перемешивание\n",
    "test_changed=fullName.copy()\n",
    "test_true=copy.deepcopy(fullName)\n",
    "\n",
    "for i in range(0,len(test_changed)):\n",
    "    random.shuffle(test_changed[i])"
   ]
  },
  {
   "cell_type": "code",
   "execution_count": 152,
   "metadata": {
    "collapsed": true
   },
   "outputs": [],
   "source": [
    "# Склеиваю в одну строку\n",
    "test_true2=[]\n",
    "for i in test_true:\n",
    "    test_true2.append((\"%s %s %s\"%(i[0],i[1],i[2])))\n",
    "    \n",
    "test_changed2=[]\n",
    "for i in test_changed:\n",
    "    test_changed2.append((\"%s %s %s\"%(i[0],i[1],i[2])))"
   ]
  },
  {
   "cell_type": "markdown",
   "metadata": {},
   "source": [
    "### Сериалиализация"
   ]
  },
  {
   "cell_type": "code",
   "execution_count": 159,
   "metadata": {},
   "outputs": [],
   "source": [
    "with open(path+\"data/test_true_Generated.pickle\",\"wb\") as f:\n",
    "    pickle.dump(test_true2,f)"
   ]
  },
  {
   "cell_type": "code",
   "execution_count": 160,
   "metadata": {
    "collapsed": true
   },
   "outputs": [],
   "source": [
    "with open(path+\"data/test_changed_Generated.pickle\",\"wb\") as f:\n",
    "    pickle.dump(test_changed2,f)"
   ]
  },
  {
   "cell_type": "code",
   "execution_count": null,
   "metadata": {
    "collapsed": true
   },
   "outputs": [],
   "source": []
  }
 ],
 "metadata": {
  "kernelspec": {
   "display_name": "Python 3",
   "language": "python",
   "name": "python3"
  },
  "language_info": {
   "codemirror_mode": {
    "name": "ipython",
    "version": 3
   },
   "file_extension": ".py",
   "mimetype": "text/x-python",
   "name": "python",
   "nbconvert_exporter": "python",
   "pygments_lexer": "ipython3",
   "version": "3.6.1"
  }
 },
 "nbformat": 4,
 "nbformat_minor": 2
}
