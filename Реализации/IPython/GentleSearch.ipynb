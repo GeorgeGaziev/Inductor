{
 "cells": [
  {
   "cell_type": "code",
   "execution_count": 58,
   "metadata": {},
   "outputs": [],
   "source": [
    "import urllib\n",
    "import urllib.parse\n",
    "import urllib.request\n",
    "from bs4 import BeautifulSoup\n",
    "import pickle\n",
    "from collections import Counter\n",
    "from collections import namedtuple\n",
    "import re\n",
    "import xlwings as xw\n",
    "import pandas as pd\n",
    "import numpy as np"
   ]
  },
  {
   "cell_type": "code",
   "execution_count": 59,
   "metadata": {},
   "outputs": [],
   "source": [
    "path_to_names = \"D:/\"\n",
    "path_to_patronymics = \"D:/\""
   ]
  },
  {
   "cell_type": "code",
   "execution_count": 60,
   "metadata": {},
   "outputs": [],
   "source": [
    "with open(path_to_names+\"NamesFromGufo.pickle\",\"rb\") as f:\n",
    "    tmpNames=pickle.load(f)\n",
    "with open(path_to_patronymics+\"PatronymicsFromGufo.pickle\",\"rb\") as f:\n",
    "    tmpPatronymics=pickle.load(f)"
   ]
  },
  {
   "cell_type": "code",
   "execution_count": 61,
   "metadata": {},
   "outputs": [],
   "source": [
    "all_names=[]\n",
    "all_patronymics=[]"
   ]
  },
  {
   "cell_type": "code",
   "execution_count": 62,
   "metadata": {},
   "outputs": [],
   "source": [
    "for i in tmpNames:\n",
    "    all_names.append(i)\n",
    "for i in tmpPatronymics:\n",
    "    all_patronymics.append(i)"
   ]
  },
  {
   "cell_type": "code",
   "execution_count": 63,
   "metadata": {},
   "outputs": [],
   "source": [
    "def distance(s, t):\n",
    "    if s == t: return 0\n",
    "    elif len(s) == 0: return len(t)\n",
    "    elif len(t) == 0: return len(s)\n",
    "    v0 = [None] * (len(t) + 1)\n",
    "    v1 = [None] * (len(t) + 1)\n",
    "    for i in range(len(v0)):\n",
    "        v0[i] = i\n",
    "    for i in range(len(s)):\n",
    "        v1[0] = i + 1\n",
    "        for j in range(len(t)):\n",
    "            cost = 0 if s[i] == t[j] else 1\n",
    "            v1[j + 1] = min(v1[j] + 1, v0[j + 1] + 1, v0[j] + cost)\n",
    "        for j in range(len(v0)):\n",
    "            v0[j] = v1[j]\n",
    "    return v1[len(t)]"
   ]
  },
  {
   "cell_type": "code",
   "execution_count": 64,
   "metadata": {},
   "outputs": [],
   "source": [
    "def checkSurnames(s):\n",
    "    pattern = '\\w*(ов|ова|ев|ёв|ева|ёва|ив|ин|ина|ын|их|ых|ский|цкий|ая|ко)$'\n",
    "    if (re.match(pattern,s)): return True\n",
    "    else: return False"
   ]
  },
  {
   "cell_type": "code",
   "execution_count": 65,
   "metadata": {},
   "outputs": [],
   "source": [
    "def checkPatronymic(s):\n",
    "    pattern = '\\w*(ович|евич|ич|овна|евна|ична|инична)$'\n",
    "    if (re.match(pattern,s)):\n",
    "        return True\n",
    "    else: return False"
   ]
  },
  {
   "cell_type": "code",
   "execution_count": 66,
   "metadata": {},
   "outputs": [],
   "source": [
    "genderTuple = ('male', 'female', 'unknown')"
   ]
  },
  {
   "cell_type": "code",
   "execution_count": 67,
   "metadata": {},
   "outputs": [],
   "source": [
    "def checkSurnamesGender(s):\n",
    "    patternMale = '\\w*(ов|ев|ий|ын|ин)$'\n",
    "    patternFem ='\\w*(ова|ева|ая|ина|ына)$'\n",
    "    patternUnknown = '\\w*(их|ых|ко|ук|юк|ун|ний|ный|чай|ий|а|ич|ов|ук|ик|ски|ка|ски|цки|дзки)$'\n",
    "    \n",
    "    if (re.match(patternMale,s)):\n",
    "        return genderTuple[0]\n",
    "    elif (re.match(patternFem,s)):\n",
    "        return genderTuple[1]\n",
    "    elif (re.match(patternUnknown,s)):\n",
    "        return genderTuple[2]\n",
    "    else: return 'No'"
   ]
  },
  {
   "cell_type": "code",
   "execution_count": 68,
   "metadata": {},
   "outputs": [],
   "source": [
    "def changeGenderSurname(s):\n",
    "    patternMaleA = '\\w*(ов|ев|ин|ын)$'\n",
    "    patternFemA ='\\w*(ова|ева|ина|ына)$'\n",
    "    patternMaleB = '\\w*(ий)$'\n",
    "    patternFemB = '\\w*(ая)$'\n",
    "    \n",
    "    if(re.match(patternMaleA, s)):\n",
    "        return s + 'a'\n",
    "    elif (re.match(patternMaleB, s)):       \n",
    "        s += ' '\n",
    "        return s.replace('ий ', 'ая')\n",
    "    elif (re.match(patternFemA, s)):\n",
    "        return s[0: len(s)-1]\n",
    "    elif (re.match(patternFemB, s)): \n",
    "        s += ' '\n",
    "        return s.replace('ая ', 'ий')\n",
    "    else: return s"
   ]
  },
  {
   "cell_type": "code",
   "execution_count": 69,
   "metadata": {},
   "outputs": [],
   "source": [
    "def checkPatronymicGender(s):\n",
    "    patternMale = '\\w*(ович|евич|ич)$'\n",
    "    patternFem ='\\w*(овна|евна|ична|инична)$'\n",
    "   \n",
    "    if (re.match(patternMale,s)):\n",
    "        return genderTuple[0]\n",
    "    elif (re.match(patternFem,s)):\n",
    "        return genderTuple[1]\n",
    "    else: return 'No'    "
   ]
  },
  {
   "cell_type": "code",
   "execution_count": 70,
   "metadata": {},
   "outputs": [],
   "source": [
    "def changeGenderPatronymic(s):\n",
    "    patternMaleA = '\\w*(ович|евич)$'\n",
    "    patternFemA ='\\w*(овна|евна)$'\n",
    "    patternMaleB = '\\w*(ич)$'\n",
    "    patternFemB = '\\w*(ична|инична)$'\n",
    "\n",
    "    if(re.match(patternMaleA, s)):\n",
    "        s += ' '\n",
    "        return s.replace('ич ', 'на')\n",
    "    if(re.match(patternFemA, s)):\n",
    "        s += ' '\n",
    "        return s.replace('на ', 'ич')     \n",
    "    if(re.match(patternMaleB, s)):\n",
    "        return s + 'на'   \n",
    "    if(re.match(patternFemB, s)):\n",
    "        s += ' '\n",
    "        s = s.replace('инична ', 'ич')\n",
    "        s = s.replace('ична ', 'ич')\n",
    "        return s    \n",
    "    else: return s"
   ]
  },
  {
   "cell_type": "code",
   "execution_count": 71,
   "metadata": {},
   "outputs": [],
   "source": [
    "def Brute(tmp):\n",
    "    res = []\n",
    "    errs=[]\n",
    "    for t in tmp:\n",
    "        name = \"\"\n",
    "        surname = \"\"\n",
    "        patronymic = \"\"\n",
    "        words = t.split(\" \")\n",
    "        for w in words:\n",
    "            w = w.lower()\n",
    "            w.strip()\n",
    "            if (name == \"\"):\n",
    "                if (w in all_names):\n",
    "                    name = w\n",
    "\n",
    "            if (patronymic == \"\"):\n",
    "                if (w in all_patronymics):\n",
    "                    patronymic = w\n",
    "\n",
    "            if (name != w and patronymic != w and surname == \"\"):\n",
    "                surname = w\n",
    "\n",
    "        if (name == \"\"):\n",
    "            name = \"N:'\"+w+\"'_Not_Found\"\n",
    "            #errs.append(\"name '\" + w + \"' in \" + t)\n",
    "        if (patronymic == \"\"):\n",
    "            patronymic = \"P:'\"+w+\"'_Not_Found\"\n",
    "            errs.append(\"patronymic '\" + w + \"' in \" + t)\n",
    "        name = name.title()\n",
    "        surname = surname.title()\n",
    "        patronymic = patronymic.title()\n",
    "        res.append(surname + \" \" + name + \" \" + patronymic)\n",
    "\n",
    "    if len(errs)!=0:\n",
    "        res.append(\"----Ошибки----\")\n",
    "        for i in errs:\n",
    "            res.append(i)\n",
    "    return res"
   ]
  },
  {
   "cell_type": "code",
   "execution_count": 72,
   "metadata": {},
   "outputs": [],
   "source": [
    "def NotBruteEnough(tmp):\n",
    "    res = []\n",
    "\n",
    "    for t in tmp:\n",
    "        name = \"\"\n",
    "        surname = \"\"\n",
    "        patronymic = \"\"\n",
    "        t = t.lower()\n",
    "        words = t.split(\" \")\n",
    "\n",
    "        for w in words:\n",
    "            w.strip()\n",
    "            if (name == \"\"):\n",
    "                if (w in all_names):\n",
    "                    name = w\n",
    "\n",
    "            if (patronymic == \"\"):\n",
    "                if (w in all_patronymics):\n",
    "                    patronymic = w\n",
    "\n",
    "            if (name != w and patronymic != w and checkSurnames(w) and surname == \"\"):\n",
    "                surname = w\n",
    "\n",
    "        if (name in words): words.remove(name)\n",
    "        if (patronymic in words): words.remove(patronymic)\n",
    "        if (surname in words): words.remove(surname)\n",
    "\n",
    "        if (name == \"\") & (len(words) > 0):\n",
    "            foundWord = \"\"\n",
    "            for w in words:\n",
    "                minDist = len(w)\n",
    "                for n in all_names:\n",
    "                    dist = distance(w, n)\n",
    "                    if dist < minDist:\n",
    "                        minDist = dist\n",
    "                        name = n.title() + \" (\" + str(round((1 - minDist / len(w)) * 100)) + \"% \" + w + \")\"\n",
    "                        foundWord = w\n",
    "            words.remove(foundWord)\n",
    "\n",
    "        if (patronymic == \"\") & (len(words) > 0):\n",
    "            foundWord = \"\"\n",
    "            for w in words:\n",
    "                minDist = len(w)\n",
    "                for p in all_patronymics:\n",
    "                    dist = distance(w, p)\n",
    "                    if dist < minDist:\n",
    "                        minDist = dist\n",
    "                        patronymic = p.title() + \" (\" + str(round((1 - minDist / len(w)) * 100)) + \"% \" + w + \")\"\n",
    "                        foundWord = w\n",
    "            words.remove(foundWord)\n",
    "\n",
    "        if (surname == \"\")& (len(words) > 0):\n",
    "            surname = words[0]\n",
    "\n",
    "        name = name.title()\n",
    "        surname = surname.title()\n",
    "        patronymic = patronymic.title()\n",
    "        res.append(surname + \" \" + name + \" \" + patronymic)\n",
    "\n",
    "    return res"
   ]
  },
  {
   "cell_type": "code",
   "execution_count": 73,
   "metadata": {
    "collapsed": true
   },
   "outputs": [],
   "source": [
    "def detectSurname(w):\n",
    "    w = w.lower()\n",
    "    if (checkSurnames(w)):\n",
    "        return [w, 1.0]\n",
    "    else: \n",
    "        return [w, 0.5] #Ну пока так, фамилии разные бывают. Когда будет справочник, сделаем по-другому "
   ]
  },
  {
   "cell_type": "code",
   "execution_count": 77,
   "metadata": {
    "collapsed": true
   },
   "outputs": [],
   "source": [
    "def detectName(w):\n",
    "    w = w.lower()\n",
    "    if (w in all_names):\n",
    "        return [w, 1.0]\n",
    "    else:\n",
    "        name = w\n",
    "        minDist = len(w)\n",
    "        for n in all_names:\n",
    "            dist = distance(w, n)\n",
    "            if dist < minDist:\n",
    "                minDist = dist\n",
    "                name = n\n",
    "        probability = round(1 - minDist / len(w), 2)\n",
    "        return [name, probability]"
   ]
  },
  {
   "cell_type": "code",
   "execution_count": 78,
   "metadata": {
    "collapsed": true
   },
   "outputs": [],
   "source": [
    "def detectPatronymic(w):\n",
    "    w = w.lower()\n",
    "    if (w in all_patronymics):\n",
    "        return [w, 1.0]\n",
    "    #elif (checkPatronymic(w)):\n",
    "    #    return [w.title(), 0.90] #да, от балды, потом исправим\n",
    "    else:\n",
    "        patronymic = w\n",
    "        minDist = len(w)\n",
    "        for p in all_patronymics:\n",
    "            dist = distance(w, p)\n",
    "            if dist < minDist:\n",
    "                minDist = dist\n",
    "                patronymic = p\n",
    "        probability = round(1 - minDist / len(w), 2)\n",
    "        return [patronymic, probability]"
   ]
  },
  {
   "cell_type": "code",
   "execution_count": 129,
   "metadata": {
    "collapsed": true
   },
   "outputs": [],
   "source": [
    "def FIO(words):\n",
    "    surname=detectSurname(words[0])\n",
    "    name=detectName(words[1])\n",
    "    patronymic=detectPatronymic(words[2])\n",
    "    return [surname, name, patronymic]"
   ]
  },
  {
   "cell_type": "code",
   "execution_count": 130,
   "metadata": {
    "collapsed": true
   },
   "outputs": [],
   "source": [
    "def IOF(words):\n",
    "    surname=detectSurname(words[2])\n",
    "    name=detectName(words[0])\n",
    "    patronymic=detectPatronymic(words[1])\n",
    "    return [surname, name, patronymic]"
   ]
  },
  {
   "cell_type": "code",
   "execution_count": 131,
   "metadata": {
    "collapsed": true
   },
   "outputs": [],
   "source": [
    "def IFO(words):\n",
    "    surname=detectSurname(words[1])\n",
    "    name=detectName(words[0])\n",
    "    patronymic=detectPatronymic(words[2])\n",
    "    return [surname, name, patronymic]"
   ]
  },
  {
   "cell_type": "code",
   "execution_count": 132,
   "metadata": {
    "collapsed": true
   },
   "outputs": [],
   "source": [
    "def ElseOptions(words): #Настолько кривой, насколько возможно\n",
    "    surname = [\"\",0] \n",
    "    name= [\"\",0] \n",
    "    patronymic = [\"\",0] \n",
    "    \n",
    "    for w in words:\n",
    "        w.strip()\n",
    "        \n",
    "        if (name[0] == \"\"):\n",
    "            if (w in all_names):\n",
    "                name = [w,1.0]\n",
    "        if (patronymic[0] == \"\"):\n",
    "            if (w in all_patronymics):\n",
    "                patronymic = [w,1.0]\n",
    "        if (name[0] != w and patronymic[0] != w and checkSurnames(w) and surname[0] == \"\"):\n",
    "            surname = [w,1.0]\n",
    "\n",
    "    if (name[0] in words): words.remove(name[0])\n",
    "    if (patronymic[0] in words): words.remove(patronymic[0])\n",
    "    if (surname[0] in words): words.remove(surname[0])\n",
    "\n",
    "    if (name[0] == \"\") & (len(words) > 0):\n",
    "        foundWord = \"\"\n",
    "        for w in words:\n",
    "            minDist = len(w)\n",
    "            for n in all_names:\n",
    "                dist = distance(w, n)\n",
    "                if dist <= minDist:\n",
    "                    minDist = dist\n",
    "                    name[0] = n\n",
    "                    foundWord = w\n",
    "            name[1] = round(1 - minDist / len(w), 2)\n",
    "        words.remove(foundWord)\n",
    "    \n",
    "    if (patronymic[0] == \"\") & (len(words) > 0):\n",
    "        foundWord = \"\"\n",
    "        for w in words:\n",
    "            minDist = len(w)\n",
    "            for p in all_patronymics:\n",
    "                dist = distance(w, p)\n",
    "                if dist <= minDist:\n",
    "                    minDist = dist\n",
    "                    patronymic[0] = p\n",
    "                    foundWord = w\n",
    "\n",
    "            patronymic[1] = round(1 - minDist / len(w), 2)\n",
    "        words.remove(foundWord)\n",
    "    \n",
    "    if (surname[0] == \"\")& (len(words) > 0):\n",
    "        surname = [words[0], 0.5]\n",
    "    return [surname, name, patronymic]"
   ]
  },
  {
   "cell_type": "code",
   "execution_count": 133,
   "metadata": {
    "collapsed": true
   },
   "outputs": [],
   "source": [
    "def FI(words):\n",
    "    surname=detectSurname(words[0])\n",
    "    name=detectName(words[1])\n",
    "    return [surname, name]"
   ]
  },
  {
   "cell_type": "code",
   "execution_count": 134,
   "metadata": {
    "collapsed": true
   },
   "outputs": [],
   "source": [
    "def IF(words):\n",
    "    surname=detectSurname(words[1])\n",
    "    name=detectName(words[0])\n",
    "    return [surname, name]"
   ]
  },
  {
   "cell_type": "code",
   "execution_count": 147,
   "metadata": {},
   "outputs": [
    {
     "name": "stdout",
     "output_type": "stream",
     "text": [
      "[[['бучнева', 1.0], ['анна', 1.0], ['всеволодовна', 1.0]]]\n"
     ]
    }
   ],
   "source": [
    "def HypothesisSearch(tmp):#не доделан\n",
    "    res = []\n",
    "    \n",
    "    hypo3 = {FIO: 0.40, IOF: 0.35, IFO: 0.25, ElseOptions: 0.05}\n",
    "    #hypo2 = {FI: 0.5, IF: 0.5}\n",
    "    #hypo = {FIO: 0.60, IOF: 0.40}\n",
    "    for t in tmp:\n",
    "        t = t.lower()\n",
    "        words = t.split(\" \")\n",
    "        for w in words: w.strip()\n",
    "        \n",
    "        if (len(words)==3):\n",
    "            method = lambda x:0\n",
    "            max = 0\n",
    "            for h in hypo3:\n",
    "                if (hypo3[h]>max):\n",
    "                    max = hypo3[h]\n",
    "                    method = h\n",
    "            res.append(method(words))\n",
    "        #elif (len(words)==2):\n",
    "                    \n",
    "        else: \n",
    "            res.append(t)\n",
    "    return res\n",
    "print(HypothesisSearch([\"Бучнева Анна Всеволодовна\"]))"
   ]
  },
  {
   "cell_type": "code",
   "execution_count": 109,
   "metadata": {},
   "outputs": [],
   "source": [
    "with open(\"D:/test_changed.pickle\",\"rb\") as f:\n",
    "    tmp=pickle.load(f)"
   ]
  },
  {
   "cell_type": "code",
   "execution_count": 110,
   "metadata": {
    "collapsed": false
   },
   "outputs": [],
   "source": [
    "testing_res=NotBruteEnough(tmp)\n",
    "for fio in testing_res:\n",
    "    print(fio)"
   ]
  },
  {
   "cell_type": "code",
   "execution_count": null,
   "metadata": {},
   "outputs": [],
   "source": [
    "errs=0\n",
    "for i in testing_res:\n",
    "    if (i.find(\"%\")!=-1):\n",
    "        print (i)\n",
    "        errs+=1\n",
    "print(\"Всего не уверены в: \" + str(errs))"
   ]
  }
 ],
 "metadata": {
  "kernelspec": {
   "display_name": "Python 3",
   "language": "python",
   "name": "python3"
  },
  "language_info": {
   "codemirror_mode": {
    "name": "ipython",
    "version": 3
   },
   "file_extension": ".py",
   "mimetype": "text/x-python",
   "name": "python",
   "nbconvert_exporter": "python",
   "pygments_lexer": "ipython3",
   "version": "3.6.1"
  }
 },
 "nbformat": 4,
 "nbformat_minor": 2
}
