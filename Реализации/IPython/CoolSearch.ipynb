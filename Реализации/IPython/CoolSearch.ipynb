{
 "cells": [
  {
   "cell_type": "code",
   "execution_count": 70,
   "metadata": {},
   "outputs": [
    {
     "name": "stdout",
     "output_type": "stream",
     "text": [
      "[2, 1, 0]\n"
     ]
    }
   ],
   "source": [
    "import urllib.parse\n",
    "import urllib.request\n",
    "import pickle\n",
    "import re\n",
    "import numpy as np"
   ]
  },
  {
   "cell_type": "code",
   "execution_count": 71,
   "metadata": {},
   "outputs": [
    {
     "name": "stdout",
     "output_type": "stream",
     "text": [
      "[2, 1, 0]\n"
     ]
    }
   ],
   "source": [
    "#я простой блок для проверки методов над матрицами. не смотрите на меня, я тут случайно\n",
    "    #      F I O\n",
    "result = [[0,0,1],\n",
    "          [0,1,0],\n",
    "          [1,0,0]]\n",
    "print(GetOrder(result))\n",
    "\n",
    "words = [\"Бучнева\", \"Анна\", \"Всеволодовна\"]"
   ]
  },
  {
   "cell_type": "code",
   "execution_count": 72,
   "metadata": {},
   "outputs": [],
   "source": [
    "path_to_names = \"D:/\"\n",
    "path_to_patronymics = \"D:/\"\n",
    "\n",
    "with open(path_to_names+\"NamesFromGufo.pickle\",\"rb\") as f:\n",
    "    tmpNames=pickle.load(f)\n",
    "with open(path_to_patronymics+\"PatronymicsFromGufo.pickle\",\"rb\") as f:\n",
    "    tmpPatronymics=pickle.load(f)    \n",
    "\n",
    "all_names=[]\n",
    "all_patronymics=[]\n",
    "\n",
    "for i in tmpNames:\n",
    "    all_names.append(i)\n",
    "for i in tmpPatronymics:\n",
    "    all_patronymics.append(i)"
   ]
  },
  {
   "cell_type": "code",
   "execution_count": 73,
   "metadata": {
    "collapsed": false
   },
   "outputs": [],
   "source": [
    "def NotBruteAtAll(tmp): #это будущий общий метод, в котором будут вызываться все следующие\n",
    "    res = []\n",
    "    \n",
    "    for t in temp:\n",
    "        result = [] #ответ в шаблоне ФИО\n",
    "        \n",
    "        resultStrict = StrictCheck(t)\n",
    "        if checkMatrix(resultStrict):\n",
    "            order = GetOrder(result)\n",
    "            for i in range(3):\n",
    "                result.append(words[order[i]])   \n",
    "        # + установить, что если частота меньше N проверить реплейсом (т.к. только редкие, э-экономия)\n",
    "        else:\n",
    "            resultRepl = ReplaceCheck(t)\n",
    "            resultReplValues = resultRepl.values()\n",
    "            \n",
    "            resultGramma = GrammaCheck(t) \n",
    "            #Сделать грамма чек если только все остальное пусто \n",
    "            # ИЛИ мы сравнили строгий результат и гибкий, и там все непонятно\n",
    "            #Потому что иначе, если уже найдено, то зачем проверять: если ошибка в написании, она может быть\n",
    "            resultStatistics = statistics\n",
    "            \n",
    "        #result = np.array(result)\n",
    "        #подсчитываем все с матрицами\n",
    "        #принимаем решение, записываем в рез\n",
    "        #вызываем метод SetStatistics и обновляем статистику порядка\n",
    "        \n",
    "        res.append(result)\n",
    "    return res"
   ]
  },
  {
   "cell_type": "code",
   "execution_count": 74,
   "metadata": {
    "collapsed": false
   },
   "outputs": [],
   "source": [
    "def GetOrder(matrix):\n",
    "    order = [0,0,0]\n",
    "    for j in range(3):\n",
    "        for i in range(3):\n",
    "            if (matrix[i][j]!=0):\n",
    "                order[j] = i\n",
    "                break\n",
    "    return order"
   ]
  },
  {
   "cell_type": "code",
   "execution_count": 75,
   "metadata": {
    "collapsed": false
   },
   "outputs": [],
   "source": [
    "def GetOrderAndCheck(matrix):\n",
    "    order = [None,None,None]\n",
    "    for j in range(3):\n",
    "        for i in range(3):\n",
    "            if (matrix[i][j]!=0):\n",
    "                if (i not in order):\n",
    "                    order[j] = i\n",
    "                    break\n",
    "                else: return False\n",
    "        if order[j] == None: return False\n",
    "    return order"
   ]
  },
  {
   "cell_type": "code",
   "execution_count": 76,
   "metadata": {
    "collapsed": false
   },
   "outputs": [],
   "source": [
    "def checkMatrix(matrix): #Если у нас в одной строке и столбце только по одному элементу, то возвращает True\n",
    "    for i in range(3):\n",
    "        k1 = 0\n",
    "        if (matrix[i] != 0):\n",
    "            k1 += 1\n",
    "            k2 = 0\n",
    "            for j in range(3):\n",
    "                if (matrix[i][j] != 0): k2+=1\n",
    "            if (k2 != 1):\n",
    "                return False\n",
    "        if (k1 != 1):\n",
    "            return False\n",
    "    return True"
   ]
  },
  {
   "cell_type": "code",
   "execution_count": 77,
   "metadata": {
    "collapsed": false
   },
   "outputs": [],
   "source": [
    "def GetMaxOrder(matrix):\n",
    "    order = [None,None,None]\n",
    "    for j in range(3):\n",
    "        maxI = 0\n",
    "        for i in range(3):\n",
    "            if (matrix[i][j]>matrix[maxI][j]):\n",
    "                maxI = i\n",
    "        if (maxI not in order):\n",
    "            order[j] = maxI\n",
    "        else: return False\n",
    "    return order"
   ]
  },
  {
   "cell_type": "code",
   "execution_count": 78,
   "metadata": {},
   "outputs": [],
   "source": [
    "def StrictCheck(temp): #строгая проверка\n",
    "    temp = temp.lower()\n",
    "    words = temp.split(\" \")\n",
    "    #          F I O\n",
    "    result = [[0,0,0],\n",
    "              [0,0,0],\n",
    "              [0,0,0]]\n",
    "    \n",
    "    for i in range(3):\n",
    "        w = words[i].strip()\n",
    "        \n",
    "        # ХДЕ БАЗА ФАМИЛИЙ \n",
    "        if (w in all_surnames): \n",
    "            result[i][0] = surnamesFrequency[w] \n",
    "            #пока делаю из расчета на то что у нас есть словарь с частотами      \n",
    "        if (w in all_names):\n",
    "            result[i][1] = namesFrequency[w]          \n",
    "        if (w in all_patronymics):\n",
    "            result[i][2] = patronymicsFrequency[w] \n",
    "            \n",
    "    return result"
   ]
  },
  {
   "cell_type": "code",
   "execution_count": 79,
   "metadata": {},
   "outputs": [],
   "source": [
    "def ReplaceCheck(temp): #проверка с перестановками\n",
    "    temp = temp.lower()\n",
    "    words = temp.split(\" \")\n",
    "    #          F I O\n",
    "    result = [[0,0,0],\n",
    "              [0,0,0],\n",
    "              [0,0,0]]\n",
    "\n",
    "    for i in range(3):\n",
    "        w = words[i].strip()\n",
    "        \n",
    "        result[i][0] = forReplaceCheck(w, all_surnames)\n",
    "        result[i][1] = forReplaceCheck(w, all_names)           \n",
    "        result[i][2] = forReplaceCheck(w, all_patronymics) \n",
    "    #В МАТРИЦЕ НЕ ПРОСТО ВЕРОЯТНОСТИ, А СЛОВАРЬ = СЛОВО: ВЕРОЯТНОСТЬ, ПОЭТОМУ СРАВНИВАТЬ ПО VALUE    \n",
    "    return result"
   ]
  },
  {
   "cell_type": "code",
   "execution_count": 80,
   "metadata": {},
   "outputs": [],
   "source": [
    "def forReplaceCheck(w, list): #выделила в отдельный метод, т.к. иначе приходилось три раза одно и тоже писать. Потна\n",
    "    res = [{},{}]\n",
    "    for l in list:\n",
    "        dist = shortDistance(w, l)\n",
    "        if (dist != False):\n",
    "            res[int(dist)-1][l] = 1 #frequency*10**(-2*dist)\n",
    "    #проверить почему при поиске Анны выдает две Юноны?\n",
    "    r1 = max(res[0])\n",
    "    r2 = max(res[1])\n",
    "    return max(r1, r2)"
   ]
  },
  {
   "cell_type": "code",
   "execution_count": 81,
   "metadata": {},
   "outputs": [],
   "source": [
    "def shortDistance(word, dictWord): #упрощенное расстояние (поиск только с опечаткой 1 и 2)\n",
    "    #word - слово которое проверяем\n",
    "    #dictWord - слово из списка, с которым сравниваем\n",
    "    if word == dictWord: return 0\n",
    "    elif len(word) == 0: return len(dictWord)\n",
    "    elif len(dictWord) == 0: return len(word)\n",
    "    elif len(dictWord) > len(word)+2 and len(dictWord) < len(word)+2:\n",
    "        return False\n",
    "    dist = levenshtein(word, dictWord)\n",
    "    if (dist == 1 or dist==2):\n",
    "        return dist\n",
    "    else: return False"
   ]
  },
  {
   "cell_type": "code",
   "execution_count": 82,
   "metadata": {
    "collapsed": false
   },
   "outputs": [],
   "source": [
    "def levenshtein(s, t): #расстояние Левенштейна\n",
    "    if s == t: return 0\n",
    "    elif len(s) == 0: return len(t)\n",
    "    elif len(t) == 0: return len(s)\n",
    "    v0 = [None] * (len(t) + 1)\n",
    "    v1 = [None] * (len(t) + 1)   \n",
    "    for i in range(len(v0)):\n",
    "        v0[i] = i\n",
    "    for i in range(len(s)):\n",
    "        v1[0] = i + 1\n",
    "        for j in range(len(t)):\n",
    "            cost = 0 if s[i] == t[j] else 1\n",
    "            v1[j + 1] = min(v1[j] + 1, v0[j + 1] + 1, v0[j] + cost)\n",
    "        for j in range(len(v0)):\n",
    "            v0[j] = v1[j]\n",
    "    return v1[len(t)]"
   ]
  },
  {
   "cell_type": "code",
   "execution_count": 83,
   "metadata": {
    "collapsed": false
   },
   "outputs": [],
   "source": [
    "def GrammaCheck(temp): #проверка по грамматике\n",
    "    temp = temp.lower()\n",
    "    words = temp.split(\" \")\n",
    "    #          F I O\n",
    "    result = [[0,0,0],\n",
    "              [0,0,0],\n",
    "              [0,0,0]]\n",
    "\n",
    "    for i in range(3):\n",
    "        w = words[i].strip()\n",
    "        result[i][0] = checkSurnames(w)\n",
    "        result[i][2] = checkPatronymic(w)\n",
    "\n",
    "    k = 0\n",
    "    for i in range(3):\n",
    "        flag = True\n",
    "        for j in range(3):\n",
    "            if (result[i][j] != 0): \n",
    "                flag = False \n",
    "                break\n",
    "        if(flag):\n",
    "            result[i][1] = 1\n",
    "            k+=1\n",
    "    if(k==0):\n",
    "        for i in range(3): result[i][1] = 0.33\n",
    "    elif(k>1): \n",
    "        for i in range(3): result[i][1] = result[i][1]/k\n",
    "    return result"
   ]
  },
  {
   "cell_type": "code",
   "execution_count": 84,
   "metadata": {},
   "outputs": [],
   "source": [
    "def checkSurnames(s):#раньше возвращало тру фолс, теперь 1 или 0\n",
    "    pattern = '\\w*(ов|ова|ев|ёв|ева|ёва|ив|ин|ина|ын|их|ых|ский|цкий|ая|ко|дзе|онок|ян)$'\n",
    "    if (re.match(pattern,s)): return 1\n",
    "    else: return 0"
   ]
  },
  {
   "cell_type": "code",
   "execution_count": 85,
   "metadata": {},
   "outputs": [],
   "source": [
    "def checkPatronymic(s):\n",
    "    pattern = '\\w*(ович|евич|ич|овна|евна|ична|инична)$'\n",
    "    if (re.match(pattern,s)):\n",
    "        return 1\n",
    "    else: return 0"
   ]
  },
  {
   "cell_type": "code",
   "execution_count": 86,
   "metadata": {},
   "outputs": [],
   "source": [
    "#               F     I    O\n",
    "statistics = [[0.50,0.45,0.05],\n",
    "              [0.10,0.50,0.40],\n",
    "              [0.40,0.05,0.55]]\n",
    "# FIO: 0.50, IOF: 0.40, IFO: 0.15, ElseOptions: 0.05\n",
    "#пока что совсем от балды, простите\n",
    "def SetStatistics(order):\n",
    "    for i in range(3):\n",
    "        for j in range(3):\n",
    "            if (j == order[i]): \n",
    "                statistics[i][j] += 0.002\n",
    "            else: statistics[i][j] -= 0.001\n",
    "#Обновляет статистику с учетом результата выполнения алгоритма            "
   ]
  },
  {
   "cell_type": "code",
   "execution_count": 87,
   "metadata": {},
   "outputs": [],
   "source": [
    "def Test(): \n",
    "    with open(\"D:/test_changed.pickle\",\"rb\") as f:\n",
    "        tmp=pickle.load(f)\n",
    "    \n",
    "    testing_res=NotBruteEnough(tmp)\n",
    "    for fio in testing_res:\n",
    "        print(fio)\n",
    "\n",
    "    errs=0\n",
    "    for i in testing_res:\n",
    "        if (i.find(\"%\")!=-1):\n",
    "            print (i)\n",
    "            errs+=1\n",
    "    print(\"Всего не уверены в: \" + str(errs))"
   ]
  },
  {
   "cell_type": "code",
   "execution_count": 88,
   "metadata": {},
   "outputs": [],
   "source": [
    "def NotBruteEnough(tmp):\n",
    "    res = []\n",
    "\n",
    "    for t in tmp:\n",
    "        name = \"\"\n",
    "        surname = \"\"\n",
    "        patronymic = \"\"\n",
    "        t = t.lower()\n",
    "        words = t.split(\" \")\n",
    "\n",
    "        for w in words:\n",
    "            w.strip()\n",
    "            if (name == \"\"):\n",
    "                if (w in all_names):\n",
    "                    name = w\n",
    "\n",
    "            if (patronymic == \"\"):\n",
    "                if (w in all_patronymics):\n",
    "                    patronymic = w\n",
    "\n",
    "            if (name != w and patronymic != w and checkSurnames(w) and surname == \"\"):\n",
    "                surname = w\n",
    "\n",
    "        if (name in words): words.remove(name)\n",
    "        if (patronymic in words): words.remove(patronymic)\n",
    "        if (surname in words): words.remove(surname)\n",
    "\n",
    "        if (name == \"\") & (len(words) > 0):\n",
    "            foundWord = \"\"\n",
    "            for w in words:\n",
    "                minDist = len(w)\n",
    "                for n in all_names:\n",
    "                    dist = levenshtein(w, n)\n",
    "                    if dist < minDist:\n",
    "                        minDist = dist\n",
    "                        name = n.title() #+ \" (\" + str(round((1 - minDist / len(w)) * 100)) + \"% \" + w + \")\"\n",
    "                        foundWord = w\n",
    "            words.remove(foundWord)\n",
    "\n",
    "        if (patronymic == \"\") & (len(words) > 0):\n",
    "            foundWord = \"\"\n",
    "            for w in words:\n",
    "                minDist = len(w)\n",
    "                for p in all_patronymics:\n",
    "                    dist = levenshtein(w, p)\n",
    "                    if dist < minDist:\n",
    "                        minDist = dist\n",
    "                        patronymic = p.title() #+ \" (\" + str(round((1 - minDist / len(w)) * 100)) + \"% \" + w + \")\"\n",
    "                        foundWord = w\n",
    "            words.remove(foundWord)\n",
    "\n",
    "        if (surname == \"\")& (len(words) > 0):\n",
    "            surname = words[0]\n",
    "\n",
    "        name = name.title()\n",
    "        surname = surname.title()\n",
    "        patronymic = patronymic.title()\n",
    "        res.append(surname + \" \" + name + \" \" + patronymic)\n",
    "\n",
    "    return res"
   ]
  },
  {
   "cell_type": "code",
   "execution_count": 89,
   "metadata": {},
   "outputs": [],
   "source": [
    "#genders Пока не используем\n",
    "genderTuple = ('male', 'female', 'unknown')\n",
    "\n",
    "def checkSurnamesGender(s):\n",
    "    patternMale = '\\w*(ов|ев|ий|ын|ин)$'\n",
    "    patternFem ='\\w*(ова|ева|ая|ина|ына)$'\n",
    "    patternUnknown = '\\w*(их|ых|ко|ук|юк|ун|ний|ный|чай|ий|а|ич|ов|ук|ик|ски|ка|ски|цки|дзки)$'\n",
    "    \n",
    "    if (re.match(patternMale,s)):\n",
    "        return genderTuple[0]\n",
    "    elif (re.match(patternFem,s)):\n",
    "        return genderTuple[1]\n",
    "    elif (re.match(patternUnknown,s)):\n",
    "        return genderTuple[2]\n",
    "    else: return 'No'\n",
    "\n",
    "def changeGenderSurname(s):\n",
    "    patternMaleA = '\\w*(ов|ев|ин|ын)$'\n",
    "    patternFemA ='\\w*(ова|ева|ина|ына)$'\n",
    "    patternMaleB = '\\w*(ий)$'\n",
    "    patternFemB = '\\w*(ая)$'\n",
    "    \n",
    "    if(re.match(patternMaleA, s)):\n",
    "        return s + 'a'\n",
    "    elif (re.match(patternMaleB, s)):       \n",
    "        s += ' '\n",
    "        return s.replace('ий ', 'ая')\n",
    "    elif (re.match(patternFemA, s)):\n",
    "        return s[0: len(s)-1]\n",
    "    elif (re.match(patternFemB, s)): \n",
    "        s += ' '\n",
    "        return s.replace('ая ', 'ий')\n",
    "    else: return s\n",
    "\n",
    "def checkPatronymicGender(s):\n",
    "    patternMale = '\\w*(ович|евич|ич)$'\n",
    "    patternFem ='\\w*(овна|евна|ична|инична)$'\n",
    "   \n",
    "    if (re.match(patternMale,s)):\n",
    "        return genderTuple[0]\n",
    "    elif (re.match(patternFem,s)):\n",
    "        return genderTuple[1]\n",
    "    else: return 'No'    \n",
    "\n",
    "def changeGenderPatronymic(s):\n",
    "    patternMaleA = '\\w*(ович|евич)$'\n",
    "    patternFemA ='\\w*(овна|евна)$'\n",
    "    patternMaleB = '\\w*(ич)$'\n",
    "    patternFemB = '\\w*(ична|инична)$'\n",
    "\n",
    "    if(re.match(patternMaleA, s)):\n",
    "        s += ' '\n",
    "        return s.replace('ич ', 'на')\n",
    "    if(re.match(patternFemA, s)):\n",
    "        s += ' '\n",
    "        return s.replace('на ', 'ич')     \n",
    "    if(re.match(patternMaleB, s)):\n",
    "        return s + 'на'   \n",
    "    if(re.match(patternFemB, s)):\n",
    "        s += ' '\n",
    "        s = s.replace('инична ', 'ич')\n",
    "        s = s.replace('ична ', 'ич')\n",
    "        return s    \n",
    "    else: return s\n"
   ]
  },
  {
   "cell_type": "code",
   "execution_count": 90,
   "metadata": {},
   "outputs": [],
   "source": []
  },
  {
   "cell_type": "code",
   "execution_count": 90,
   "metadata": {},
   "outputs": [],
   "source": []
  },
  {
   "cell_type": "code",
   "execution_count": 90,
   "metadata": {},
   "outputs": [],
   "source": []
  },
  {
   "cell_type": "code",
   "execution_count": null,
   "metadata": {},
   "outputs": [],
   "source": []
  }
 ],
 "metadata": {
  "kernelspec": {
   "display_name": "Python 3",
   "language": "python",
   "name": "python3"
  },
  "language_info": {
   "codemirror_mode": {
    "name": "ipython",
    "version": 3
   },
   "file_extension": ".py",
   "mimetype": "text/x-python",
   "name": "python",
   "nbconvert_exporter": "python",
   "pygments_lexer": "ipython3",
   "version": "3.6.1"
  }
 },
 "nbformat": 4,
 "nbformat_minor": 2
}
