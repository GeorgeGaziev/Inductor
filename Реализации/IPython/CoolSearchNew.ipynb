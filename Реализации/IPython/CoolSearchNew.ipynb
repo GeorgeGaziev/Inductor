def NotBruteAtAll(temp):
    res = []
    for t in temp:
        
        t = t.lower()
        words = t.split(" ")
        #+добавить здесь некую предобработку вводимой строки - удалить лишние пробелы, изменить е-ё и т.д.
        #Кроме того, можно здесь, если есть фамилии не двойные, а просто с приставками (фон, оглы ...) 
        # просто приклеить их к соответсвующему слову
        
        result = WordsProcessing(words)
        
        #SetStatistics(order)
        gender = CheckGender(result)
        
        output = ""
        for r in result:
            for w in r:
                output += w.title() + " " 
        output += gender
        res.append(output)
        # #final = final[:-1]
        # final += gender
    return res